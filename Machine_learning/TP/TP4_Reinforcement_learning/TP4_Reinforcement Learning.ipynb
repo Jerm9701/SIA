{
 "cells": [
  {
   "cell_type": "markdown",
   "metadata": {
    "id": "pirKNXxZk2Bd"
   },
   "source": [
    "**Libraries**\n",
    "\n"
   ]
  },
  {
   "cell_type": "code",
   "execution_count": 1,
   "metadata": {
    "executionInfo": {
     "elapsed": 349,
     "status": "ok",
     "timestamp": 1719171760030,
     "user": {
      "displayName": "Hajar El Hassani",
      "userId": "04871212387096863719"
     },
     "user_tz": -120
    },
    "id": "PATezzl4kmFw"
   },
   "outputs": [],
   "source": [
    "import numpy as np\n",
    "import random\n",
    "import matplotlib.pyplot as plt"
   ]
  },
  {
   "cell_type": "markdown",
   "metadata": {
    "id": "6pr1EnoQk_nr"
   },
   "source": [
    "**MDP class**"
   ]
  },
  {
   "cell_type": "code",
   "execution_count": 2,
   "metadata": {
    "executionInfo": {
     "elapsed": 272,
     "status": "ok",
     "timestamp": 1719171761724,
     "user": {
      "displayName": "Hajar El Hassani",
      "userId": "04871212387096863719"
     },
     "user_tz": -120
    },
    "id": "vJ8BrmeJk0X8"
   },
   "outputs": [],
   "source": [
    "# MDP class\n",
    "# The class takes four parameters: transition_probs, rewards, initial_state, and terminal_states.\n",
    "\n",
    "# transition_probs: dictionary that defines the probabilities of transitioning from one state to another given a certain action.\n",
    "# rewards: dictionary that specifies the rewards received when transitioning from one state to another using a particular action.\n",
    "# initial_state: starting state of the MDP.\n",
    "# terminal_states: list of states that are considered terminal, meaning the process ends when these states are reached.\n",
    "\n",
    "class MDP:\n",
    "    def __init__(self, transition_probs, rewards, initial_state, terminal_states=None):\n",
    "        self.transition_probs = transition_probs\n",
    "        self.rewards = rewards\n",
    "        self.initial_state = initial_state\n",
    "        self.state = initial_state\n",
    "        self.terminal_states = terminal_states if terminal_states else []\n",
    "\n",
    "    def get_all_states(self):\n",
    "        return list(self.transition_probs.keys())\n",
    "\n",
    "    def get_possible_actions(self, state):\n",
    "        return list(self.transition_probs[state].keys())\n",
    "\n",
    "    def get_next_states(self, state, action):\n",
    "        return self.transition_probs[state][action]\n",
    "\n",
    "    def get_transition_prob(self, state, action, next_state):\n",
    "        return self.transition_probs[state][action].get(next_state, 0) # Returns 0 if next_state is not found.\n",
    "\n",
    "    def get_reward(self, state, action, next_state):\n",
    "        return self.rewards.get(state, {}).get(action, {}).get(next_state, 0)\n",
    "\n",
    "    def reset(self):\n",
    "        self.state = self.initial_state\n",
    "        return self.state\n",
    "\n",
    "    def is_terminal(self, state):\n",
    "        return state in self.terminal_states\n",
    "\n",
    "    def get_next_state(self, state, action):\n",
    "        next_states = self.transition_probs[state][action]\n",
    "        next_state = max(next_states, key=next_states.get)\n",
    "        return next_state\n",
    "\n",
    "    def step(self, action):\n",
    "        next_states_probs = self.transition_probs[self.state][action]\n",
    "        next_states = list(next_states_probs.keys())\n",
    "        probabilities = list(next_states_probs.values())\n",
    "        next_state = np.random.choice(next_states, p=probabilities)\n",
    "        reward = self.get_reward(self.state, action, next_state)\n",
    "        self.state = next_state\n",
    "        done = self.is_terminal(next_state)\n",
    "        return next_state, reward, done"
   ]
  },
  {
   "cell_type": "markdown",
   "metadata": {
    "id": "9AFdD8-vlXwz"
   },
   "source": [
    "**Define the transition probabilities and rewards**"
   ]
  },
  {
   "cell_type": "code",
   "execution_count": 3,
   "metadata": {
    "executionInfo": {
     "elapsed": 2,
     "status": "ok",
     "timestamp": 1719171764744,
     "user": {
      "displayName": "Hajar El Hassani",
      "userId": "04871212387096863719"
     },
     "user_tz": -120
    },
    "id": "5hMOiBfBldtE"
   },
   "outputs": [],
   "source": [
    "transition_probs = {\n",
    "    's0': {\n",
    "        'a0': {'s0': 0.6, 's1': 0.4},\n",
    "        'a1': {'s1': 0.8, 's2': 0.2}\n",
    "    },\n",
    "    's1': {\n",
    "        'a0': {'s0': 0.3, 's2': 0.7},\n",
    "        'a1': {'s2': 1.0}\n",
    "    },\n",
    "    's2': {\n",
    "        'a0': {'s1': 0.5, 's2': 0.5},\n",
    "        'a1': {'s0': 0.3, 's2': 0.7}\n",
    "    }\n",
    "}\n",
    "\n",
    "rewards = {\n",
    "    's0': {\n",
    "        'a0': {'s0': 0, 's1': 0},\n",
    "        'a1': {'s1': 2, 's2': 0}\n",
    "    },\n",
    "    's1': {\n",
    "        'a0': {'s0': 0, 's2': 3},\n",
    "        'a1': {'s2': 0}\n",
    "    },\n",
    "    's2': {\n",
    "        'a0': {'s1': 0, 's2': 0},\n",
    "        'a1': {'s0': -2, 's2': 0}\n",
    "    }\n",
    "}\n",
    "\n",
    "# YOUR CODE HERE\n",
    "# YOUR CODE HERE"
   ]
  },
  {
   "cell_type": "code",
   "execution_count": 42,
   "metadata": {},
   "outputs": [
    {
     "data": {
      "text/plain": [
       "2"
      ]
     },
     "execution_count": 42,
     "metadata": {},
     "output_type": "execute_result"
    }
   ],
   "source": [
    "rewards['s0']['a1']['s1']"
   ]
  },
  {
   "cell_type": "markdown",
   "metadata": {
    "id": "8lRakc9TnRZB"
   },
   "source": [
    "**Getting familiar with MDP class**"
   ]
  },
  {
   "cell_type": "code",
   "execution_count": 4,
   "metadata": {
    "id": "yz_T2yFqnTnF"
   },
   "outputs": [
    {
     "name": "stdout",
     "output_type": "stream",
     "text": [
      "All states: ['s0', 's1', 's2']\n",
      "Possible actions from 's0': ['a0', 'a1']\n",
      "Next states for action 'a0' from state 's0': {'s0': 0.6, 's1': 0.4}\n",
      "Transition probability from 's0' to 's1' with action 'a0': 0.4\n",
      "Reward from 's0' to 's1' with action 'a0': 0\n",
      "Current state: s1\n"
     ]
    }
   ],
   "source": [
    "initial_state = 's0'\n",
    "terminal_states = ['s2']\n",
    "\n",
    "# Create the MDP instance\n",
    "mdp = MDP(transition_probs, rewards, initial_state, terminal_states)\n",
    "\n",
    "# Get all states\n",
    "all_states = mdp.get_all_states()\n",
    "print(f\"All states: {all_states}\")\n",
    "\n",
    "# Get possible actions from state 's0'\n",
    "possible_actions = mdp.get_possible_actions('s0')\n",
    "print(f\"Possible actions from 's0': {possible_actions}\")\n",
    "\n",
    "# Get next states for action 'a0' from state 's0'\n",
    "next_states = mdp.get_next_states('s0', 'a0')\n",
    "print(f\"Next states for action 'a0' from state 's0': {next_states}\")\n",
    "\n",
    "# Get transition probability from 's0' to 's1' with action 'a0'\n",
    "transition_prob = mdp.get_transition_prob('s0', 'a0', 's1')\n",
    "print(f\"Transition probability from 's0' to 's1' with action 'a0': {transition_prob}\")\n",
    "\n",
    "# Get the reward of transitioning from state to next state by taking action\n",
    "reward = mdp.get_reward('s0', 'a0', 's1')\n",
    "print(f\"Reward from 's0' to 's1' with action 'a0': {reward}\")\n",
    "\n",
    "state,reward, done = mdp.step('a0')\n",
    "print(f\"Current state: {mdp.state}\")"
   ]
  },
  {
   "cell_type": "markdown",
   "metadata": {
    "id": "ZrxAgBrwowG_"
   },
   "source": [
    "# **Solving the MDP with Value Iteration algorithm**"
   ]
  },
  {
   "cell_type": "code",
   "execution_count": 5,
   "metadata": {
    "executionInfo": {
     "elapsed": 261,
     "status": "ok",
     "timestamp": 1719171786105,
     "user": {
      "displayName": "Hajar El Hassani",
      "userId": "04871212387096863719"
     },
     "user_tz": -120
    },
    "id": "MrdwfhAInSAK"
   },
   "outputs": [],
   "source": [
    "def initialize_value_function(states):\n",
    "    \"\"\"\n",
    "    Inputs:\n",
    "      states: list of all states in the MDP.\n",
    "\n",
    "    Returns:\n",
    "      dict: dictionary with states as keys and 0 as initial values.\n",
    "    \"\"\"\n",
    "    init_states = {}\n",
    "    keys = mdp.get_all_states()\n",
    "    values = np.zeros(len(keys))\n",
    "    init_states = dict(zip(keys, values))\n",
    "    return init_states\n"
   ]
  },
  {
   "cell_type": "code",
   "execution_count": 6,
   "metadata": {},
   "outputs": [
    {
     "name": "stdout",
     "output_type": "stream",
     "text": [
      "{'s0': 0.0, 's1': 0.0, 's2': 0.0}\n"
     ]
    },
    {
     "data": {
      "text/plain": [
       "0.0"
      ]
     },
     "execution_count": 6,
     "metadata": {},
     "output_type": "execute_result"
    }
   ],
   "source": [
    "init_states = initialize_value_function(all_states)\n",
    "print(init_states)\n",
    "max(init_states.values())"
   ]
  },
  {
   "cell_type": "code",
   "execution_count": 7,
   "metadata": {
    "id": "rUbAAQRonaJ4"
   },
   "outputs": [
    {
     "data": {
      "text/plain": [
       "{'s0': 1.6, 's1': 2.5319999999999996, 's2': 0.0}"
      ]
     },
     "execution_count": 7,
     "metadata": {},
     "output_type": "execute_result"
    }
   ],
   "source": [
    "def update_value_function(mdp, value_function, discount_factor):\n",
    "    \"\"\"\n",
    "    Inputs:\n",
    "      mdp: your mdp instance.\n",
    "      value_function: current value function.\n",
    "      discount_factor: discount factor for future rewards.\n",
    "\n",
    "    Returns:\n",
    "      dict: updated value function.\n",
    "    \"\"\"\n",
    "    new_value_function = value_function.copy()\n",
    "\n",
    "    for state in mdp.get_all_states():\n",
    "        if not mdp.is_terminal(state):\n",
    "            max_value = float('-inf')\n",
    "            for action in mdp.get_possible_actions(state):\n",
    "                # initialize the expected value: YOUR CODE HERE\n",
    "                expected_value = 0\n",
    "                for next_state in mdp.get_next_states(state, action):  \n",
    "                    #transition_prob = YOUR CODE HERE\n",
    "                    transition_prob = mdp.get_transition_prob(state,action,next_state)\n",
    "                    #reward = YOUR CODE HERE\n",
    "                    reward = mdp.get_reward(state,action,next_state)\n",
    "                    #expected_value = YOUR CODE HERE\n",
    "                    expected_value += transition_prob*(reward+discount_factor*new_value_function[next_state])\n",
    "                #max_value = YOUR CODE \n",
    "\n",
    "                max_value = max(expected_value,max_value)\n",
    "            new_value_function[state] = max_value\n",
    "\n",
    "    return new_value_function\n",
    "initial_state=initialize_value_function(all_states)\n",
    "update_value_function(mdp,initial_state,0.9)\n"
   ]
  },
  {
   "cell_type": "code",
   "execution_count": 8,
   "metadata": {},
   "outputs": [],
   "source": [
    "mdp = MDP(transition_probs, rewards, initial_state)"
   ]
  },
  {
   "cell_type": "code",
   "execution_count": 17,
   "metadata": {
    "id": "VgPXDDAHncFZ"
   },
   "outputs": [],
   "source": [
    "def value_iteration(mdp, discount_factor, threshold):\n",
    "    \"\"\"\n",
    "    Inputs:\n",
    "      mdp: your mdp instance.\n",
    "      discount_factor: discount factor for future rewards.\n",
    "      threshold: threshold for convergence.\n",
    "\n",
    "    Returns:\n",
    "      dict: optimal value function.\n",
    "      list: history of value functions over iterations.\n",
    "    \"\"\"\n",
    "    # initialize the value function: YOUR CODE HERE\n",
    "    value_function = initialize_value_function(mdp)\n",
    "    # iterate until convergence\n",
    "    # YOUR CODE HERE\n",
    "    history = []\n",
    "    difference = 1\n",
    "    count = 0\n",
    "    while difference> threshold:\n",
    "\n",
    "      new_value_function = update_value_function(mdp,value_function,discount_factor)\n",
    "      history.append(new_value_function)\n",
    "      count+=1\n",
    "      difference = abs(sum(new_value_function.values())-sum(value_function.values()))\n",
    "      value_function = new_value_function\n",
    "    return value_function, history"
   ]
  },
  {
   "cell_type": "code",
   "execution_count": 19,
   "metadata": {},
   "outputs": [
    {
     "name": "stdout",
     "output_type": "stream",
     "text": [
      "38\n",
      "{'s0': 10.353911591169746, 's1': 10.09697976060065, 's2': 8.258943485830878}\n"
     ]
    }
   ],
   "source": [
    "value_function,history=value_iteration(mdp,0.9,0.01)\n",
    "print(len(history))\n",
    "print(history[-1])"
   ]
  },
  {
   "cell_type": "code",
   "execution_count": 28,
   "metadata": {},
   "outputs": [
    {
     "data": {
      "text/plain": [
       "[<matplotlib.lines.Line2D at 0x1448aaaecc0>]"
      ]
     },
     "execution_count": 28,
     "metadata": {},
     "output_type": "execute_result"
    },
    {
     "data": {
      "image/png": "[encoded data removed]",
      "text/plain": [
       "<Figure size 640x480 with 1 Axes>"
      ]
     },
     "metadata": {},
     "output_type": "display_data"
    }
   ],
   "source": [
    "s0_list=[step['s0'] for step in history]\n",
    "s1_list=[step['s1'] for step in history]\n",
    "s2_list=[step['s2'] for step in history]\n",
    "x = np.arange(0,len(s0_list))\n",
    "plt.plot(x,s0_list,'r')\n",
    "plt.plot(x,s1_list,'g')\n",
    "plt.plot(x,s2_list,'b')"
   ]
  },
  {
   "cell_type": "markdown",
   "metadata": {
    "id": "QvEKucZHoVd5"
   },
   "source": [
    "**Question 1**"
   ]
  },
  {
   "cell_type": "markdown",
   "metadata": {},
   "source": [
    "The discount factor is used to increase the weight of immediate rewards and penalize rewards obtained after a long time.\n",
    "Its values are between 0 and 1"
   ]
  },
  {
   "cell_type": "markdown",
   "metadata": {
    "id": "1rEsBGPhoZbP"
   },
   "source": [
    "**Question 2**"
   ]
  },
  {
   "cell_type": "markdown",
   "metadata": {},
   "source": [
    "The stopping criterion is used to stop the MDP after it reaches convergence. It is still required in practice even if the MDP has a terminal state to stop the MDP if it converges before reaching the terminal state."
   ]
  },
  {
   "cell_type": "markdown",
   "metadata": {
    "id": "xQ-VnKzoobno"
   },
   "source": [
    "**Question 3**"
   ]
  },
  {
   "cell_type": "markdown",
   "metadata": {},
   "source": [
    "The optimal policy for an MDP is the best action to take for each state.\n",
    "Since the state s0 has the highest reward, the optimal policy should be to return to state s0 if the state is s1 or s2, and go to s1, the second highest reward if the state is s1."
   ]
  },
  {
   "cell_type": "code",
   "execution_count": 35,
   "metadata": {
    "id": "xyhYuemqno_s"
   },
   "outputs": [],
   "source": [
    "def get_optimal_policy(mdp, value_function, discount_factor):\n",
    "    \"\"\"\n",
    "    Inputs:\n",
    "      mdp: your MDP instance.\n",
    "      value_function: the converged value function.\n",
    "      discount_factor: discount factor for future rewards.\n",
    "    Returns:\n",
    "      dict: optimal policy.\n",
    "    \"\"\"\n",
    "    # YOUR CODE HERE\n",
    "    new_value_function = value_function.copy()\n",
    "    \n",
    "    policy = {'s0':'a0','s1':'a0','s2':'a0'}\n",
    "    for state in mdp.get_all_states():\n",
    "        if not mdp.is_terminal(state):\n",
    "            max_value = 0\n",
    "            for action in mdp.get_possible_actions(state):\n",
    "                # initialize the expected value: YOUR CODE HERE\n",
    "                expected_value = 0\n",
    "                for next_state in mdp.get_next_states(state, action):  \n",
    "                    #transition_prob = YOUR CODE HERE\n",
    "                    transition_prob = mdp.get_transition_prob(state,action,next_state)\n",
    "                    #reward = YOUR CODE HERE\n",
    "                    reward = mdp.get_reward(state,action,next_state)\n",
    "                    #expected_value = YOUR CODE HERE\n",
    "                    expected_value += transition_prob*(reward+discount_factor*new_value_function[next_state])\n",
    "                if expected_value>max_value:\n",
    "                  policy[state] =action\n",
    "                  max_value=expected_value\n",
    "\n",
    "    return policy"
   ]
  },
  {
   "cell_type": "markdown",
   "metadata": {
    "id": "Ua8lST97oexc"
   },
   "source": [
    "**Question 4**"
   ]
  },
  {
   "cell_type": "code",
   "execution_count": 36,
   "metadata": {},
   "outputs": [
    {
     "data": {
      "text/plain": [
       "{'s0': 'a1', 's1': 'a0', 's2': 'a0'}"
      ]
     },
     "execution_count": 36,
     "metadata": {},
     "output_type": "execute_result"
    }
   ],
   "source": [
    "get_optimal_policy(mdp,history[-1],0.9)"
   ]
  },
  {
   "cell_type": "markdown",
   "metadata": {},
   "source": [
    "This confirms that the best policy is to return to s0 if state is not s0, else go to s1"
   ]
  },
  {
   "cell_type": "markdown",
   "metadata": {
    "id": "__txIesxogad"
   },
   "source": [
    "**Question 5**"
   ]
  },
  {
   "cell_type": "markdown",
   "metadata": {},
   "source": [
    "same answer "
   ]
  },
  {
   "cell_type": "markdown",
   "metadata": {
    "id": "O-gX2sBwoo6D"
   },
   "source": [
    "# **Solving the MDP with Q-learning**"
   ]
  },
  {
   "cell_type": "markdown",
   "metadata": {
    "id": "QasZguK7ojrv"
   },
   "source": [
    "**Question 6**"
   ]
  },
  {
   "cell_type": "markdown",
   "metadata": {},
   "source": [
    "The Q-learning algorithm estimates the best action to take for each state, whereas the MPD computes the value of each state, it needs complete information. The Q-learning algorithm doesn't need the transition probabilities or rewards."
   ]
  },
  {
   "cell_type": "markdown",
   "metadata": {
    "id": "0PGLYXcBo-ym"
   },
   "source": [
    "**Question 7**"
   ]
  },
  {
   "cell_type": "markdown",
   "metadata": {},
   "source": [
    "The Q-table gives the expected reward for each action for each state, and is needed to get the action that gives the best expected reward for the given state."
   ]
  },
  {
   "cell_type": "code",
   "execution_count": 73,
   "metadata": {
    "id": "Oyo9kn0VnzYi"
   },
   "outputs": [],
   "source": [
    "def initialize_q_table(states, actions):\n",
    "    \"\"\"\n",
    "    Inputs:\n",
    "      states: all possible states\n",
    "      actions: all possible actions.\n",
    "\n",
    "    Returns:\n",
    "      dict: Q-table initialized.\n",
    "    \"\"\"\n",
    "    Q = []\n",
    "    for state in states :\n",
    "        for action in actions :\n",
    "            Q.append([state,action,0])\n",
    "    return Q"
   ]
  },
  {
   "cell_type": "code",
   "execution_count": 130,
   "metadata": {},
   "outputs": [
    {
     "data": {
      "text/plain": [
       "[['s0', 'a0', 0],\n",
       " ['s0', 'a1', 0],\n",
       " ['s1', 'a0', 0],\n",
       " ['s1', 'a1', 0],\n",
       " ['s2', 'a0', 0],\n",
       " ['s2', 'a1', 0]]"
      ]
     },
     "execution_count": 130,
     "metadata": {},
     "output_type": "execute_result"
    }
   ],
   "source": [
    "Q = initialize_q_table(['s0','s1','s2'],['a0','a1'])\n",
    "Q"
   ]
  },
  {
   "cell_type": "markdown",
   "metadata": {
    "id": "kyI56cVApRjg"
   },
   "source": [
    "**Question 8**"
   ]
  },
  {
   "cell_type": "markdown",
   "metadata": {},
   "source": [
    "The exploration step is randomly choosing new actions to discover potential rewards, the exploitation is choosing the best known action to maximize the reward. The eps-greedy algorithm randomly chooses to take an exploration action with a probability of eps, or an expoloitation action with the probability 1-eps. If the eps is too small,  there won't be enough exploration and the algorithm won't be very accurate, if eps is too high, the exploitation will be rare and the algorithm will be very slow."
   ]
  },
  {
   "cell_type": "code",
   "execution_count": 105,
   "metadata": {},
   "outputs": [
    {
     "data": {
      "text/plain": [
       "0"
      ]
     },
     "execution_count": 105,
     "metadata": {},
     "output_type": "execute_result"
    }
   ],
   "source": [
    "Q[0][2]"
   ]
  },
  {
   "cell_type": "code",
   "execution_count": 97,
   "metadata": {},
   "outputs": [
    {
     "data": {
      "text/plain": [
       "0.09621681765341183"
      ]
     },
     "execution_count": 97,
     "metadata": {},
     "output_type": "execute_result"
    }
   ],
   "source": [
    "random.random()"
   ]
  },
  {
   "cell_type": "code",
   "execution_count": 91,
   "metadata": {},
   "outputs": [
    {
     "data": {
      "text/plain": [
       "2"
      ]
     },
     "execution_count": 91,
     "metadata": {},
     "output_type": "execute_result"
    }
   ],
   "source": [
    "from random import choice\n",
    "random.choice([0,1,2])\n",
    "state_index = int(state[1])\n",
    "state_index"
   ]
  },
  {
   "cell_type": "code",
   "execution_count": 198,
   "metadata": {
    "id": "0dqGboXKn398"
   },
   "outputs": [],
   "source": [
    "def choose_action(state, Q, epsilon):\n",
    "    \"\"\"\n",
    "    Inputs:\n",
    "      state: current state of the agent.\n",
    "      Q: Q-table.\n",
    "      epsilon: exploration rate.\n",
    "\n",
    "    Returns:\n",
    "      action: chosen action.\n",
    "    \"\"\"\n",
    "    state_index = int(state[1])*2\n",
    "    if random.random()<epsilon : #exploration\n",
    "      rd_act_index = random.choice([0,1])\n",
    "      rd_act = 'a'+str(rd_act_index)\n",
    "      Q[state_index+rd_act_index][2] = max(rewards[state][rd_act].values())\n",
    "      return rd_act\n",
    "    if random.random()>epsilon : #exploitation\n",
    "      max_Q = -10\n",
    "      for act_index in range(0,2):\n",
    "          if Q[state_index+act_index][2]>max_Q:\n",
    "             max_Q = Q[state_index+act_index][2]\n",
    "             action = 'a'+str(act_index)\n",
    "      return action\n",
    "    \n",
    "        \n",
    "        "
   ]
  },
  {
   "cell_type": "code",
   "execution_count": 199,
   "metadata": {},
   "outputs": [],
   "source": [
    "for x in range(0,100):\n",
    "    choose_action('s2',Q,0.8)"
   ]
  },
  {
   "cell_type": "code",
   "execution_count": 200,
   "metadata": {},
   "outputs": [
    {
     "data": {
      "text/plain": [
       "[['s0', 'a0', 0],\n",
       " ['s0', 'a1', 2],\n",
       " ['s1', 'a0', 3],\n",
       " ['s1', 'a1', 0],\n",
       " ['s2', 'a0', 0],\n",
       " ['s2', 'a1', 0]]"
      ]
     },
     "execution_count": 200,
     "metadata": {},
     "output_type": "execute_result"
    }
   ],
   "source": [
    "Q"
   ]
  },
  {
   "cell_type": "code",
   "execution_count": 64,
   "metadata": {},
   "outputs": [
    {
     "name": "stdout",
     "output_type": "stream",
     "text": [
      "2\n",
      "0\n"
     ]
    }
   ],
   "source": [
    "next_states=rewards['s0']['a1'].keys()\n",
    "for state in next_states :\n",
    "    print(rewards['s0']['a1'][state])"
   ]
  },
  {
   "cell_type": "code",
   "execution_count": 65,
   "metadata": {
    "id": "fsfKEfWrn_SB"
   },
   "outputs": [],
   "source": [
    "def get_next_state_and_reward(state, action):\n",
    "    \"\"\"\n",
    "    Inputs:\n",
    "      state: the current state of the agent.\n",
    "      action: the action taken by the agent.\n",
    "\n",
    "    Returns:\n",
    "      next_state: the next state of the agent.\n",
    "      reward: the reward received for transitioning to the next state.\n",
    "    \"\"\"\n",
    "    next_states = rewards[state][action].keys()\n",
    "    reward = -10\n",
    "    for pot_nxt_stt in next_states : \n",
    "        if rewards[state][action][pot_nxt_stt]>reward:\n",
    "            reward = rewards[state][action][pot_nxt_stt]\n",
    "            next_state = pot_nxt_stt\n",
    "    return next_state,reward"
   ]
  },
  {
   "cell_type": "code",
   "execution_count": 15,
   "metadata": {
    "id": "SBCy49pFoEZ5"
   },
   "outputs": [],
   "source": [
    "def q_learning(states, actions, transition_probs, rewards, episodes, max_steps_per_episode, alpha, epsilon, gamma):\n",
    "    \"\"\"\n",
    "    Inputs:\n",
    "      states: all possible states.\n",
    "      actions: all possible actions.\n",
    "      transition_probs: transition probabilities.\n",
    "      rewards: rewards for state-action-next_state transitions.\n",
    "      episodes: number of episodes to run.\n",
    "      max_steps_per_episode: maximum steps per episode.\n",
    "      alpha: learning rate.\n",
    "      epsilon: exploration rate.\n",
    "      gamma: discount factor.\n",
    "\n",
    "    Returns:\n",
    "      Q: The learned Q-table.\n",
    "      policy: The optimal policy derived from the Q-table.\n",
    "    \"\"\""
   ]
  },
  {
   "cell_type": "markdown",
   "metadata": {
    "id": "kuw_SMEapV33"
   },
   "source": [
    "**Question 9**"
   ]
  },
  {
   "cell_type": "markdown",
   "metadata": {
    "id": "iHiMfcHxpfrq"
   },
   "source": [
    "**Question 10**"
   ]
  },
  {
   "cell_type": "code",
   "execution_count": 16,
   "metadata": {
    "id": "q1EL28jAoJ2x"
   },
   "outputs": [],
   "source": [
    "# Plot the average rewards"
   ]
  },
  {
   "cell_type": "markdown",
   "metadata": {
    "id": "84jUc9KApoCu"
   },
   "source": [
    "**Question 11**"
   ]
  },
  {
   "cell_type": "markdown",
   "metadata": {
    "id": "42LKXBZappkI"
   },
   "source": [
    "**Question 12**"
   ]
  }
 ],
 "metadata": {
  "colab": {
   "authorship_tag": "ABX9TyNFel3g/kGEJ4MDbOJCRccK",
   "provenance": []
  },
  "kernelspec": {
   "display_name": "torch3",
   "language": "python",
   "name": "python3"
  },
  "language_info": {
   "codemirror_mode": {
    "name": "ipython",
    "version": 3
   },
   "file_extension": ".py",
   "mimetype": "text/x-python",
   "name": "python",
   "nbconvert_exporter": "python",
   "pygments_lexer": "ipython3",
   "version": "3.12.7"
  }
 },
 "nbformat": 4,
 "nbformat_minor": 0
}
