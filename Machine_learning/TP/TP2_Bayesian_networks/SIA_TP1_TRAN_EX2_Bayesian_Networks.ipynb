{
 "cells": [
  {
   "cell_type": "markdown",
   "metadata": {
    "id": "OTuy65mb_PTG"
   },
   "source": [
    "# Bayesian Networks\n",
    "\n",
    "This TP provides an excellent opportunity to gain further exposure to relevant topics and applications of Bayesian Networks (diagnosis, prediction, etc.).\n",
    "\n",
    "Objectives: Students will be able to:\n",
    "- Create Bayesian Networks.\n",
    "- Learn Bayesian Networks from real-world problems and datasets.\n",
    "- Determine inferences from Bayesian Networks.\n",
    "\n",
    "Technology Requirements:\n",
    "- Linux (windows user may install virtual machines)\n",
    "- Python 3.8 or higher (due to pgmpy compatibility)\n",
    "- Download and install pip and then install pgmpy:\n",
    "   `$ pip install pgmpy`\n",
    "- If the previous did not work, this can be done manually after downloading the code source:\n",
    "\n",
    "```\n",
    "$ git clone https://github.com/pgmpy/pgmpy\n",
    "$ cd pgmpy/\n",
    "$ sudo pip install -r requirements.txt\n",
    "$ sudo python setup.py install\n",
    "```\n",
    "\n",
    "\n",
    "*Note: if you encountered problems installing pip or pgmpy, refer to the pgmpy Installation Page: https://pgmpy.org/started/install.html"
   ]
  },
  {
   "cell_type": "code",
   "execution_count": 2,
   "metadata": {
    "id": "FSkoYvSr_iBB"
   },
   "outputs": [
    {
     "name": "stderr",
     "output_type": "stream",
     "text": [
      "'pip' n'est pas reconnu en tant que commande interne\n",
      "ou externe, un programme ex�cutable ou un fichier de commandes.\n"
     ]
    }
   ],
   "source": [
    "!pip install pgmpy"
   ]
  },
  {
   "cell_type": "code",
   "execution_count": 3,
   "metadata": {
    "id": "cPwGKT9M_U09"
   },
   "outputs": [],
   "source": [
    "import pgmpy\n",
    "import pgmpy.models\n",
    "import pgmpy.inference\n",
    "import pgmpy.estimators\n",
    "import pgmpy.inference\n",
    "\n",
    "import networkx as nx\n",
    "import matplotlib.pyplot\n",
    "import xgboost\n",
    "\n",
    "import pandas as pd\n",
    "import time\n",
    "import numpy as np\n",
    "\n",
    "from sklearn.metrics import ConfusionMatrixDisplay, accuracy_score"
   ]
  },
  {
   "cell_type": "markdown",
   "metadata": {
    "id": "8P6-8jiA_Vo4"
   },
   "source": [
    "## Part 0: Building a model from scratch: Monty Hall Problem\n",
    "\n",
    "You might know about the famous Monty Hall, or three doors problem (https://en.wikipedia.org/wiki/Monty_Hall_problem). This is a TV game where a contestant $Contestant$ interacts with a host $Host$ to find a price $Price$ hidden behind one of three closed doors. The contestant makes a first choice of one door they would like to open. The host will then help the contestant by opening one of the doors, leaving the contestant to choose again amongst 2 doors. If the chosen door hides the price, the constestant wins.\n",
    "\n",
    "The host rules for choosing a door to open are:\n",
    " - never open the door behind which the price is hidden\n",
    " - never open the door chosen by the contestant\n",
    "\n",
    "A mathematician states: \"Selecting in the second step the door that wasn't chosen in the first step, has a 66% probability of granting the price to the contestant\". We want to use Bayesian Network modeling to affirm or infirm this statement.\n",
    "\n",
    "We will model this problem with a three states Bayesian Network.\n",
    " - $Contestant$ is a random variable with 3 possible values (the first chosen door by the contestant)\n",
    " - $Price$ is a random variable with 3 possible values (the price door)\n",
    " - $Host$ is a random variable with 3 possible values (the opened door by the host)\n",
    "\n",
    "The price is placed before the contestant make its first choice, and the contestant has no indication on its location.\n"
   ]
  },
  {
   "cell_type": "markdown",
   "metadata": {
    "id": "WUDU3pYfl3_x"
   },
   "source": [
    "**Question**: From your understanding of the statement, write the independence and conditional independence relations you expect about $Contestant, Price, Host$, in the form \"X indep Y\" or \"X indep Y | Z\". (*A relation \"X indep Y\" means that X and Y value are set independently, without any link or interaction. A relation \"X indep Y | Z\" means that X and Y have been chosen with respect to a same information which is the value of Z, but other than that, there is no further link between the value of X and Y.*)"
   ]
  },
  {
   "cell_type": "markdown",
   "metadata": {},
   "source": [
    "Contestant indep Price and \n",
    "Price indep Contestant \n"
   ]
  },
  {
   "cell_type": "markdown",
   "metadata": {
    "id": "XoCaeQlc_btl"
   },
   "source": [
    "**TODO 0.1** Instantiate an object you will name `monty_hall`, from the class `pgmpy.models.BayesianNetwork` (https://pgmpy.org/models/bayesiannetwork.html). Add edges with its `.add_edge` method, corresponding to each edge in the Monty Hall graph.\n",
    "\n",
    "Run the cell after to visualize the network."
   ]
  },
  {
   "cell_type": "code",
   "execution_count": 4,
   "metadata": {
    "id": "uOAEyxGI_Ybt"
   },
   "outputs": [
    {
     "data": {
      "text/plain": [
       "True"
      ]
     },
     "execution_count": 4,
     "metadata": {},
     "output_type": "execute_result"
    }
   ],
   "source": [
    "from pgmpy.models import BayesianNetwork\n",
    "monty_hall = BayesianNetwork()\n",
    "monty_hall.add_edges_from([('Contestant','Host'),('Price','Host')])\n",
    "len(monty_hall)\n",
    "'Contestant' in monty_hall"
   ]
  },
  {
   "cell_type": "code",
   "execution_count": 5,
   "metadata": {
    "id": "Tbl7cvSo_7Sm"
   },
   "outputs": [
    {
     "data": {
      "image/png": "[encoded data removed]",
      "text/plain": [
       "<Figure size 640x480 with 1 Axes>"
      ]
     },
     "metadata": {},
     "output_type": "display_data"
    }
   ],
   "source": [
    "# RUN THIS CELL\n",
    "\n",
    "def plot_bayesian_network(bn):\n",
    "\n",
    "    # Convert to a directed graph for visualization\n",
    "    G = nx.DiGraph(bn.edges())\n",
    "\n",
    "    # Draw the graph\n",
    "    nx.draw(G, with_labels=True, pos=nx.circular_layout(G))\n",
    "\n",
    "plot_bayesian_network(monty_hall)"
   ]
  },
  {
   "cell_type": "markdown",
   "metadata": {
    "id": "H0CV8GejnTEu"
   },
   "source": [
    "**TODO 0.2**: BayesianNetwork objects have a method that allows to find automatically the independence relations: `.get_independencies` (https://pgmpy.org/base/base.html). Verify that the relations encoded in the network match your answer to the first question.\n",
    "\n",
    "If the relations differ, try to explain your reasoning (no point will be deducted for an explained incorrect answer)."
   ]
  },
  {
   "cell_type": "code",
   "execution_count": 6,
   "metadata": {
    "id": "_fw7IOrSo6ua"
   },
   "outputs": [
    {
     "name": "stdout",
     "output_type": "stream",
     "text": [
      "(Price ⟂ Contestant)\n",
      "(Contestant ⟂ Price)\n"
     ]
    }
   ],
   "source": [
    "print(monty_hall.get_independencies())"
   ]
  },
  {
   "cell_type": "markdown",
   "metadata": {
    "id": "36gFc4kfA369"
   },
   "source": [
    "Since we have specified the structure of the bayesian network in `monty_hall`, we must now provide the conditional probability distribution.\n",
    "\n",
    "We assume that both $Contestant$ and $Price$ are chosen randomly (with probability uniformly $\\frac13$).\n",
    "\n",
    "**TODO 0.3** Use `pgmpy.factors.discrete.CPD.TabularCPD` (https://pgmpy.org/factors/discrete.html) to specify the conditional probability distribution of $Contestant$ and of $Price$. Name the TabularCPD of \"Contestant\" as `cpd_c` and \"Price\" as `cpd_p`.\n",
    "\n",
    "Hint: a coin toss can be modeled by `TabularCPD(\"coin_toss\", 2, [[0.5], [0.5]])`\n",
    "\n",
    "The name of each variable (in first argument) must be identical to the corresponding node in the BayesianNetwork graph `montly_hall`."
   ]
  },
  {
   "cell_type": "code",
   "execution_count": 7,
   "metadata": {
    "id": "JE-jv1okAfhp"
   },
   "outputs": [],
   "source": [
    "# TODO\n",
    "from pgmpy.factors.discrete import TabularCPD\n",
    "cpd_c = TabularCPD('Contestant',3,[[0.33],[0.33],[0.33]])\n",
    "cpd_p = TabularCPD('Price',3,[[0.33],[0.33],[0.33]])"
   ]
  },
  {
   "cell_type": "markdown",
   "metadata": {
    "id": "H7uGDIzYFaI8"
   },
   "source": [
    "Run the following cell."
   ]
  },
  {
   "cell_type": "code",
   "execution_count": 8,
   "metadata": {
    "id": "vHeq95-QLIjv"
   },
   "outputs": [
    {
     "name": "stdout",
     "output_type": "stream",
     "text": [
      "+------------+---------------+---------------+---------------+---------------+---------------+---------------+---------------+---------------+---------------+\n",
      "| Contestant | Contestant(0) | Contestant(0) | Contestant(0) | Contestant(1) | Contestant(1) | Contestant(1) | Contestant(2) | Contestant(2) | Contestant(2) |\n",
      "+------------+---------------+---------------+---------------+---------------+---------------+---------------+---------------+---------------+---------------+\n",
      "| Price      | Price(0)      | Price(1)      | Price(2)      | Price(0)      | Price(1)      | Price(2)      | Price(0)      | Price(1)      | Price(2)      |\n",
      "+------------+---------------+---------------+---------------+---------------+---------------+---------------+---------------+---------------+---------------+\n",
      "| Host(0)    | 0.0           | 0.0           | 0.0           | 0.0           | 0.5           | 1.0           | 0.0           | 1.0           | 0.5           |\n",
      "+------------+---------------+---------------+---------------+---------------+---------------+---------------+---------------+---------------+---------------+\n",
      "| Host(1)    | 0.5           | 0.0           | 1.0           | 0.0           | 0.0           | 0.0           | 1.0           | 0.0           | 0.5           |\n",
      "+------------+---------------+---------------+---------------+---------------+---------------+---------------+---------------+---------------+---------------+\n",
      "| Host(2)    | 0.5           | 1.0           | 0.0           | 1.0           | 0.5           | 0.0           | 0.0           | 0.0           | 0.0           |\n",
      "+------------+---------------+---------------+---------------+---------------+---------------+---------------+---------------+---------------+---------------+\n"
     ]
    }
   ],
   "source": [
    "# RUN THIS CELL\n",
    "\n",
    "cpd_h = pgmpy.factors.discrete.CPD.TabularCPD(\"Host\",3,\n",
    "    [\n",
    "        [0, 0, 0, 0, 0.5, 1, 0, 1, 0.5],  #Host=0\n",
    "        [0.5, 0, 1, 0, 0, 0, 1, 0, 0.5],  #Host=1\n",
    "        [0.5, 1, 0, 1, 0.5, 0, 0, 0, 0],  #Host=2\n",
    "    ],\n",
    "    evidence=[\"Contestant\", \"Price\"],\n",
    "    evidence_card=[3, 3])\n",
    "\n",
    "cpd_h._truncate_strtable = lambda x: x  # prevents table truncating\n",
    "print(cpd_h)"
   ]
  },
  {
   "cell_type": "markdown",
   "metadata": {
    "id": "RXQS08U5MivD"
   },
   "source": [
    "**Question**: From the table, what is the value of $\\mathbb{P}(Host=0 | Contestant=1, Price=2)$? How do you interpret this value with respect to the problem setting?\n",
    "\n",
    "**Question**: How many numerical parameters in total were created to build this Bayesian Network? How many would be needed to create the entire joint probability table of $\\mathbb{P}(Contestant, Price, Host)$?"
   ]
  },
  {
   "cell_type": "markdown",
   "metadata": {},
   "source": [
    "$\\mathbb{P}(Host=0 | Contestant=1, Price=2)$=1\n",
    "The probability of the host opening the first door if the contestant chose the second door and the price is in the third door is 1.\n",
    "\n"
   ]
  },
  {
   "cell_type": "markdown",
   "metadata": {
    "id": "iToJAre2FhAo"
   },
   "source": [
    "Run the following cell to add the probability tables to the `monty_hall` object."
   ]
  },
  {
   "cell_type": "code",
   "execution_count": 9,
   "metadata": {
    "id": "cgfylxk6NCBb"
   },
   "outputs": [],
   "source": [
    "# RUN THIS CELL\n",
    "\n",
    "# We now add the conditional probability distributions (cpd) to the bayesian network.\n",
    "\n",
    "monty_hall.add_cpds(cpd_c, cpd_p, cpd_h)\n",
    "\n",
    "# Verify that the model is correctly specified\n",
    "\n",
    "assert monty_hall.check_model()"
   ]
  },
  {
   "cell_type": "markdown",
   "metadata": {
    "id": "9Ch51cZkNet9"
   },
   "source": [
    "If the previous cell throws an error, you may have mispecified either the monty_hall graph (todo 0.1) or the CPD of $Contestant$ and $Price$ (todo 0.3).\n",
    "\n",
    "You can check how `check_model` verifies the BayesianNetwork in its documentation (https://pgmpy.org/models/bayesiannetwork.html)"
   ]
  },
  {
   "cell_type": "markdown",
   "metadata": {
    "id": "pvAC2JY3OJsm"
   },
   "source": [
    "### Application\n",
    "\n",
    "Suppose that you, as a contestant, have chosen $Contestant=0$ as your first guess.\n",
    "\n",
    "The host might open door $Host=1$, or $Host=2$ as a result (but never door $0$ as it was chosen by the contestant).\n",
    "\n",
    "**TODO 0.4** Using `pgmpy.inference.ExactInference.VariableElimination` (https://pgmpy.org/exact_infer/ve.html), compute the exact conditional probability distribution of $\\mathbb{P}(Price|Contestant=0,Host=1)$ and $\\mathbb{P}(Price|Contestant=0,Host=2)$.\n",
    "\n",
    "Once a VariableElimination object has been set, you can use the class method `VariableElimination.query` with adequate `variables` and `evidence` parameters. The remaining arguments can be set to their default values."
   ]
  },
  {
   "cell_type": "code",
   "execution_count": 40,
   "metadata": {
    "id": "M2C-oiySOqSP"
   },
   "outputs": [
    {
     "name": "stdout",
     "output_type": "stream",
     "text": [
      "+----------+--------------+\n",
      "| Price    |   phi(Price) |\n",
      "+==========+==============+\n",
      "| Price(0) |       0.3333 |\n",
      "+----------+--------------+\n",
      "| Price(1) |       0.0000 |\n",
      "+----------+--------------+\n",
      "| Price(2) |       0.6667 |\n",
      "+----------+--------------+\n",
      "+----------+--------------+\n",
      "| Price    |   phi(Price) |\n",
      "+==========+==============+\n",
      "| Price(0) |       0.3333 |\n",
      "+----------+--------------+\n",
      "| Price(1) |       0.6667 |\n",
      "+----------+--------------+\n",
      "| Price(2) |       0.0000 |\n",
      "+----------+--------------+\n"
     ]
    }
   ],
   "source": [
    "inference = pgmpy.inference.ExactInference.VariableElimination(monty_hall)\n",
    "print(inference.query(variables=['Price'],evidence={'Contestant':0,'Host':1},show_progress=True))\n",
    "print(inference.query(variables=['Price'],evidence={'Contestant':0,'Host':2},show_progress=True))\n",
    "\n"
   ]
  },
  {
   "cell_type": "markdown",
   "metadata": {
    "id": "KiaqueGYTfYg"
   },
   "source": [
    "**Question**: According to the two result tables, should you maintain your choice of door $Contestant=0$, or select the remaining door?\n",
    "\n",
    "**Question**: Even though the contestant final choice has one of two doors, why are the probability of success not (0.5, 0.5)?"
   ]
  },
  {
   "cell_type": "markdown",
   "metadata": {},
   "source": [
    "According to these result tables, the contestant should select the remaining door.\n",
    "The probabilities of success here are not 50/50 because the contestant is not independant from the price with respect to the host."
   ]
  },
  {
   "cell_type": "markdown",
   "metadata": {
    "id": "mJuWEEfYAkx1"
   },
   "source": [
    "## Part 1: Bayesian Modeling of a credit risk dataset\n",
    "\n",
    "This part is dedicated to learning a Bayesian model (graph and distribution) to model Credit risk in Germany. In this part, we will not specify the structure by hand, instead it will be learned from the data.\n",
    "\n",
    "We will see how to:\n",
    " - open and inspect a dataset as a DataFrame\n",
    " - handle missing values with and without domain knowledge\n",
    " - apply binning to variables with lots of possible values with and without domain knowledge\n",
    " - separate data into training and validation sets\n",
    "\n",
    "First, run the following cell to open the data in the form of a `pandas.DataFrame`."
   ]
  },
  {
   "cell_type": "code",
   "execution_count": 11,
   "metadata": {
    "id": "8e4QFu4-VhKY"
   },
   "outputs": [
    {
     "data": {
      "text/html": [
       "<div>\n",
       "<style scoped>\n",
       "    .dataframe tbody tr th:only-of-type {\n",
       "        vertical-align: middle;\n",
       "    }\n",
       "\n",
       "    .dataframe tbody tr th {\n",
       "        vertical-align: top;\n",
       "    }\n",
       "\n",
       "    .dataframe thead th {\n",
       "        text-align: right;\n",
       "    }\n",
       "</style>\n",
       "<table border=\"1\" class=\"dataframe\">\n",
       "  <thead>\n",
       "    <tr style=\"text-align: right;\">\n",
       "      <th></th>\n",
       "      <th>Credit History</th>\n",
       "      <th>Age</th>\n",
       "      <th>Gender</th>\n",
       "      <th>Job</th>\n",
       "      <th>Housing</th>\n",
       "      <th>Saving accounts</th>\n",
       "      <th>Credit amount</th>\n",
       "      <th>Duration</th>\n",
       "      <th>Purpose</th>\n",
       "      <th>Risk</th>\n",
       "    </tr>\n",
       "  </thead>\n",
       "  <tbody>\n",
       "    <tr>\n",
       "      <th>0</th>\n",
       "      <td>4</td>\n",
       "      <td>67</td>\n",
       "      <td>male</td>\n",
       "      <td>2</td>\n",
       "      <td>own</td>\n",
       "      <td>NaN</td>\n",
       "      <td>1169</td>\n",
       "      <td>6</td>\n",
       "      <td>radio/TV</td>\n",
       "      <td>good</td>\n",
       "    </tr>\n",
       "    <tr>\n",
       "      <th>1</th>\n",
       "      <td>2</td>\n",
       "      <td>22</td>\n",
       "      <td>female</td>\n",
       "      <td>2</td>\n",
       "      <td>own</td>\n",
       "      <td>little</td>\n",
       "      <td>5951</td>\n",
       "      <td>48</td>\n",
       "      <td>radio/TV</td>\n",
       "      <td>bad</td>\n",
       "    </tr>\n",
       "    <tr>\n",
       "      <th>2</th>\n",
       "      <td>4</td>\n",
       "      <td>49</td>\n",
       "      <td>male</td>\n",
       "      <td>1</td>\n",
       "      <td>own</td>\n",
       "      <td>little</td>\n",
       "      <td>2096</td>\n",
       "      <td>12</td>\n",
       "      <td>education</td>\n",
       "      <td>good</td>\n",
       "    </tr>\n",
       "    <tr>\n",
       "      <th>3</th>\n",
       "      <td>2</td>\n",
       "      <td>45</td>\n",
       "      <td>male</td>\n",
       "      <td>2</td>\n",
       "      <td>free</td>\n",
       "      <td>little</td>\n",
       "      <td>7882</td>\n",
       "      <td>42</td>\n",
       "      <td>furniture/equipment</td>\n",
       "      <td>good</td>\n",
       "    </tr>\n",
       "    <tr>\n",
       "      <th>4</th>\n",
       "      <td>3</td>\n",
       "      <td>53</td>\n",
       "      <td>male</td>\n",
       "      <td>2</td>\n",
       "      <td>free</td>\n",
       "      <td>little</td>\n",
       "      <td>4870</td>\n",
       "      <td>24</td>\n",
       "      <td>car</td>\n",
       "      <td>bad</td>\n",
       "    </tr>\n",
       "    <tr>\n",
       "      <th>...</th>\n",
       "      <td>...</td>\n",
       "      <td>...</td>\n",
       "      <td>...</td>\n",
       "      <td>...</td>\n",
       "      <td>...</td>\n",
       "      <td>...</td>\n",
       "      <td>...</td>\n",
       "      <td>...</td>\n",
       "      <td>...</td>\n",
       "      <td>...</td>\n",
       "    </tr>\n",
       "    <tr>\n",
       "      <th>995</th>\n",
       "      <td>2</td>\n",
       "      <td>31</td>\n",
       "      <td>female</td>\n",
       "      <td>1</td>\n",
       "      <td>own</td>\n",
       "      <td>little</td>\n",
       "      <td>1736</td>\n",
       "      <td>12</td>\n",
       "      <td>furniture/equipment</td>\n",
       "      <td>good</td>\n",
       "    </tr>\n",
       "    <tr>\n",
       "      <th>996</th>\n",
       "      <td>2</td>\n",
       "      <td>40</td>\n",
       "      <td>male</td>\n",
       "      <td>3</td>\n",
       "      <td>own</td>\n",
       "      <td>little</td>\n",
       "      <td>3857</td>\n",
       "      <td>30</td>\n",
       "      <td>car</td>\n",
       "      <td>good</td>\n",
       "    </tr>\n",
       "    <tr>\n",
       "      <th>997</th>\n",
       "      <td>2</td>\n",
       "      <td>38</td>\n",
       "      <td>male</td>\n",
       "      <td>2</td>\n",
       "      <td>own</td>\n",
       "      <td>little</td>\n",
       "      <td>804</td>\n",
       "      <td>12</td>\n",
       "      <td>radio/TV</td>\n",
       "      <td>good</td>\n",
       "    </tr>\n",
       "    <tr>\n",
       "      <th>998</th>\n",
       "      <td>2</td>\n",
       "      <td>23</td>\n",
       "      <td>male</td>\n",
       "      <td>2</td>\n",
       "      <td>free</td>\n",
       "      <td>little</td>\n",
       "      <td>1845</td>\n",
       "      <td>45</td>\n",
       "      <td>radio/TV</td>\n",
       "      <td>bad</td>\n",
       "    </tr>\n",
       "    <tr>\n",
       "      <th>999</th>\n",
       "      <td>4</td>\n",
       "      <td>27</td>\n",
       "      <td>male</td>\n",
       "      <td>2</td>\n",
       "      <td>own</td>\n",
       "      <td>moderate</td>\n",
       "      <td>4576</td>\n",
       "      <td>45</td>\n",
       "      <td>car</td>\n",
       "      <td>good</td>\n",
       "    </tr>\n",
       "  </tbody>\n",
       "</table>\n",
       "<p>1000 rows × 10 columns</p>\n",
       "</div>"
      ],
      "text/plain": [
       "     Credit History  Age  Gender  Job Housing Saving accounts  Credit amount  \\\n",
       "0                 4   67    male    2     own             NaN           1169   \n",
       "1                 2   22  female    2     own          little           5951   \n",
       "2                 4   49    male    1     own          little           2096   \n",
       "3                 2   45    male    2    free          little           7882   \n",
       "4                 3   53    male    2    free          little           4870   \n",
       "..              ...  ...     ...  ...     ...             ...            ...   \n",
       "995               2   31  female    1     own          little           1736   \n",
       "996               2   40    male    3     own          little           3857   \n",
       "997               2   38    male    2     own          little            804   \n",
       "998               2   23    male    2    free          little           1845   \n",
       "999               4   27    male    2     own        moderate           4576   \n",
       "\n",
       "     Duration              Purpose  Risk  \n",
       "0           6             radio/TV  good  \n",
       "1          48             radio/TV   bad  \n",
       "2          12            education  good  \n",
       "3          42  furniture/equipment  good  \n",
       "4          24                  car   bad  \n",
       "..        ...                  ...   ...  \n",
       "995        12  furniture/equipment  good  \n",
       "996        30                  car  good  \n",
       "997        12             radio/TV  good  \n",
       "998        45             radio/TV   bad  \n",
       "999        45                  car  good  \n",
       "\n",
       "[1000 rows x 10 columns]"
      ]
     },
     "execution_count": 11,
     "metadata": {},
     "output_type": "execute_result"
    }
   ],
   "source": [
    "german_credit = pd.read_csv(\"https://raw.githubusercontent.com/vidhi-chugh/tds_articles/master/pgmpy_WICDS/german_credit.csv\")\n",
    "german_credit"
   ]
  },
  {
   "cell_type": "markdown",
   "metadata": {
    "id": "jqqKV5ZaWLxJ"
   },
   "source": [
    "**Question**: What do rows represent? What do columns represent?\n",
    "\n",
    "**Question**: What is the name (in the data) of the variable that we want to model?\n",
    "\n",
    "**Question**: Are there categorical variables? Continuous? Discrete?\n"
   ]
  },
  {
   "cell_type": "markdown",
   "metadata": {},
   "source": [
    "****  The rows represent the custommer ID\n"
   ]
  },
  {
   "cell_type": "markdown",
   "metadata": {},
   "source": [
    "****  The columns represent attributes of the custommer\n"
   ]
  },
  {
   "cell_type": "markdown",
   "metadata": {},
   "source": [
    "****  Categorical variables are nominal categories, they are the non numerical variables. All numerical variables here are discrete"
   ]
  },
  {
   "cell_type": "markdown",
   "metadata": {
    "id": "7KBTUKImYCDG"
   },
   "source": [
    "### Data Preparation\n",
    "\n",
    "Before we can use the dataset to model credit risk, we must prepare the data to ensure that it can be used properly. This generally involves three steps.\n",
    " - Ensuring that there are no missing values\n",
    " - Ensuring that all columns have a type that allows Bayesian Network structure learning and estimation. Specifically, all variables should be discrete, with a sufficiently low number of possible values (https://pgmpy.org/index.html).\n",
    " - Separing the data into training and validation sets. The training set is used for structure learning and parameter estimation. The validation set is used to compare different learned models on a prediction task.\n",
    "\n",
    "\n",
    "We will first handle missing (NaN) values.\n",
    "- A domain expert tells us that missing values in `\"Saving accounts\"` are valid. A NaN values show that the credit seeker does not have a saving account. We will replace this value by `\"no account\"`."
   ]
  },
  {
   "cell_type": "code",
   "execution_count": 12,
   "metadata": {
    "id": "Gpz1mf4haUp1"
   },
   "outputs": [],
   "source": [
    "# RUN THIS CELL\n",
    "\n",
    "# in this cell, german_credit['Saving accounts'].isnull() provides the index table of all null saving account rows.\n",
    "# then, german_credit.loc[... ,'Saving accounts'] select the cells to be set to the value \"no account\"\n",
    "\n",
    "german_credit.loc[german_credit['Saving accounts'].isnull(), 'Saving accounts'] = 'no account'"
   ]
  },
  {
   "cell_type": "markdown",
   "metadata": {
    "id": "vcmhXZqbaaAD"
   },
   "source": [
    "**TODO 1.1**: Is there any other column with missing values? You can use the `DataFrame.isnull()` method to check if a value is null, and the `DataFrame.sum(axis=0)` method to get the number of nonzero values in each column.\n",
    "\n",
    "(https://pandas.pydata.org/docs/reference/api/pandas.DataFrame.isnull.html)\n",
    "(https://pandas.pydata.org/docs/reference/api/pandas.DataFrame.sum.html)\n",
    "\n",
    "If there is any missing value remaining, remove the corresponding rows from the DataFrame, using the `.dropna()` method.\n",
    "\n",
    "(https://pandas.pydata.org/docs/reference/api/pandas.DataFrame.dropna.html)"
   ]
  },
  {
   "cell_type": "code",
   "execution_count": 13,
   "metadata": {},
   "outputs": [
    {
     "data": {
      "text/html": [
       "<div>\n",
       "<style scoped>\n",
       "    .dataframe tbody tr th:only-of-type {\n",
       "        vertical-align: middle;\n",
       "    }\n",
       "\n",
       "    .dataframe tbody tr th {\n",
       "        vertical-align: top;\n",
       "    }\n",
       "\n",
       "    .dataframe thead th {\n",
       "        text-align: right;\n",
       "    }\n",
       "</style>\n",
       "<table border=\"1\" class=\"dataframe\">\n",
       "  <thead>\n",
       "    <tr style=\"text-align: right;\">\n",
       "      <th></th>\n",
       "      <th>Credit History</th>\n",
       "      <th>Age</th>\n",
       "      <th>Gender</th>\n",
       "      <th>Job</th>\n",
       "      <th>Housing</th>\n",
       "      <th>Saving accounts</th>\n",
       "      <th>Credit amount</th>\n",
       "      <th>Duration</th>\n",
       "      <th>Purpose</th>\n",
       "      <th>Risk</th>\n",
       "    </tr>\n",
       "  </thead>\n",
       "  <tbody>\n",
       "  </tbody>\n",
       "</table>\n",
       "</div>"
      ],
      "text/plain": [
       "Empty DataFrame\n",
       "Columns: [Credit History, Age, Gender, Job, Housing, Saving accounts, Credit amount, Duration, Purpose, Risk]\n",
       "Index: []"
      ]
     },
     "execution_count": 13,
     "metadata": {},
     "output_type": "execute_result"
    }
   ],
   "source": [
    "empty_cells = german_credit[german_credit.where(german_credit.isnull()==True)]\n",
    "german_credit.where(german_credit.isnull()==True)\n",
    "empty_cells.dropna()"
   ]
  },
  {
   "cell_type": "code",
   "execution_count": 14,
   "metadata": {},
   "outputs": [
    {
     "data": {
      "text/html": [
       "<div>\n",
       "<style scoped>\n",
       "    .dataframe tbody tr th:only-of-type {\n",
       "        vertical-align: middle;\n",
       "    }\n",
       "\n",
       "    .dataframe tbody tr th {\n",
       "        vertical-align: top;\n",
       "    }\n",
       "\n",
       "    .dataframe thead th {\n",
       "        text-align: right;\n",
       "    }\n",
       "</style>\n",
       "<table border=\"1\" class=\"dataframe\">\n",
       "  <thead>\n",
       "    <tr style=\"text-align: right;\">\n",
       "      <th></th>\n",
       "      <th>Credit History</th>\n",
       "      <th>Age</th>\n",
       "      <th>Gender</th>\n",
       "      <th>Job</th>\n",
       "      <th>Housing</th>\n",
       "      <th>Saving accounts</th>\n",
       "      <th>Credit amount</th>\n",
       "      <th>Duration</th>\n",
       "      <th>Purpose</th>\n",
       "      <th>Risk</th>\n",
       "    </tr>\n",
       "  </thead>\n",
       "  <tbody>\n",
       "    <tr>\n",
       "      <th>0</th>\n",
       "      <td>4</td>\n",
       "      <td>67</td>\n",
       "      <td>male</td>\n",
       "      <td>2</td>\n",
       "      <td>own</td>\n",
       "      <td>no account</td>\n",
       "      <td>1169</td>\n",
       "      <td>6</td>\n",
       "      <td>radio/TV</td>\n",
       "      <td>good</td>\n",
       "    </tr>\n",
       "    <tr>\n",
       "      <th>1</th>\n",
       "      <td>2</td>\n",
       "      <td>22</td>\n",
       "      <td>female</td>\n",
       "      <td>2</td>\n",
       "      <td>own</td>\n",
       "      <td>little</td>\n",
       "      <td>5951</td>\n",
       "      <td>48</td>\n",
       "      <td>radio/TV</td>\n",
       "      <td>bad</td>\n",
       "    </tr>\n",
       "    <tr>\n",
       "      <th>2</th>\n",
       "      <td>4</td>\n",
       "      <td>49</td>\n",
       "      <td>male</td>\n",
       "      <td>1</td>\n",
       "      <td>own</td>\n",
       "      <td>little</td>\n",
       "      <td>2096</td>\n",
       "      <td>12</td>\n",
       "      <td>education</td>\n",
       "      <td>good</td>\n",
       "    </tr>\n",
       "    <tr>\n",
       "      <th>3</th>\n",
       "      <td>2</td>\n",
       "      <td>45</td>\n",
       "      <td>male</td>\n",
       "      <td>2</td>\n",
       "      <td>free</td>\n",
       "      <td>little</td>\n",
       "      <td>7882</td>\n",
       "      <td>42</td>\n",
       "      <td>furniture/equipment</td>\n",
       "      <td>good</td>\n",
       "    </tr>\n",
       "    <tr>\n",
       "      <th>4</th>\n",
       "      <td>3</td>\n",
       "      <td>53</td>\n",
       "      <td>male</td>\n",
       "      <td>2</td>\n",
       "      <td>free</td>\n",
       "      <td>little</td>\n",
       "      <td>4870</td>\n",
       "      <td>24</td>\n",
       "      <td>car</td>\n",
       "      <td>bad</td>\n",
       "    </tr>\n",
       "    <tr>\n",
       "      <th>...</th>\n",
       "      <td>...</td>\n",
       "      <td>...</td>\n",
       "      <td>...</td>\n",
       "      <td>...</td>\n",
       "      <td>...</td>\n",
       "      <td>...</td>\n",
       "      <td>...</td>\n",
       "      <td>...</td>\n",
       "      <td>...</td>\n",
       "      <td>...</td>\n",
       "    </tr>\n",
       "    <tr>\n",
       "      <th>995</th>\n",
       "      <td>2</td>\n",
       "      <td>31</td>\n",
       "      <td>female</td>\n",
       "      <td>1</td>\n",
       "      <td>own</td>\n",
       "      <td>little</td>\n",
       "      <td>1736</td>\n",
       "      <td>12</td>\n",
       "      <td>furniture/equipment</td>\n",
       "      <td>good</td>\n",
       "    </tr>\n",
       "    <tr>\n",
       "      <th>996</th>\n",
       "      <td>2</td>\n",
       "      <td>40</td>\n",
       "      <td>male</td>\n",
       "      <td>3</td>\n",
       "      <td>own</td>\n",
       "      <td>little</td>\n",
       "      <td>3857</td>\n",
       "      <td>30</td>\n",
       "      <td>car</td>\n",
       "      <td>good</td>\n",
       "    </tr>\n",
       "    <tr>\n",
       "      <th>997</th>\n",
       "      <td>2</td>\n",
       "      <td>38</td>\n",
       "      <td>male</td>\n",
       "      <td>2</td>\n",
       "      <td>own</td>\n",
       "      <td>little</td>\n",
       "      <td>804</td>\n",
       "      <td>12</td>\n",
       "      <td>radio/TV</td>\n",
       "      <td>good</td>\n",
       "    </tr>\n",
       "    <tr>\n",
       "      <th>998</th>\n",
       "      <td>2</td>\n",
       "      <td>23</td>\n",
       "      <td>male</td>\n",
       "      <td>2</td>\n",
       "      <td>free</td>\n",
       "      <td>little</td>\n",
       "      <td>1845</td>\n",
       "      <td>45</td>\n",
       "      <td>radio/TV</td>\n",
       "      <td>bad</td>\n",
       "    </tr>\n",
       "    <tr>\n",
       "      <th>999</th>\n",
       "      <td>4</td>\n",
       "      <td>27</td>\n",
       "      <td>male</td>\n",
       "      <td>2</td>\n",
       "      <td>own</td>\n",
       "      <td>moderate</td>\n",
       "      <td>4576</td>\n",
       "      <td>45</td>\n",
       "      <td>car</td>\n",
       "      <td>good</td>\n",
       "    </tr>\n",
       "  </tbody>\n",
       "</table>\n",
       "<p>1000 rows × 10 columns</p>\n",
       "</div>"
      ],
      "text/plain": [
       "     Credit History  Age  Gender  Job Housing Saving accounts  Credit amount  \\\n",
       "0                 4   67    male    2     own      no account           1169   \n",
       "1                 2   22  female    2     own          little           5951   \n",
       "2                 4   49    male    1     own          little           2096   \n",
       "3                 2   45    male    2    free          little           7882   \n",
       "4                 3   53    male    2    free          little           4870   \n",
       "..              ...  ...     ...  ...     ...             ...            ...   \n",
       "995               2   31  female    1     own          little           1736   \n",
       "996               2   40    male    3     own          little           3857   \n",
       "997               2   38    male    2     own          little            804   \n",
       "998               2   23    male    2    free          little           1845   \n",
       "999               4   27    male    2     own        moderate           4576   \n",
       "\n",
       "     Duration              Purpose  Risk  \n",
       "0           6             radio/TV  good  \n",
       "1          48             radio/TV   bad  \n",
       "2          12            education  good  \n",
       "3          42  furniture/equipment  good  \n",
       "4          24                  car   bad  \n",
       "..        ...                  ...   ...  \n",
       "995        12  furniture/equipment  good  \n",
       "996        30                  car  good  \n",
       "997        12             radio/TV  good  \n",
       "998        45             radio/TV   bad  \n",
       "999        45                  car  good  \n",
       "\n",
       "[1000 rows x 10 columns]"
      ]
     },
     "execution_count": 14,
     "metadata": {},
     "output_type": "execute_result"
    }
   ],
   "source": [
    "german_credit.dropna()"
   ]
  },
  {
   "cell_type": "markdown",
   "metadata": {},
   "source": [
    "There doesn't seem to be any missing values : german credit still has 1000x10 shape"
   ]
  },
  {
   "cell_type": "markdown",
   "metadata": {
    "id": "7NxUYUbabGFn"
   },
   "source": [
    "Now that we have dealt with missing values, we must ensure that variables are discrete with low number of possible values.\n",
    "We will arbitrarily say that **above 10 values** is too many.\n",
    "\n",
    "When a variable has too many values, we must apply binning to it. Binning means grouping together values under new names, into a small number of categories. There are different strategy to binning.\n",
    " - A domain expert might create meaningful binning from prior knowledge. For instance, age is usually grouped in 18-25, 26-45, 46-65, 65+ categories.\n",
    " - When no prior knowledge is available, a common strategy on ordered data (where a \"lesser than\" notion makes sense) is to create bins of equal population with ordered values. For instance, age could be grouped in three groups from 18 to 30, 31 to 37, 37+ if each group correspond to roughly the same number of observations (rows).\n",
    "\n",
    "The following cell iterates over the columns of the dataset, and for each of them, prints the number of unique values contained in the column. It uses `pd.DataFrame.columns` (https://pandas.pydata.org/docs/reference/frame.html) and `pd.Series.unique` (https://pandas.pydata.org/docs/reference/series.html)."
   ]
  },
  {
   "cell_type": "code",
   "execution_count": 15,
   "metadata": {
    "id": "CV8OwgXdWMVS"
   },
   "outputs": [
    {
     "name": "stdout",
     "output_type": "stream",
     "text": [
      "Variable 'Credit History' has 5 possible values\n",
      "Variable 'Age' has 53 possible values\n",
      "Variable 'Gender' has 2 possible values\n",
      "Variable 'Job' has 4 possible values\n",
      "Variable 'Housing' has 3 possible values\n",
      "Variable 'Saving accounts' has 5 possible values\n",
      "Variable 'Credit amount' has 921 possible values\n",
      "Variable 'Duration' has 33 possible values\n",
      "Variable 'Purpose' has 8 possible values\n",
      "Variable 'Risk' has 2 possible values\n"
     ]
    }
   ],
   "source": [
    "# RUN THIS CELL\n",
    "for variable in german_credit.columns:\n",
    "    print(\"Variable '{}' has {} possible values\".format(variable, len(german_credit[variable].unique())))"
   ]
  },
  {
   "cell_type": "markdown",
   "metadata": {
    "id": "pjRkeijP1MaI"
   },
   "source": [
    "**Question** Which columns seem to have too many unique values to handle like categorical variables?"
   ]
  },
  {
   "cell_type": "markdown",
   "metadata": {},
   "source": [
    "According to the bin number limit, the columns Age, Credit amount and Duration have too many unique values"
   ]
  },
  {
   "cell_type": "markdown",
   "metadata": {
    "id": "4stpGKXvf_k-"
   },
   "source": [
    "**TODO 1.2**: Apply the function `pandas.qcut` (https://pandas.pydata.org/docs/reference/api/pandas.qcut.html), with quantiles `q=[0, .33, .66, 1]` to make three equally populated bins, for `Age`,`Credit amount`, and `Duration`.\n",
    "\n",
    "You should replace the previous column with the new value: syntax `dataframe[column] = pd.qcut(...)`."
   ]
  },
  {
   "cell_type": "code",
   "execution_count": 16,
   "metadata": {},
   "outputs": [
    {
     "data": {
      "text/plain": [
       "0      1169\n",
       "1      5951\n",
       "2      2096\n",
       "3      7882\n",
       "4      4870\n",
       "       ... \n",
       "995    1736\n",
       "996    3857\n",
       "997     804\n",
       "998    1845\n",
       "999    4576\n",
       "Name: Credit amount, Length: 1000, dtype: int64"
      ]
     },
     "execution_count": 16,
     "metadata": {},
     "output_type": "execute_result"
    }
   ],
   "source": [
    "german_credit[\"Age\"]\n",
    "german_credit['Credit amount']"
   ]
  },
  {
   "cell_type": "code",
   "execution_count": 17,
   "metadata": {
    "id": "q38sVNw6f_Ae"
   },
   "outputs": [],
   "source": [
    "german_credit['Age']=pd.qcut(german_credit['Age'],3,duplicates='raise')\n",
    "german_credit['Credit amount'] = pd.qcut(german_credit['Credit amount'],3,duplicates='raise')\n",
    "german_credit['Duration'] = pd.qcut(german_credit['Duration'],3,duplicates='raise')"
   ]
  },
  {
   "cell_type": "code",
   "execution_count": 18,
   "metadata": {
    "id": "ch7GXi5ohqRT"
   },
   "outputs": [
    {
     "name": "stdout",
     "output_type": "stream",
     "text": [
      "Variable 'Age' has the following list of possible values: [(38.0, 75.0], (18.999, 28.0], (28.0, 38.0]]\n",
      "Categories (3, interval[float64, right]): [(18.999, 28.0] < (28.0, 38.0] < (38.0, 75.0]]\n",
      "Variable 'Credit amount' has the following list of possible values: [(249.999, 1554.0], (3368.0, 18424.0], (1554.0, 3368.0]]\n",
      "Categories (3, interval[float64, right]): [(249.999, 1554.0] < (1554.0, 3368.0] < (3368.0, 18424.0]]\n",
      "Variable 'Duration' has the following list of possible values: [(3.999, 12.0], (24.0, 72.0], (12.0, 24.0]]\n",
      "Categories (3, interval[float64, right]): [(3.999, 12.0] < (12.0, 24.0] < (24.0, 72.0]]\n"
     ]
    }
   ],
   "source": [
    "# RUN THIS CELL\n",
    "# verify that Age, Credit amount and Duration have been correctly prepared\n",
    "for variable in [\"Age\", \"Credit amount\", \"Duration\"]:\n",
    "    assert len(german_credit[variable].unique())==3\n",
    "    print(\"Variable '{}' has the following list of possible values: {}\".format(variable, german_credit[variable].unique()))"
   ]
  },
  {
   "cell_type": "markdown",
   "metadata": {
    "id": "6tKfD87Ojqom"
   },
   "source": [
    "**TODO 1.3**: To separate our Train/Validation sets, use the method `DataFrame.sample` (https://pandas.pydata.org/docs/reference/api/pandas.DataFrame.sample.html) to sample without replacement a fraction 0.9 of the dataset german_credit, called `train_set`. Use the method `DataFrame.drop` (https://pandas.pydata.org/docs/reference/api/pandas.DataFrame.drop.html) with indexes `train_set.index` to create a validation set `val_set`. **IMPORTANT** for reproducibility, make sure to seed your sample selection with parameter `random_state`."
   ]
  },
  {
   "cell_type": "code",
   "execution_count": 19,
   "metadata": {
    "id": "Hy5qo49XlFxr"
   },
   "outputs": [],
   "source": [
    "train_set=german_credit.sample(int(0.9*len(german_credit)),random_state=888)"
   ]
  },
  {
   "cell_type": "code",
   "execution_count": 20,
   "metadata": {},
   "outputs": [],
   "source": [
    "val_set = german_credit.drop(train_set.index)"
   ]
  },
  {
   "cell_type": "code",
   "execution_count": 21,
   "metadata": {
    "id": "IYO2sdsKlelH"
   },
   "outputs": [],
   "source": [
    "# RUN THIS CELL\n",
    "\n",
    "assert len(train_set)==900\n",
    "assert len(val_set)==100"
   ]
  },
  {
   "cell_type": "markdown",
   "metadata": {
    "id": "48OR_OC0eJYB"
   },
   "source": [
    "We will put aside the validation set for the remainder of part 1 and part 2."
   ]
  },
  {
   "cell_type": "markdown",
   "metadata": {
    "id": "MmR49O1Miow2"
   },
   "source": [
    "### Model learning\n",
    "\n",
    "To learn a Bayesian Network structure fitting the data, `pgmpy` provides several algorithms. We will use Hill Climb Search (https://pgmpy.org/structure_estimator/hill.html).\n",
    "This algorithm:\n",
    " - is greedy: a scoring function is optimized by making gradual modification to a Directed Acyclic Graph, until no modification can improve the score (hence, hill-climbing).\n",
    " - is heuristic: the scoring function represents some sort of belief of what a best network structure would be. For instance, a best graph would both fit the data well while having a small *description length* (an encoding of this graph should be as small as possible) (BIC score, AIC score). Another best graph concept would rely on fitting the data well while maximizing a probability over a distribution of graphs (K2 score, DBE score...). See http://www.lx.it.pt/~asmc/pub/talks/09-TA/ta_pres.pdf for more details.\n",
    "\n",
    "**TODO 1.4**: Instanciate `pgmpy.estimators.HillClimbSearch` on the training set. Apply the method `HillClimbSearch.estimate` on the instance, with `k2score`, and otherwise default parameters. Finally, reuse `plot_bayesian_network` defined in part 0 to plot the learned network.\n"
   ]
  },
  {
   "cell_type": "code",
   "execution_count": 22,
   "metadata": {
    "id": "36KaeZI8lqb0"
   },
   "outputs": [
    {
     "data": {
      "application/vnd.jupyter.widget-view+json": {
       "model_id": "1aa1102d16d64be9a3ca1399e513e04f",
       "version_major": 2,
       "version_minor": 0
      },
      "text/plain": [
       "  0%|          | 0/1000000 [00:00<?, ?it/s]"
      ]
     },
     "metadata": {},
     "output_type": "display_data"
    }
   ],
   "source": [
    "HCS_estimator = pgmpy.estimators.HillClimbSearch(train_set)\n",
    "dag =HCS_estimator.estimate(scoring_method='k2score')"
   ]
  },
  {
   "cell_type": "code",
   "execution_count": 23,
   "metadata": {},
   "outputs": [
    {
     "data": {
      "image/png": "[encoded data removed]",
      "text/plain": [
       "<Figure size 640x480 with 1 Axes>"
      ]
     },
     "metadata": {},
     "output_type": "display_data"
    }
   ],
   "source": [
    "plot_bayesian_network(dag)"
   ]
  },
  {
   "cell_type": "markdown",
   "metadata": {
    "id": "i2iCj62jnIui"
   },
   "source": [
    "**TODO 1.5**: The `estimate` method argument `tabu_length` controls how many of the last graph modifications are impossible to modify. Run another graph estimation while setting `tabu_length=1`. Is there any change to the graph?"
   ]
  },
  {
   "cell_type": "code",
   "execution_count": 24,
   "metadata": {
    "id": "9TIjKGu-lgXY"
   },
   "outputs": [
    {
     "data": {
      "application/vnd.jupyter.widget-view+json": {
       "model_id": "29fe344af8884d70b2249ac3f31488a1",
       "version_major": 2,
       "version_minor": 0
      },
      "text/plain": [
       "  0%|          | 0/1000000 [00:00<?, ?it/s]"
      ]
     },
     "metadata": {},
     "output_type": "display_data"
    },
    {
     "data": {
      "image/png": "[encoded data removed]",
      "text/plain": [
       "<Figure size 640x480 with 1 Axes>"
      ]
     },
     "metadata": {},
     "output_type": "display_data"
    }
   ],
   "source": [
    "dag_L1 =HCS_estimator.estimate(scoring_method='k2score',tabu_length=1)\n",
    "plot_bayesian_network(dag_L1)"
   ]
  },
  {
   "cell_type": "markdown",
   "metadata": {
    "id": "YRjuTexMn5EW"
   },
   "source": [
    "**TODO 1.6**: As mentionned before, different scoring functions encode different beliefs of what an optimal graph would look like. Apply the `estimate` method with `bicscore` scoring method. The BIC (Bayesian Information Criterion) penalizes graphs with a lot of edges, under the belief that the simplest structure is the most likely (Occam's razor https://en.wikipedia.org/wiki/Occam%27s_razor)."
   ]
  },
  {
   "cell_type": "code",
   "execution_count": 25,
   "metadata": {
    "id": "3AnnTnx5mSXE"
   },
   "outputs": [
    {
     "data": {
      "application/vnd.jupyter.widget-view+json": {
       "model_id": "50689678e3c94405915124b29100bada",
       "version_major": 2,
       "version_minor": 0
      },
      "text/plain": [
       "  0%|          | 0/1000000 [00:00<?, ?it/s]"
      ]
     },
     "metadata": {},
     "output_type": "display_data"
    },
    {
     "data": {
      "image/png": "[encoded data removed]",
      "text/plain": [
       "<Figure size 640x480 with 1 Axes>"
      ]
     },
     "metadata": {},
     "output_type": "display_data"
    }
   ],
   "source": [
    "dag_bic =HCS_estimator.estimate(scoring_method='bicscore')\n",
    "plot_bayesian_network(dag_bic)"
   ]
  },
  {
   "cell_type": "markdown",
   "metadata": {
    "id": "8DAMByuypiSE"
   },
   "source": [
    "**Question** To your opinion, which graph is simpler to interpret?\n",
    "\n",
    "**Question** To your opinion, which graph is faster to evaluate?"
   ]
  },
  {
   "cell_type": "markdown",
   "metadata": {},
   "source": [
    "The Bicscore graph is a lot easier to interpret, it is a lot more readable but is slower to evaluate according to the estimated computation times\n",
    "(7 it/s vs 54it/s for the k2score method)"
   ]
  },
  {
   "cell_type": "markdown",
   "metadata": {
    "id": "7CwfWNTTeYeE"
   },
   "source": [
    "We will now use the graph produced by the `bicscore` method. We now need to learn a set of factor functions to model the joint probability distribution.\n",
    "Precisely, for each node $V$ with parents (in-going edges) $Pa(V)$, we learn $\\mathbb{P}(V|Pa(V))$.\n",
    "\n",
    "The library pgmpy provides several parameter estimation algorithms, each with different particularities. The one we will use is the following:\n",
    " - Maximum Likelihood Estimation (https://pgmpy.org/param_estimator/mle.html): estimates joint probabilities by using the frequency/count of each configuration of values. It needs all variables to be observed in the data.\n",
    "\n",
    "There are other methods, that do not apply to our case:\n",
    " - Expectation Maximization (https://pgmpy.org/param_estimator/em.html): Used in the presence of *latent* variables, i.e. variables in the graph for which there is no data. Expectation Maximization does not maximize the likelihood of the joint distribution, but the expectation of this likelihood.\n",
    " - Bayesian Estimation (https://pgmpy.org/param_estimator/bayesian_est.html): Used when domain knowledge, or belief, is known beside what is recorded in the data. This knowledge is specified to the algorithm in the form of *priors*. Due to the additional information, parameter estimates typically require less observations than Maximum Likelihood Estimation.\n",
    "\n",
    "\n"
   ]
  },
  {
   "cell_type": "markdown",
   "metadata": {
    "id": "A8L2oG5rpOMX"
   },
   "source": [
    "**TODO 1.7**: Apply MLE (https://pgmpy.org/param_estimator/mle.html) with its `.get_parameters()` method to estimate the parameters of the Bayesian Network. Add the parameters to a model object (class `pgmpy.models.BayesianNetwork`) built from the graph structure obtained with bicscore. You will name this model `model`. Use the training data only."
   ]
  },
  {
   "cell_type": "code",
   "execution_count": 26,
   "metadata": {
    "id": "4U7Enc2fpw0S"
   },
   "outputs": [],
   "source": [
    "model = pgmpy.models.BayesianNetwork(dag_bic)\n",
    "MLE_estimator = pgmpy.estimators.MaximumLikelihoodEstimator(model,data=train_set).get_parameters()\n",
    "model.add_cpds(*MLE_estimator) #as list of parameters"
   ]
  },
  {
   "cell_type": "code",
   "execution_count": 27,
   "metadata": {
    "id": "EVaM2HWEvFfY"
   },
   "outputs": [],
   "source": [
    "# RUN THIS CELL\n",
    "assert model.check_model()"
   ]
  },
  {
   "cell_type": "markdown",
   "metadata": {
    "id": "RI7k7m9GAl1E"
   },
   "source": [
    "## Part 2: Bayesian Inference\n",
    "\n",
    "In this part, we will use the previous model to analyse the mechanisms behind Credit Risk attribution by banks.\n",
    "\n",
    "We will first examine relations between `Gender` and `Risk`.\n",
    "\n",
    "**TODO 2.1**: Use Variable Elimination to print the joint distribution $\\mathbb{P}$(`Gender`,`Risk`). Use Variable Elimination to print the conditional distribution $\\mathbb{P}$(`Risk`|`Gender`) for both Gender values."
   ]
  },
  {
   "cell_type": "code",
   "execution_count": 28,
   "metadata": {
    "id": "C01wt96j9VRo"
   },
   "outputs": [
    {
     "name": "stdout",
     "output_type": "stream",
     "text": [
      "+----------------+------------+--------------------+\n",
      "| Gender         | Risk       |   phi(Gender,Risk) |\n",
      "+================+============+====================+\n",
      "| Gender(female) | Risk(bad)  |             0.0891 |\n",
      "+----------------+------------+--------------------+\n",
      "| Gender(female) | Risk(good) |             0.2187 |\n",
      "+----------------+------------+--------------------+\n",
      "| Gender(male)   | Risk(bad)  |             0.2009 |\n",
      "+----------------+------------+--------------------+\n",
      "| Gender(male)   | Risk(good) |             0.4913 |\n",
      "+----------------+------------+--------------------+\n",
      "+------------+-------------+\n",
      "| Risk       |   phi(Risk) |\n",
      "+============+=============+\n",
      "| Risk(bad)  |      0.2902 |\n",
      "+------------+-------------+\n",
      "| Risk(good) |      0.7098 |\n",
      "+------------+-------------+\n",
      "+------------+-------------+\n",
      "| Risk       |   phi(Risk) |\n",
      "+============+=============+\n",
      "| Risk(bad)  |      0.2895 |\n",
      "+------------+-------------+\n",
      "| Risk(good) |      0.7105 |\n",
      "+------------+-------------+\n"
     ]
    }
   ],
   "source": [
    "inference = pgmpy.inference.ExactInference.VariableElimination(model)\n",
    "print(inference.query(variables=['Gender','Risk']))\n",
    "print(inference.query(variables=['Risk'],evidence={'Gender':'male'}))\n",
    "print(inference.query(variables=['Risk'],evidence={'Gender':'female'}))"
   ]
  },
  {
   "cell_type": "markdown",
   "metadata": {
    "id": "4QLBy-3pAn10"
   },
   "source": [
    "**Question**: Are gender differences associated to lowered risk? What is hidden in the conditional distribution, that is apparent in the joint distribution? What prior would be needed to deduce the joint distribution $\\mathbb{P}$(`Gender`,`Risk`) from the conditional distributions $\\mathbb{P}$(`Risk`|`Gender`)?"
   ]
  },
  {
   "cell_type": "markdown",
   "metadata": {},
   "source": [
    "The joint distribution reveals that the conditional distribution is biased because of the sample size. In reality the gender isn't a significant discriminator for the risk.\n"
   ]
  },
  {
   "cell_type": "markdown",
   "metadata": {
    "id": "6pc10qqZ_k3v"
   },
   "source": [
    "**TODO 2.2**: Examine how some of the other variables are associated to varying Risk (using conditional distributions). Write down your conclusions."
   ]
  },
  {
   "cell_type": "code",
   "execution_count": 29,
   "metadata": {},
   "outputs": [
    {
     "data": {
      "text/plain": [
       "Index(['Credit History', 'Age', 'Gender', 'Job', 'Housing', 'Saving accounts',\n",
       "       'Credit amount', 'Duration', 'Purpose', 'Risk'],\n",
       "      dtype='object')"
      ]
     },
     "execution_count": 29,
     "metadata": {},
     "output_type": "execute_result"
    }
   ],
   "source": [
    "german_credit.columns.unique()"
   ]
  },
  {
   "cell_type": "code",
   "execution_count": 30,
   "metadata": {
    "id": "HsSZjEtaCAZ1"
   },
   "outputs": [
    {
     "name": "stdout",
     "output_type": "stream",
     "text": [
      "+-------------------+------------+----------------------------+\n",
      "| Credit History    | Risk       |   phi(Credit History,Risk) |\n",
      "+===================+============+============================+\n",
      "| Credit History(0) | Risk(bad)  |                     0.0256 |\n",
      "+-------------------+------------+----------------------------+\n",
      "| Credit History(0) | Risk(good) |                     0.0167 |\n",
      "+-------------------+------------+----------------------------+\n",
      "| Credit History(1) | Risk(bad)  |                     0.0289 |\n",
      "+-------------------+------------+----------------------------+\n",
      "| Credit History(1) | Risk(good) |                     0.0222 |\n",
      "+-------------------+------------+----------------------------+\n",
      "| Credit History(2) | Risk(bad)  |                     0.1611 |\n",
      "+-------------------+------------+----------------------------+\n",
      "| Credit History(2) | Risk(good) |                     0.3633 |\n",
      "+-------------------+------------+----------------------------+\n",
      "| Credit History(3) | Risk(bad)  |                     0.0267 |\n",
      "+-------------------+------------+----------------------------+\n",
      "| Credit History(3) | Risk(good) |                     0.0600 |\n",
      "+-------------------+------------+----------------------------+\n",
      "| Credit History(4) | Risk(bad)  |                     0.0478 |\n",
      "+-------------------+------------+----------------------------+\n",
      "| Credit History(4) | Risk(good) |                     0.2478 |\n",
      "+-------------------+------------+----------------------------+\n",
      "+--------+------------+-----------------+\n",
      "| Job    | Risk       |   phi(Job,Risk) |\n",
      "+========+============+=================+\n",
      "| Job(0) | Risk(bad)  |          0.0053 |\n",
      "+--------+------------+-----------------+\n",
      "| Job(0) | Risk(good) |          0.0136 |\n",
      "+--------+------------+-----------------+\n",
      "| Job(1) | Risk(bad)  |          0.0566 |\n",
      "+--------+------------+-----------------+\n",
      "| Job(1) | Risk(good) |          0.1489 |\n",
      "+--------+------------+-----------------+\n",
      "| Job(2) | Risk(bad)  |          0.1803 |\n",
      "+--------+------------+-----------------+\n",
      "| Job(2) | Risk(good) |          0.4431 |\n",
      "+--------+------------+-----------------+\n",
      "| Job(3) | Risk(bad)  |          0.0479 |\n",
      "+--------+------------+-----------------+\n",
      "| Job(3) | Risk(good) |          0.1044 |\n",
      "+--------+------------+-----------------+\n"
     ]
    }
   ],
   "source": [
    "print(inference.query(variables=['Credit History','Risk']))\n",
    "print(inference.query(variables=['Job','Risk']))\n"
   ]
  },
  {
   "cell_type": "code",
   "execution_count": 31,
   "metadata": {},
   "outputs": [
    {
     "name": "stdout",
     "output_type": "stream",
     "text": [
      "+------------+-------------+\n",
      "| Risk       |   phi(Risk) |\n",
      "+============+=============+\n",
      "| Risk(bad)  |      0.2786 |\n",
      "+------------+-------------+\n",
      "| Risk(good) |      0.7214 |\n",
      "+------------+-------------+\n",
      "+------------+-------------+\n",
      "| Risk       |   phi(Risk) |\n",
      "+============+=============+\n",
      "| Risk(bad)  |      0.2754 |\n",
      "+------------+-------------+\n",
      "| Risk(good) |      0.7246 |\n",
      "+------------+-------------+\n",
      "+------------+-------------+\n",
      "| Risk       |   phi(Risk) |\n",
      "+============+=============+\n",
      "| Risk(bad)  |      0.2892 |\n",
      "+------------+-------------+\n",
      "| Risk(good) |      0.7108 |\n",
      "+------------+-------------+\n",
      "+------------+-------------+\n",
      "| Risk       |   phi(Risk) |\n",
      "+============+=============+\n",
      "| Risk(bad)  |      0.3144 |\n",
      "+------------+-------------+\n",
      "| Risk(good) |      0.6856 |\n",
      "+------------+-------------+\n"
     ]
    }
   ],
   "source": [
    "print(inference.query(variables=['Risk'],evidence={'Job':0}))\n",
    "print(inference.query(variables=['Risk'],evidence={'Job':1}))\n",
    "print(inference.query(variables=['Risk'],evidence={'Job':2}))\n",
    "print(inference.query(variables=['Risk'],evidence={'Job':3}))\n"
   ]
  },
  {
   "cell_type": "code",
   "execution_count": 32,
   "metadata": {},
   "outputs": [
    {
     "data": {
      "application/vnd.jupyter.widget-view+json": {
       "model_id": "294883ab9ba7448db62dc92d94b7ffe7",
       "version_major": 2,
       "version_minor": 0
      },
      "text/plain": [
       "  0%|          | 0/2 [00:00<?, ?it/s]"
      ]
     },
     "metadata": {},
     "output_type": "display_data"
    },
    {
     "data": {
      "application/vnd.jupyter.widget-view+json": {
       "model_id": "97b5b34798c2447381142dc232156bb0",
       "version_major": 2,
       "version_minor": 0
      },
      "text/plain": [
       "  0%|          | 0/2 [00:00<?, ?it/s]"
      ]
     },
     "metadata": {},
     "output_type": "display_data"
    },
    {
     "name": "stdout",
     "output_type": "stream",
     "text": [
      "{'Risk': 'good'}\n"
     ]
    }
   ],
   "source": [
    "print(inference.map_query(variables=['Risk'],evidence={'Job':3}))"
   ]
  },
  {
   "cell_type": "markdown",
   "metadata": {
    "id": "LJ9rhBib-qsG"
   },
   "source": [
    "**BONUS Question** Job categories go from \"0 - unskilled\" to \"3 - highly skilled\". Does the risk evolution in function of the Job attribute correspond to your expectations? If not, what could be the reason for the difference?"
   ]
  },
  {
   "cell_type": "markdown",
   "metadata": {},
   "source": [
    "There is only a slight difference for Job 3, who are highly skilled. It is unexpected as these people should in theory be better at managing their finances. However in practice the opposite happens. "
   ]
  },
  {
   "cell_type": "markdown",
   "metadata": {
    "id": "HBDlkyxy9eWF"
   },
   "source": [
    "The Bayesian Network associated to german credit has 9 variables. The previous joint and conditional distribution only involve 2 of them. Therefore, the algorithm has eliminated 7 variables.\n",
    "\n",
    "The computation time of the inference might change depending on the order in which variables are eliminated. The elimination order is controlled by the parameter `elimination_order` of the `.query` method.\n",
    "\n",
    "**TODO 2.3** For an identical query of joint probability $\\mathbb{P}(Risk, .)$ between the Risk and an arbitrary variable, measure the time spent when given different elimination orders (`greedy`, `MinFill`, `MinNeighbors`, `MinWeight`). You may use `time.time()` to obtain the current time."
   ]
  },
  {
   "cell_type": "code",
   "execution_count": 33,
   "metadata": {
    "id": "4jf4HBri9-1O"
   },
   "outputs": [
    {
     "name": "stdout",
     "output_type": "stream",
     "text": [
      "greedy time =  0.0015211105346679688\n"
     ]
    },
    {
     "data": {
      "application/vnd.jupyter.widget-view+json": {
       "model_id": "39670fd194114736820a697b74413843",
       "version_major": 2,
       "version_minor": 0
      },
      "text/plain": [
       "  0%|          | 0/2 [00:00<?, ?it/s]"
      ]
     },
     "metadata": {},
     "output_type": "display_data"
    },
    {
     "data": {
      "application/vnd.jupyter.widget-view+json": {
       "model_id": "acb077467948462ebb855ff4cbab1839",
       "version_major": 2,
       "version_minor": 0
      },
      "text/plain": [
       "  0%|          | 0/2 [00:00<?, ?it/s]"
      ]
     },
     "metadata": {},
     "output_type": "display_data"
    },
    {
     "name": "stdout",
     "output_type": "stream",
     "text": [
      "Minfill time =  0.035286903381347656\n"
     ]
    },
    {
     "data": {
      "application/vnd.jupyter.widget-view+json": {
       "model_id": "79b553b476ba48118bfbcccbc6bee12c",
       "version_major": 2,
       "version_minor": 0
      },
      "text/plain": [
       "  0%|          | 0/2 [00:00<?, ?it/s]"
      ]
     },
     "metadata": {},
     "output_type": "display_data"
    },
    {
     "data": {
      "application/vnd.jupyter.widget-view+json": {
       "model_id": "8e28bace5201411ebdb28819c0a6d011",
       "version_major": 2,
       "version_minor": 0
      },
      "text/plain": [
       "  0%|          | 0/2 [00:00<?, ?it/s]"
      ]
     },
     "metadata": {},
     "output_type": "display_data"
    },
    {
     "name": "stdout",
     "output_type": "stream",
     "text": [
      "MinNeighbors time =  0.01768016815185547\n"
     ]
    },
    {
     "data": {
      "application/vnd.jupyter.widget-view+json": {
       "model_id": "c3e7fcfbf2cf4361b8beb649e4bfeb06",
       "version_major": 2,
       "version_minor": 0
      },
      "text/plain": [
       "  0%|          | 0/2 [00:00<?, ?it/s]"
      ]
     },
     "metadata": {},
     "output_type": "display_data"
    },
    {
     "data": {
      "application/vnd.jupyter.widget-view+json": {
       "model_id": "199e070f4ccd4dc6a67b4b1fb9ee8508",
       "version_major": 2,
       "version_minor": 0
      },
      "text/plain": [
       "  0%|          | 0/2 [00:00<?, ?it/s]"
      ]
     },
     "metadata": {},
     "output_type": "display_data"
    },
    {
     "name": "stdout",
     "output_type": "stream",
     "text": [
      "MinWeight time =  0.01789116859436035\n"
     ]
    }
   ],
   "source": [
    "start_time = time.time()\n",
    "inference.query(variables=['Risk'],evidence={'Job':3},elimination_order='greedy')\n",
    "print('greedy time = ', time.time()-start_time)\n",
    "\n",
    "start_time = time.time()\n",
    "inference.query(variables=['Risk'],evidence={'Job':3},elimination_order='MinFill')\n",
    "print('Minfill time = ', time.time()-start_time)\n",
    "\n",
    "start_time = time.time()\n",
    "inference.query(variables=['Risk'],evidence={'Job':3},elimination_order='MinNeighbors')\n",
    "print('MinNeighbors time = ', time.time()-start_time)\n",
    "\n",
    "start_time = time.time()\n",
    "inference.query(variables=['Risk'],evidence={'Job':3},elimination_order='MinWeight')\n",
    "print('MinWeight time = ', time.time()-start_time)\n"
   ]
  },
  {
   "cell_type": "markdown",
   "metadata": {
    "id": "L3kzaqiH1AEr"
   },
   "source": [
    "The Bayesian Network can help us with *Feature Selection*. The goal of feature selection is to select a subset of variables that contain all the necessary information about `Risk`, i.e., the *Markov Blanket*.\n",
    "\n",
    "For instance, variable `Job` might have information on `Risk` (i.e., not independent), but this information might already be contained in another variable, making `Job` redundant.\n",
    "\n",
    "**TODO 2.4** To know which variables can be made independent from `Risk` by conditioning on other variables, it is possible to use the graph structure. Find a Markov Blanket of `Risk`. The method `BayesianNetwork.get_markov_blanket` (https://pgmpy.org/base/base.html) is ready made for this task."
   ]
  },
  {
   "cell_type": "code",
   "execution_count": 34,
   "metadata": {
    "id": "5DB8pe0YHxc_"
   },
   "outputs": [
    {
     "data": {
      "text/plain": [
       "['Duration', 'Credit History', 'Saving accounts']"
      ]
     },
     "execution_count": 34,
     "metadata": {},
     "output_type": "execute_result"
    }
   ],
   "source": [
    "model.get_markov_blanket('Risk')"
   ]
  },
  {
   "cell_type": "markdown",
   "metadata": {
    "id": "wn9IyAkzQbm0"
   },
   "source": [
    "**Question** Interpret the markov blanket information: what is a markov blanket and what does it mean regarding how banks attribute credit risk rating?"
   ]
  },
  {
   "cell_type": "markdown",
   "metadata": {},
   "source": [
    "The markov blanket is made up of all the variables from which the studied variable (here 'Risk') is dependant. For this study, according the the calculated markov blanket, only the variables ['Duration', 'Credit History', 'Saving accounts'] are necessary to predict the behavior of the 'Risk' variable."
   ]
  },
  {
   "cell_type": "markdown",
   "metadata": {
    "id": "C4BcUiY29LEj"
   },
   "source": [
    "#### BONUS: causal inference\n",
    "\n",
    "**This bonus part covers an application of Bayesian Network not covered during the CM. You may go to part 3 directly then come back to it later.**"
   ]
  },
  {
   "cell_type": "markdown",
   "metadata": {
    "id": "tjwFqFRUBt-2"
   },
   "source": [
    "We will now consider the variable `Job`, for which we observe that Risk is different depending on the category. We can say clearly that Job and Risk aren't **independent**. What we cannot say while looking uniquely at the conditional probability distribution, is whether `Job` influences (is a cause of) `Risk`. Indeed, variables can be associated but not causated.\n",
    "\n",
    "It is generally difficult to determine causal relationships from observed data. Assuming that causal effects are *linear* (meaning that if `Job` has an influence on `Risk`, then this influence can be correctly modeled by a linear regression model), the causal inference framework (https://pgmpy.org/exact_infer/causal.html) allows to estimate whether two associated variables have a causal influence on each other (Average Treatement Effect https://en.wikipedia.org/wiki/Average_treatment_effect). The question it solves is the following: \"if a credit seeker's job category were to increase due to a job change, how much would Risk increase?\"\n",
    "\n",
    "Precisely, the ATE is the difference between the expected Risk when the job stays the same, compared to the expected Risk when the job category increases.\n",
    "\n",
    "**TODO 2.6**: Apply `pgmpy.inference.CausalInference` with its method `.estimate_ate` on training data, to infer if `Job` has an influence on `Risk`."
   ]
  },
  {
   "cell_type": "markdown",
   "metadata": {
    "id": "8NnT3rQ-RAUU"
   },
   "source": [
    "**Question**: Is Job category causaly linked to Risk?"
   ]
  },
  {
   "cell_type": "markdown",
   "metadata": {
    "id": "zVllX7cbfCeg"
   },
   "source": [
    "We now consider the variable `Duration`. We can confirm that it is associated to `Risk`, with higher credit amount related to greater proportion of 'bad' risk. Again, we would like to know if this is a cause-effect relation.\n",
    "\n",
    "We will now use another way of quantifying causal relationships: *do-calculus* with *counterfactuals*. The question it solves is: \"if all credit seekers were to be attributed the same duration by the bank, how would risk be distributed?\" If Duration and Risk are not causaly linked, then the resulting distribution of Risk will be identical for all durations.\n",
    "\n",
    "**TODO 2.7**: Use `CausalInference.query` to estimate the Risk after a do operation on Duration for each category of duration (specify `do={\"Duration\":value}` for appropriate values).\n"
   ]
  },
  {
   "cell_type": "code",
   "execution_count": 35,
   "metadata": {
    "id": "UYopFbB4ePa3"
   },
   "outputs": [],
   "source": [
    "#TODO"
   ]
  },
  {
   "cell_type": "markdown",
   "metadata": {
    "id": "8UoszafdvCij"
   },
   "source": [
    "**Question**: Is Duration causaly linked to Risk?"
   ]
  },
  {
   "cell_type": "markdown",
   "metadata": {
    "id": "oweGhK58voic"
   },
   "source": [
    "## Part 3: Bayesian models as predictive models\n",
    "\n",
    "Now that we have learned a model of the training data, we can apply it to validation data to evaluate how it works as a predictive model. We can use Maximum A Posteriori inference, to find out what Risk is most likely considering the values of the other variables. Formally, for a given validation sample $s$ where Risk is removed, we want to estimate $\\arg \\max \\mathbb{P}(Risk | Gender,...,Housing=s)$.\n",
    "\n",
    "**TODO 3.1**: Use `VariableElimination.map_query` (https://pgmpy.org/exact_infer/ve.html) to predict and store credit risk for each sample in the validation set. You can iterate over samples by using `val_set.to_dict()`, each row being converted to a dictionary. Make sure to not include `Risk` in the evidences.\n",
    "\n",
    "You will need to store the true risk in a list `y_true` for each sample, and store the corresponding predicted value into a list `y_pred`."
   ]
  },
  {
   "cell_type": "markdown",
   "metadata": {},
   "source": [
    "NOT FINISHED"
   ]
  },
  {
   "cell_type": "code",
   "execution_count": 36,
   "metadata": {},
   "outputs": [],
   "source": [
    "y_true = val_set['Risk']"
   ]
  },
  {
   "cell_type": "code",
   "execution_count": 37,
   "metadata": {},
   "outputs": [
    {
     "data": {
      "text/plain": [
       "dict_values([{8: 2, 29: 3, 45: 4, 47: 2, 80: 2, 92: 4, 104: 2, 109: 2, 111: 2, 115: 4, 118: 4, 124: 2, 140: 2, 150: 2, 154: 3, 158: 2, 162: 2, 180: 3, 188: 2, 200: 4, 222: 2, 239: 2, 253: 3, 259: 4, 298: 2, 304: 4, 308: 2, 331: 4, 338: 2, 354: 2, 359: 2, 361: 2, 364: 2, 367: 2, 371: 4, 377: 3, 378: 2, 379: 4, 385: 4, 386: 2, 392: 2, 394: 4, 400: 2, 403: 3, 447: 2, 451: 2, 493: 2, 508: 2, 510: 2, 515: 4, 534: 2, 538: 2, 543: 2, 547: 2, 553: 4, 556: 0, 558: 1, 565: 3, 583: 2, 586: 4, 606: 4, 614: 3, 625: 2, 633: 2, 639: 3, 641: 2, 642: 2, 648: 2, 654: 4, 673: 4, 675: 4, 684: 3, 698: 4, 700: 2, 728: 1, 733: 2, 736: 2, 739: 0, 743: 1, 780: 4, 790: 2, 799: 2, 804: 2, 812: 4, 814: 2, 819: 2, 834: 2, 846: 2, 850: 4, 857: 4, 864: 2, 894: 4, 913: 2, 922: 2, 932: 4, 942: 2, 952: 2, 976: 2, 984: 4, 992: 2}, {8: Interval(38.0, 75.0, closed='right'), 29: Interval(38.0, 75.0, closed='right'), 45: Interval(28.0, 38.0, closed='right'), 47: Interval(18.999, 28.0, closed='right'), 80: Interval(38.0, 75.0, closed='right'), 92: Interval(28.0, 38.0, closed='right'), 104: Interval(18.999, 28.0, closed='right'), 109: Interval(28.0, 38.0, closed='right'), 111: Interval(18.999, 28.0, closed='right'), 115: Interval(38.0, 75.0, closed='right'), 118: Interval(18.999, 28.0, closed='right'), 124: Interval(18.999, 28.0, closed='right'), 140: Interval(18.999, 28.0, closed='right'), 150: Interval(38.0, 75.0, closed='right'), 154: Interval(28.0, 38.0, closed='right'), 158: Interval(28.0, 38.0, closed='right'), 162: Interval(28.0, 38.0, closed='right'), 180: Interval(18.999, 28.0, closed='right'), 188: Interval(18.999, 28.0, closed='right'), 200: Interval(38.0, 75.0, closed='right'), 222: Interval(28.0, 38.0, closed='right'), 239: Interval(38.0, 75.0, closed='right'), 253: Interval(28.0, 38.0, closed='right'), 259: Interval(38.0, 75.0, closed='right'), 298: Interval(38.0, 75.0, closed='right'), 304: Interval(38.0, 75.0, closed='right'), 308: Interval(18.999, 28.0, closed='right'), 331: Interval(28.0, 38.0, closed='right'), 338: Interval(18.999, 28.0, closed='right'), 354: Interval(38.0, 75.0, closed='right'), 359: Interval(18.999, 28.0, closed='right'), 361: Interval(28.0, 38.0, closed='right'), 364: Interval(18.999, 28.0, closed='right'), 367: Interval(18.999, 28.0, closed='right'), 371: Interval(28.0, 38.0, closed='right'), 377: Interval(28.0, 38.0, closed='right'), 378: Interval(38.0, 75.0, closed='right'), 379: Interval(38.0, 75.0, closed='right'), 385: Interval(18.999, 28.0, closed='right'), 386: Interval(18.999, 28.0, closed='right'), 392: Interval(38.0, 75.0, closed='right'), 394: Interval(28.0, 38.0, closed='right'), 400: Interval(38.0, 75.0, closed='right'), 403: Interval(18.999, 28.0, closed='right'), 447: Interval(28.0, 38.0, closed='right'), 451: Interval(28.0, 38.0, closed='right'), 493: Interval(28.0, 38.0, closed='right'), 508: Interval(18.999, 28.0, closed='right'), 510: Interval(18.999, 28.0, closed='right'), 515: Interval(28.0, 38.0, closed='right'), 534: Interval(18.999, 28.0, closed='right'), 538: Interval(38.0, 75.0, closed='right'), 543: Interval(28.0, 38.0, closed='right'), 547: Interval(28.0, 38.0, closed='right'), 553: Interval(18.999, 28.0, closed='right'), 556: Interval(18.999, 28.0, closed='right'), 558: Interval(18.999, 28.0, closed='right'), 565: Interval(18.999, 28.0, closed='right'), 583: Interval(28.0, 38.0, closed='right'), 586: Interval(28.0, 38.0, closed='right'), 606: Interval(38.0, 75.0, closed='right'), 614: Interval(18.999, 28.0, closed='right'), 625: Interval(28.0, 38.0, closed='right'), 633: Interval(18.999, 28.0, closed='right'), 639: Interval(18.999, 28.0, closed='right'), 641: Interval(28.0, 38.0, closed='right'), 642: Interval(38.0, 75.0, closed='right'), 648: Interval(28.0, 38.0, closed='right'), 654: Interval(28.0, 38.0, closed='right'), 673: Interval(18.999, 28.0, closed='right'), 675: Interval(18.999, 28.0, closed='right'), 684: Interval(28.0, 38.0, closed='right'), 698: Interval(18.999, 28.0, closed='right'), 700: Interval(28.0, 38.0, closed='right'), 728: Interval(38.0, 75.0, closed='right'), 733: Interval(18.999, 28.0, closed='right'), 736: Interval(18.999, 28.0, closed='right'), 739: Interval(18.999, 28.0, closed='right'), 743: Interval(18.999, 28.0, closed='right'), 780: Interval(18.999, 28.0, closed='right'), 790: Interval(38.0, 75.0, closed='right'), 799: Interval(28.0, 38.0, closed='right'), 804: Interval(18.999, 28.0, closed='right'), 812: Interval(18.999, 28.0, closed='right'), 814: Interval(38.0, 75.0, closed='right'), 819: Interval(18.999, 28.0, closed='right'), 834: Interval(18.999, 28.0, closed='right'), 846: Interval(38.0, 75.0, closed='right'), 850: Interval(28.0, 38.0, closed='right'), 857: Interval(18.999, 28.0, closed='right'), 864: Interval(18.999, 28.0, closed='right'), 894: Interval(28.0, 38.0, closed='right'), 913: Interval(18.999, 28.0, closed='right'), 922: Interval(18.999, 28.0, closed='right'), 932: Interval(28.0, 38.0, closed='right'), 942: Interval(28.0, 38.0, closed='right'), 952: Interval(18.999, 28.0, closed='right'), 976: Interval(38.0, 75.0, closed='right'), 984: Interval(28.0, 38.0, closed='right'), 992: Interval(18.999, 28.0, closed='right')}, {8: 'male', 29: 'male', 45: 'female', 47: 'female', 80: 'female', 92: 'female', 104: 'male', 109: 'male', 111: 'female', 115: 'male', 118: 'female', 124: 'female', 140: 'male', 150: 'male', 154: 'male', 158: 'male', 162: 'male', 180: 'male', 188: 'male', 200: 'male', 222: 'male', 239: 'male', 253: 'male', 259: 'female', 298: 'male', 304: 'male', 308: 'female', 331: 'female', 338: 'male', 354: 'male', 359: 'female', 361: 'male', 364: 'male', 367: 'female', 371: 'male', 377: 'male', 378: 'male', 379: 'female', 385: 'female', 386: 'female', 392: 'male', 394: 'male', 400: 'male', 403: 'male', 447: 'male', 451: 'female', 493: 'male', 508: 'male', 510: 'male', 515: 'female', 534: 'male', 538: 'male', 543: 'male', 547: 'male', 553: 'male', 556: 'female', 558: 'male', 565: 'female', 583: 'male', 586: 'male', 606: 'male', 614: 'female', 625: 'male', 633: 'female', 639: 'male', 641: 'male', 642: 'male', 648: 'male', 654: 'male', 673: 'male', 675: 'female', 684: 'male', 698: 'male', 700: 'female', 728: 'female', 733: 'female', 736: 'female', 739: 'female', 743: 'male', 780: 'male', 790: 'female', 799: 'male', 804: 'female', 812: 'male', 814: 'male', 819: 'male', 834: 'female', 846: 'male', 850: 'male', 857: 'male', 864: 'male', 894: 'male', 913: 'male', 922: 'female', 932: 'male', 942: 'male', 952: 'female', 976: 'female', 984: 'male', 992: 'male'}, {8: 1, 29: 2, 45: 3, 47: 0, 80: 2, 92: 1, 104: 2, 109: 2, 111: 2, 115: 2, 118: 2, 124: 2, 140: 0, 150: 2, 154: 3, 158: 2, 162: 2, 180: 2, 188: 2, 200: 2, 222: 2, 239: 2, 253: 2, 259: 1, 298: 2, 304: 2, 308: 2, 331: 2, 338: 2, 354: 2, 359: 2, 361: 3, 364: 0, 367: 2, 371: 2, 377: 2, 378: 3, 379: 1, 385: 2, 386: 2, 392: 3, 394: 3, 400: 2, 403: 1, 447: 2, 451: 2, 493: 2, 508: 2, 510: 2, 515: 2, 534: 2, 538: 3, 543: 1, 547: 2, 553: 2, 556: 2, 558: 2, 565: 2, 583: 1, 586: 2, 606: 3, 614: 2, 625: 2, 633: 2, 639: 2, 641: 1, 642: 3, 648: 2, 654: 2, 673: 2, 675: 3, 684: 1, 698: 2, 700: 1, 728: 2, 733: 2, 736: 3, 739: 1, 743: 2, 780: 2, 790: 2, 799: 0, 804: 0, 812: 2, 814: 2, 819: 2, 834: 1, 846: 2, 850: 2, 857: 2, 864: 1, 894: 2, 913: 2, 922: 2, 932: 2, 942: 2, 952: 2, 976: 2, 984: 1, 992: 1}, {8: 'own', 29: 'own', 45: 'own', 47: 'rent', 80: 'own', 92: 'own', 104: 'rent', 109: 'own', 111: 'rent', 115: 'own', 118: 'own', 124: 'rent', 140: 'own', 150: 'free', 154: 'rent', 158: 'own', 162: 'own', 180: 'own', 188: 'own', 200: 'own', 222: 'own', 239: 'own', 253: 'own', 259: 'own', 298: 'own', 304: 'free', 308: 'own', 331: 'own', 338: 'own', 354: 'free', 359: 'rent', 361: 'own', 364: 'own', 367: 'rent', 371: 'own', 377: 'free', 378: 'free', 379: 'own', 385: 'own', 386: 'rent', 392: 'free', 394: 'own', 400: 'own', 403: 'own', 447: 'own', 451: 'own', 493: 'own', 508: 'own', 510: 'own', 515: 'own', 534: 'own', 538: 'free', 543: 'own', 547: 'own', 553: 'own', 556: 'own', 558: 'own', 565: 'rent', 583: 'rent', 586: 'rent', 606: 'own', 614: 'own', 625: 'own', 633: 'rent', 639: 'own', 641: 'own', 642: 'own', 648: 'free', 654: 'own', 673: 'own', 675: 'rent', 684: 'own', 698: 'own', 700: 'rent', 728: 'rent', 733: 'rent', 736: 'rent', 739: 'rent', 743: 'own', 780: 'own', 790: 'own', 799: 'own', 804: 'rent', 812: 'own', 814: 'free', 819: 'own', 834: 'own', 846: 'rent', 850: 'rent', 857: 'free', 864: 'rent', 894: 'own', 913: 'own', 922: 'rent', 932: 'own', 942: 'own', 952: 'rent', 976: 'own', 984: 'own', 992: 'rent'}, {8: 'rich', 29: 'little', 45: 'little', 47: 'quite rich', 80: 'no account', 92: 'no account', 104: 'no account', 109: 'quite rich', 111: 'little', 115: 'no account', 118: 'quite rich', 124: 'no account', 140: 'rich', 150: 'moderate', 154: 'moderate', 158: 'moderate', 162: 'quite rich', 180: 'little', 188: 'moderate', 200: 'quite rich', 222: 'little', 239: 'little', 253: 'moderate', 259: 'moderate', 298: 'little', 304: 'quite rich', 308: 'little', 331: 'moderate', 338: 'little', 354: 'quite rich', 359: 'little', 361: 'no account', 364: 'little', 367: 'little', 371: 'little', 377: 'no account', 378: 'little', 379: 'moderate', 385: 'little', 386: 'no account', 392: 'little', 394: 'little', 400: 'little', 403: 'little', 447: 'little', 451: 'little', 493: 'no account', 508: 'little', 510: 'little', 515: 'little', 534: 'no account', 538: 'little', 543: 'little', 547: 'little', 553: 'moderate', 556: 'moderate', 558: 'little', 565: 'moderate', 583: 'little', 586: 'little', 606: 'little', 614: 'little', 625: 'no account', 633: 'little', 639: 'little', 641: 'little', 642: 'moderate', 648: 'little', 654: 'little', 673: 'quite rich', 675: 'little', 684: 'moderate', 698: 'little', 700: 'quite rich', 728: 'little', 733: 'rich', 736: 'little', 739: 'moderate', 743: 'quite rich', 780: 'little', 790: 'little', 799: 'no account', 804: 'no account', 812: 'little', 814: 'little', 819: 'little', 834: 'little', 846: 'no account', 850: 'little', 857: 'little', 864: 'little', 894: 'no account', 913: 'rich', 922: 'little', 932: 'little', 942: 'no account', 952: 'quite rich', 976: 'little', 984: 'little', 992: 'no account'}, {8: Interval(1554.0, 3368.0, closed='right'), 29: Interval(3368.0, 18424.0, closed='right'), 45: Interval(249.999, 1554.0, closed='right'), 47: Interval(249.999, 1554.0, closed='right'), 80: Interval(3368.0, 18424.0, closed='right'), 92: Interval(249.999, 1554.0, closed='right'), 104: Interval(1554.0, 3368.0, closed='right'), 109: Interval(249.999, 1554.0, closed='right'), 111: Interval(249.999, 1554.0, closed='right'), 115: Interval(3368.0, 18424.0, closed='right'), 118: Interval(3368.0, 18424.0, closed='right'), 124: Interval(1554.0, 3368.0, closed='right'), 140: Interval(249.999, 1554.0, closed='right'), 150: Interval(249.999, 1554.0, closed='right'), 154: Interval(3368.0, 18424.0, closed='right'), 158: Interval(3368.0, 18424.0, closed='right'), 162: Interval(249.999, 1554.0, closed='right'), 180: Interval(3368.0, 18424.0, closed='right'), 188: Interval(249.999, 1554.0, closed='right'), 200: Interval(249.999, 1554.0, closed='right'), 222: Interval(249.999, 1554.0, closed='right'), 239: Interval(1554.0, 3368.0, closed='right'), 253: Interval(3368.0, 18424.0, closed='right'), 259: Interval(249.999, 1554.0, closed='right'), 298: Interval(1554.0, 3368.0, closed='right'), 304: Interval(3368.0, 18424.0, closed='right'), 308: Interval(249.999, 1554.0, closed='right'), 331: Interval(1554.0, 3368.0, closed='right'), 338: Interval(3368.0, 18424.0, closed='right'), 354: Interval(249.999, 1554.0, closed='right'), 359: Interval(1554.0, 3368.0, closed='right'), 361: Interval(3368.0, 18424.0, closed='right'), 364: Interval(1554.0, 3368.0, closed='right'), 367: Interval(3368.0, 18424.0, closed='right'), 371: Interval(3368.0, 18424.0, closed='right'), 377: Interval(249.999, 1554.0, closed='right'), 378: Interval(3368.0, 18424.0, closed='right'), 379: Interval(249.999, 1554.0, closed='right'), 385: Interval(1554.0, 3368.0, closed='right'), 386: Interval(249.999, 1554.0, closed='right'), 392: Interval(1554.0, 3368.0, closed='right'), 394: Interval(1554.0, 3368.0, closed='right'), 400: Interval(249.999, 1554.0, closed='right'), 403: Interval(249.999, 1554.0, closed='right'), 447: Interval(1554.0, 3368.0, closed='right'), 451: Interval(249.999, 1554.0, closed='right'), 493: Interval(249.999, 1554.0, closed='right'), 508: Interval(249.999, 1554.0, closed='right'), 510: Interval(249.999, 1554.0, closed='right'), 515: Interval(249.999, 1554.0, closed='right'), 534: Interval(1554.0, 3368.0, closed='right'), 538: Interval(3368.0, 18424.0, closed='right'), 543: Interval(1554.0, 3368.0, closed='right'), 547: Interval(249.999, 1554.0, closed='right'), 553: Interval(1554.0, 3368.0, closed='right'), 556: Interval(1554.0, 3368.0, closed='right'), 558: Interval(3368.0, 18424.0, closed='right'), 565: Interval(249.999, 1554.0, closed='right'), 583: Interval(1554.0, 3368.0, closed='right'), 586: Interval(1554.0, 3368.0, closed='right'), 606: Interval(3368.0, 18424.0, closed='right'), 614: Interval(1554.0, 3368.0, closed='right'), 625: Interval(1554.0, 3368.0, closed='right'), 633: Interval(1554.0, 3368.0, closed='right'), 639: Interval(3368.0, 18424.0, closed='right'), 641: Interval(249.999, 1554.0, closed='right'), 642: Interval(3368.0, 18424.0, closed='right'), 648: Interval(249.999, 1554.0, closed='right'), 654: Interval(1554.0, 3368.0, closed='right'), 673: Interval(1554.0, 3368.0, closed='right'), 675: Interval(3368.0, 18424.0, closed='right'), 684: Interval(3368.0, 18424.0, closed='right'), 698: Interval(1554.0, 3368.0, closed='right'), 700: Interval(249.999, 1554.0, closed='right'), 728: Interval(3368.0, 18424.0, closed='right'), 733: Interval(1554.0, 3368.0, closed='right'), 736: Interval(3368.0, 18424.0, closed='right'), 739: Interval(3368.0, 18424.0, closed='right'), 743: Interval(1554.0, 3368.0, closed='right'), 780: Interval(3368.0, 18424.0, closed='right'), 790: Interval(249.999, 1554.0, closed='right'), 799: Interval(249.999, 1554.0, closed='right'), 804: Interval(3368.0, 18424.0, closed='right'), 812: Interval(3368.0, 18424.0, closed='right'), 814: Interval(3368.0, 18424.0, closed='right'), 819: Interval(249.999, 1554.0, closed='right'), 834: Interval(1554.0, 3368.0, closed='right'), 846: Interval(3368.0, 18424.0, closed='right'), 850: Interval(1554.0, 3368.0, closed='right'), 857: Interval(1554.0, 3368.0, closed='right'), 864: Interval(1554.0, 3368.0, closed='right'), 894: Interval(249.999, 1554.0, closed='right'), 913: Interval(1554.0, 3368.0, closed='right'), 922: Interval(249.999, 1554.0, closed='right'), 932: Interval(249.999, 1554.0, closed='right'), 942: Interval(249.999, 1554.0, closed='right'), 952: Interval(3368.0, 18424.0, closed='right'), 976: Interval(249.999, 1554.0, closed='right'), 984: Interval(1554.0, 3368.0, closed='right'), 992: Interval(1554.0, 3368.0, closed='right')}, {8: Interval(3.999, 12.0, closed='right'), 29: Interval(24.0, 72.0, closed='right'), 45: Interval(3.999, 12.0, closed='right'), 47: Interval(3.999, 12.0, closed='right'), 80: Interval(12.0, 24.0, closed='right'), 92: Interval(3.999, 12.0, closed='right'), 104: Interval(3.999, 12.0, closed='right'), 109: Interval(12.0, 24.0, closed='right'), 111: Interval(12.0, 24.0, closed='right'), 115: Interval(24.0, 72.0, closed='right'), 118: Interval(24.0, 72.0, closed='right'), 124: Interval(12.0, 24.0, closed='right'), 140: Interval(3.999, 12.0, closed='right'), 150: Interval(3.999, 12.0, closed='right'), 154: Interval(12.0, 24.0, closed='right'), 158: Interval(12.0, 24.0, closed='right'), 162: Interval(12.0, 24.0, closed='right'), 180: Interval(24.0, 72.0, closed='right'), 188: Interval(3.999, 12.0, closed='right'), 200: Interval(3.999, 12.0, closed='right'), 222: Interval(3.999, 12.0, closed='right'), 239: Interval(24.0, 72.0, closed='right'), 253: Interval(12.0, 24.0, closed='right'), 259: Interval(3.999, 12.0, closed='right'), 298: Interval(12.0, 24.0, closed='right'), 304: Interval(24.0, 72.0, closed='right'), 308: Interval(3.999, 12.0, closed='right'), 331: Interval(12.0, 24.0, closed='right'), 338: Interval(12.0, 24.0, closed='right'), 354: Interval(3.999, 12.0, closed='right'), 359: Interval(24.0, 72.0, closed='right'), 361: Interval(3.999, 12.0, closed='right'), 364: Interval(12.0, 24.0, closed='right'), 367: Interval(12.0, 24.0, closed='right'), 371: Interval(12.0, 24.0, closed='right'), 377: Interval(3.999, 12.0, closed='right'), 378: Interval(24.0, 72.0, closed='right'), 379: Interval(3.999, 12.0, closed='right'), 385: Interval(12.0, 24.0, closed='right'), 386: Interval(12.0, 24.0, closed='right'), 392: Interval(24.0, 72.0, closed='right'), 394: Interval(3.999, 12.0, closed='right'), 400: Interval(12.0, 24.0, closed='right'), 403: Interval(12.0, 24.0, closed='right'), 447: Interval(3.999, 12.0, closed='right'), 451: Interval(3.999, 12.0, closed='right'), 493: Interval(3.999, 12.0, closed='right'), 508: Interval(12.0, 24.0, closed='right'), 510: Interval(3.999, 12.0, closed='right'), 515: Interval(3.999, 12.0, closed='right'), 534: Interval(12.0, 24.0, closed='right'), 538: Interval(24.0, 72.0, closed='right'), 543: Interval(12.0, 24.0, closed='right'), 547: Interval(12.0, 24.0, closed='right'), 553: Interval(3.999, 12.0, closed='right'), 556: Interval(12.0, 24.0, closed='right'), 558: Interval(12.0, 24.0, closed='right'), 565: Interval(12.0, 24.0, closed='right'), 583: Interval(24.0, 72.0, closed='right'), 586: Interval(3.999, 12.0, closed='right'), 606: Interval(12.0, 24.0, closed='right'), 614: Interval(12.0, 24.0, closed='right'), 625: Interval(12.0, 24.0, closed='right'), 633: Interval(3.999, 12.0, closed='right'), 639: Interval(24.0, 72.0, closed='right'), 641: Interval(12.0, 24.0, closed='right'), 642: Interval(12.0, 24.0, closed='right'), 648: Interval(12.0, 24.0, closed='right'), 654: Interval(12.0, 24.0, closed='right'), 673: Interval(3.999, 12.0, closed='right'), 675: Interval(24.0, 72.0, closed='right'), 684: Interval(24.0, 72.0, closed='right'), 698: Interval(12.0, 24.0, closed='right'), 700: Interval(3.999, 12.0, closed='right'), 728: Interval(24.0, 72.0, closed='right'), 733: Interval(12.0, 24.0, closed='right'), 736: Interval(12.0, 24.0, closed='right'), 739: Interval(24.0, 72.0, closed='right'), 743: Interval(12.0, 24.0, closed='right'), 780: Interval(24.0, 72.0, closed='right'), 790: Interval(12.0, 24.0, closed='right'), 799: Interval(3.999, 12.0, closed='right'), 804: Interval(3.999, 12.0, closed='right'), 812: Interval(24.0, 72.0, closed='right'), 814: Interval(24.0, 72.0, closed='right'), 819: Interval(12.0, 24.0, closed='right'), 834: Interval(12.0, 24.0, closed='right'), 846: Interval(12.0, 24.0, closed='right'), 850: Interval(12.0, 24.0, closed='right'), 857: Interval(12.0, 24.0, closed='right'), 864: Interval(3.999, 12.0, closed='right'), 894: Interval(12.0, 24.0, closed='right'), 913: Interval(3.999, 12.0, closed='right'), 922: Interval(3.999, 12.0, closed='right'), 932: Interval(3.999, 12.0, closed='right'), 942: Interval(12.0, 24.0, closed='right'), 952: Interval(12.0, 24.0, closed='right'), 976: Interval(3.999, 12.0, closed='right'), 984: Interval(12.0, 24.0, closed='right'), 992: Interval(12.0, 24.0, closed='right')}, {8: 'radio/TV', 29: 'business', 45: 'car', 47: 'car', 80: 'radio/TV', 92: 'radio/TV', 104: 'car', 109: 'business', 111: 'education', 115: 'radio/TV', 118: 'furniture/equipment', 124: 'furniture/equipment', 140: 'car', 150: 'radio/TV', 154: 'business', 158: 'car', 162: 'domestic appliances', 180: 'business', 188: 'radio/TV', 200: 'education', 222: 'radio/TV', 239: 'radio/TV', 253: 'furniture/equipment', 259: 'radio/TV', 298: 'furniture/equipment', 304: 'car', 308: 'furniture/equipment', 331: 'education', 338: 'furniture/equipment', 354: 'education', 359: 'furniture/equipment', 361: 'radio/TV', 364: 'furniture/equipment', 367: 'furniture/equipment', 371: 'radio/TV', 377: 'radio/TV', 378: 'car', 379: 'car', 385: 'radio/TV', 386: 'radio/TV', 392: 'car', 394: 'furniture/equipment', 400: 'radio/TV', 403: 'car', 447: 'radio/TV', 451: 'radio/TV', 493: 'radio/TV', 508: 'radio/TV', 510: 'car', 515: 'car', 534: 'radio/TV', 538: 'car', 543: 'furniture/equipment', 547: 'radio/TV', 553: 'car', 556: 'car', 558: 'furniture/equipment', 565: 'radio/TV', 583: 'repairs', 586: 'car', 606: 'business', 614: 'furniture/equipment', 625: 'radio/TV', 633: 'furniture/equipment', 639: 'radio/TV', 641: 'repairs', 642: 'education', 648: 'car', 654: 'car', 673: 'car', 675: 'radio/TV', 684: 'business', 698: 'radio/TV', 700: 'furniture/equipment', 728: 'business', 733: 'car', 736: 'car', 739: 'business', 743: 'furniture/equipment', 780: 'radio/TV', 790: 'business', 799: 'car', 804: 'car', 812: 'car', 814: 'car', 819: 'radio/TV', 834: 'radio/TV', 846: 'car', 850: 'car', 857: 'furniture/equipment', 864: 'furniture/equipment', 894: 'radio/TV', 913: 'business', 922: 'radio/TV', 932: 'car', 942: 'furniture/equipment', 952: 'car', 976: 'radio/TV', 984: 'furniture/equipment', 992: 'radio/TV'}, {8: 'good', 29: 'bad', 45: 'good', 47: 'good', 80: 'bad', 92: 'bad', 104: 'good', 109: 'good', 111: 'good', 115: 'good', 118: 'bad', 124: 'bad', 140: 'good', 150: 'good', 154: 'good', 158: 'good', 162: 'good', 180: 'bad', 188: 'bad', 200: 'good', 222: 'good', 239: 'good', 253: 'good', 259: 'good', 298: 'good', 304: 'bad', 308: 'bad', 331: 'bad', 338: 'good', 354: 'good', 359: 'bad', 361: 'good', 364: 'bad', 367: 'good', 371: 'good', 377: 'good', 378: 'bad', 379: 'good', 385: 'good', 386: 'good', 392: 'good', 394: 'good', 400: 'good', 403: 'good', 447: 'good', 451: 'good', 493: 'good', 508: 'good', 510: 'bad', 515: 'good', 534: 'good', 538: 'bad', 543: 'bad', 547: 'good', 553: 'good', 556: 'bad', 558: 'bad', 565: 'good', 583: 'bad', 586: 'good', 606: 'good', 614: 'bad', 625: 'good', 633: 'bad', 639: 'bad', 641: 'good', 642: 'bad', 648: 'bad', 654: 'good', 673: 'good', 675: 'good', 684: 'good', 698: 'good', 700: 'bad', 728: 'bad', 733: 'good', 736: 'bad', 739: 'bad', 743: 'good', 780: 'bad', 790: 'bad', 799: 'good', 804: 'good', 812: 'bad', 814: 'bad', 819: 'bad', 834: 'bad', 846: 'bad', 850: 'bad', 857: 'good', 864: 'bad', 894: 'good', 913: 'good', 922: 'bad', 932: 'good', 942: 'good', 952: 'bad', 976: 'good', 984: 'good', 992: 'good'}])"
      ]
     },
     "execution_count": 37,
     "metadata": {},
     "output_type": "execute_result"
    }
   ],
   "source": [
    "val_set.to_dict().values()"
   ]
  },
  {
   "cell_type": "code",
   "execution_count": 41,
   "metadata": {
    "id": "juI2DWjLZfjh"
   },
   "outputs": [
    {
     "ename": "ValueError",
     "evalue": "Node Job not in not in graph",
     "output_type": "error",
     "traceback": [
      "\u001b[1;31m---------------------------------------------------------------------------\u001b[0m",
      "\u001b[1;31mValueError\u001b[0m                                Traceback (most recent call last)",
      "Cell \u001b[1;32mIn[41], line 3\u001b[0m\n\u001b[0;32m      1\u001b[0m y_pred \u001b[38;5;241m=\u001b[39m []\n\u001b[0;32m      2\u001b[0m \u001b[38;5;28;01mfor\u001b[39;00m value \u001b[38;5;129;01min\u001b[39;00m val_set[\u001b[38;5;124m'\u001b[39m\u001b[38;5;124mJob\u001b[39m\u001b[38;5;124m'\u001b[39m]\u001b[38;5;241m.\u001b[39mto_dict()\u001b[38;5;241m.\u001b[39mvalues() :\n\u001b[1;32m----> 3\u001b[0m     y_pred\u001b[38;5;241m.\u001b[39mappend(\u001b[43minference\u001b[49m\u001b[38;5;241;43m.\u001b[39;49m\u001b[43mmap_query\u001b[49m\u001b[43m(\u001b[49m\u001b[43m[\u001b[49m\u001b[38;5;124;43m'\u001b[39;49m\u001b[38;5;124;43mRisk\u001b[39;49m\u001b[38;5;124;43m'\u001b[39;49m\u001b[43m]\u001b[49m\u001b[43m,\u001b[49m\u001b[43mevidence\u001b[49m\u001b[38;5;241;43m=\u001b[39;49m\u001b[43m{\u001b[49m\u001b[38;5;124;43m'\u001b[39;49m\u001b[38;5;124;43mJob\u001b[39;49m\u001b[38;5;124;43m'\u001b[39;49m\u001b[43m:\u001b[49m\u001b[43mvalue\u001b[49m\u001b[43m}\u001b[49m\u001b[43m,\u001b[49m\u001b[43mshow_progress\u001b[49m\u001b[38;5;241;43m=\u001b[39;49m\u001b[38;5;28;43;01mFalse\u001b[39;49;00m\u001b[43m)\u001b[49m\u001b[38;5;241m.\u001b[39mvalues())\n",
      "File \u001b[1;32mc:\\Users\\JERM\\anaconda3\\envs\\img_proc\\Lib\\site-packages\\pgmpy\\inference\\ExactInference.py:566\u001b[0m, in \u001b[0;36mVariableElimination.map_query\u001b[1;34m(self, variables, evidence, virtual_evidence, elimination_order, show_progress)\u001b[0m\n\u001b[0;32m    557\u001b[0m     \u001b[38;5;28;01mreturn\u001b[39;00m \u001b[38;5;28mself\u001b[39m\u001b[38;5;241m.\u001b[39mmap_query(\n\u001b[0;32m    558\u001b[0m         variables\u001b[38;5;241m=\u001b[39mvariables,\n\u001b[0;32m    559\u001b[0m         evidence\u001b[38;5;241m=\u001b[39m{\u001b[38;5;241m*\u001b[39m\u001b[38;5;241m*\u001b[39mevidence, \u001b[38;5;241m*\u001b[39m\u001b[38;5;241m*\u001b[39mvirt_evidence},\n\u001b[1;32m   (...)\u001b[0m\n\u001b[0;32m    562\u001b[0m         show_progress\u001b[38;5;241m=\u001b[39mshow_progress,\n\u001b[0;32m    563\u001b[0m     )\n\u001b[0;32m    565\u001b[0m \u001b[38;5;28;01mif\u001b[39;00m \u001b[38;5;28misinstance\u001b[39m(\u001b[38;5;28mself\u001b[39m\u001b[38;5;241m.\u001b[39mmodel, BayesianNetwork):\n\u001b[1;32m--> 566\u001b[0m     model_reduced, evidence \u001b[38;5;241m=\u001b[39m \u001b[38;5;28;43mself\u001b[39;49m\u001b[38;5;241;43m.\u001b[39;49m\u001b[43m_prune_bayesian_model\u001b[49m\u001b[43m(\u001b[49m\u001b[43mvariables\u001b[49m\u001b[43m,\u001b[49m\u001b[43m \u001b[49m\u001b[43mevidence\u001b[49m\u001b[43m)\u001b[49m\n\u001b[0;32m    567\u001b[0m \u001b[38;5;28;01melse\u001b[39;00m:\n\u001b[0;32m    568\u001b[0m     model_reduced \u001b[38;5;241m=\u001b[39m \u001b[38;5;28mself\u001b[39m\u001b[38;5;241m.\u001b[39mmodel\n",
      "File \u001b[1;32mc:\\Users\\JERM\\anaconda3\\envs\\img_proc\\Lib\\site-packages\\pgmpy\\inference\\base.py:153\u001b[0m, in \u001b[0;36mInference._prune_bayesian_model\u001b[1;34m(self, variables, evidence)\u001b[0m\n\u001b[0;32m    149\u001b[0m variables \u001b[38;5;241m=\u001b[39m \u001b[38;5;28mlist\u001b[39m(\u001b[38;5;28mself\u001b[39m\u001b[38;5;241m.\u001b[39mmodel\u001b[38;5;241m.\u001b[39mnodes()) \u001b[38;5;28;01mif\u001b[39;00m \u001b[38;5;28mlen\u001b[39m(variables) \u001b[38;5;241m==\u001b[39m \u001b[38;5;241m0\u001b[39m \u001b[38;5;28;01melse\u001b[39;00m \u001b[38;5;28mlist\u001b[39m(variables)\n\u001b[0;32m    151\u001b[0m \u001b[38;5;66;03m# Step 1: Remove all the variables that are d-separated from `variables` when conditioned\u001b[39;00m\n\u001b[0;32m    152\u001b[0m \u001b[38;5;66;03m#         on `evidence`\u001b[39;00m\n\u001b[1;32m--> 153\u001b[0m d_connected \u001b[38;5;241m=\u001b[39m \u001b[38;5;28;43mself\u001b[39;49m\u001b[38;5;241;43m.\u001b[39;49m\u001b[43mmodel\u001b[49m\u001b[38;5;241;43m.\u001b[39;49m\u001b[43mactive_trail_nodes\u001b[49m\u001b[43m(\u001b[49m\n\u001b[0;32m    154\u001b[0m \u001b[43m    \u001b[49m\u001b[43mvariables\u001b[49m\u001b[38;5;241;43m=\u001b[39;49m\u001b[43mvariables\u001b[49m\u001b[43m,\u001b[49m\u001b[43m \u001b[49m\u001b[43mobserved\u001b[49m\u001b[38;5;241;43m=\u001b[39;49m\u001b[38;5;28;43mlist\u001b[39;49m\u001b[43m(\u001b[49m\u001b[43mevidence\u001b[49m\u001b[38;5;241;43m.\u001b[39;49m\u001b[43mkeys\u001b[49m\u001b[43m(\u001b[49m\u001b[43m)\u001b[49m\u001b[43m)\u001b[49m\u001b[43m,\u001b[49m\u001b[43m \u001b[49m\u001b[43minclude_latents\u001b[49m\u001b[38;5;241;43m=\u001b[39;49m\u001b[38;5;28;43;01mTrue\u001b[39;49;00m\n\u001b[0;32m    155\u001b[0m \u001b[43m\u001b[49m\u001b[43m)\u001b[49m\n\u001b[0;32m    156\u001b[0m d_connected \u001b[38;5;241m=\u001b[39m \u001b[38;5;28mset\u001b[39m\u001b[38;5;241m.\u001b[39munion(\u001b[38;5;241m*\u001b[39md_connected\u001b[38;5;241m.\u001b[39mvalues())\u001b[38;5;241m.\u001b[39munion(evidence\u001b[38;5;241m.\u001b[39mkeys())\n\u001b[0;32m    157\u001b[0m bn \u001b[38;5;241m=\u001b[39m \u001b[38;5;28mself\u001b[39m\u001b[38;5;241m.\u001b[39mmodel\u001b[38;5;241m.\u001b[39msubgraph(d_connected)\n",
      "File \u001b[1;32mc:\\Users\\JERM\\anaconda3\\envs\\img_proc\\Lib\\site-packages\\pgmpy\\base\\DAG.py:719\u001b[0m, in \u001b[0;36mDAG.active_trail_nodes\u001b[1;34m(self, variables, observed, include_latents)\u001b[0m\n\u001b[0;32m    717\u001b[0m \u001b[38;5;28;01melse\u001b[39;00m:\n\u001b[0;32m    718\u001b[0m     observed_list \u001b[38;5;241m=\u001b[39m []\n\u001b[1;32m--> 719\u001b[0m ancestors_list \u001b[38;5;241m=\u001b[39m \u001b[38;5;28;43mself\u001b[39;49m\u001b[38;5;241;43m.\u001b[39;49m\u001b[43m_get_ancestors_of\u001b[49m\u001b[43m(\u001b[49m\u001b[43mobserved_list\u001b[49m\u001b[43m)\u001b[49m\n\u001b[0;32m    721\u001b[0m \u001b[38;5;66;03m# Direction of flow of information\u001b[39;00m\n\u001b[0;32m    722\u001b[0m \u001b[38;5;66;03m# up ->  from parent to child\u001b[39;00m\n\u001b[0;32m    723\u001b[0m \u001b[38;5;66;03m# down -> from child to parent\u001b[39;00m\n\u001b[0;32m    725\u001b[0m active_trails \u001b[38;5;241m=\u001b[39m {}\n",
      "File \u001b[1;32mc:\\Users\\JERM\\anaconda3\\envs\\img_proc\\Lib\\site-packages\\pgmpy\\base\\DAG.py:781\u001b[0m, in \u001b[0;36mDAG._get_ancestors_of\u001b[1;34m(self, nodes)\u001b[0m\n\u001b[0;32m    779\u001b[0m \u001b[38;5;28;01mfor\u001b[39;00m node \u001b[38;5;129;01min\u001b[39;00m nodes:\n\u001b[0;32m    780\u001b[0m     \u001b[38;5;28;01mif\u001b[39;00m node \u001b[38;5;129;01mnot\u001b[39;00m \u001b[38;5;129;01min\u001b[39;00m \u001b[38;5;28mself\u001b[39m\u001b[38;5;241m.\u001b[39mnodes():\n\u001b[1;32m--> 781\u001b[0m         \u001b[38;5;28;01mraise\u001b[39;00m \u001b[38;5;167;01mValueError\u001b[39;00m(\u001b[38;5;124mf\u001b[39m\u001b[38;5;124m\"\u001b[39m\u001b[38;5;124mNode \u001b[39m\u001b[38;5;132;01m{\u001b[39;00mnode\u001b[38;5;132;01m}\u001b[39;00m\u001b[38;5;124m not in not in graph\u001b[39m\u001b[38;5;124m\"\u001b[39m)\n\u001b[0;32m    783\u001b[0m ancestors_list \u001b[38;5;241m=\u001b[39m \u001b[38;5;28mset\u001b[39m()\n\u001b[0;32m    784\u001b[0m nodes_list \u001b[38;5;241m=\u001b[39m \u001b[38;5;28mset\u001b[39m(nodes)\n",
      "\u001b[1;31mValueError\u001b[0m: Node Job not in not in graph"
     ]
    }
   ],
   "source": [
    "y_pred = []\n",
    "for value in val_set['Job'].to_dict().values() :\n",
    "    y_pred.append(inference.map_query(['Risk'],evidence={'Job':value},show_progress=False).values())"
   ]
  },
  {
   "cell_type": "code",
   "execution_count": 42,
   "metadata": {},
   "outputs": [
    {
     "data": {
      "text/plain": [
       "[]"
      ]
     },
     "execution_count": 42,
     "metadata": {},
     "output_type": "execute_result"
    }
   ],
   "source": [
    "y_pred"
   ]
  },
  {
   "cell_type": "code",
   "execution_count": 43,
   "metadata": {},
   "outputs": [
    {
     "data": {
      "text/plain": [
       "8      good\n",
       "29      bad\n",
       "45     good\n",
       "47     good\n",
       "80      bad\n",
       "       ... \n",
       "942    good\n",
       "952     bad\n",
       "976    good\n",
       "984    good\n",
       "992    good\n",
       "Name: Risk, Length: 100, dtype: object"
      ]
     },
     "execution_count": 43,
     "metadata": {},
     "output_type": "execute_result"
    }
   ],
   "source": [
    "y_true"
   ]
  },
  {
   "cell_type": "markdown",
   "metadata": {
    "id": "gvJFj1UlP094"
   },
   "source": [
    "Run the next cell to visualize the classification performance."
   ]
  },
  {
   "cell_type": "code",
   "execution_count": 44,
   "metadata": {
    "id": "jGf9Cfn1bbJ1"
   },
   "outputs": [
    {
     "ename": "ValueError",
     "evalue": "Found input variables with inconsistent numbers of samples: [100, 0]",
     "output_type": "error",
     "traceback": [
      "\u001b[1;31m---------------------------------------------------------------------------\u001b[0m",
      "\u001b[1;31mValueError\u001b[0m                                Traceback (most recent call last)",
      "Cell \u001b[1;32mIn[44], line 3\u001b[0m\n\u001b[0;32m      1\u001b[0m \u001b[38;5;66;03m# RUN THIS CELL\u001b[39;00m\n\u001b[1;32m----> 3\u001b[0m \u001b[38;5;28mprint\u001b[39m(\u001b[38;5;124m\"\u001b[39m\u001b[38;5;124mClassification accuracy:\u001b[39m\u001b[38;5;124m\"\u001b[39m , \u001b[43maccuracy_score\u001b[49m\u001b[43m(\u001b[49m\u001b[43my_true\u001b[49m\u001b[43m,\u001b[49m\u001b[43m \u001b[49m\u001b[43my_pred\u001b[49m\u001b[43m)\u001b[49m)\n\u001b[0;32m      4\u001b[0m ConfusionMatrixDisplay\u001b[38;5;241m.\u001b[39mfrom_predictions(y_true, y_pred)\n",
      "File \u001b[1;32mc:\\Users\\JERM\\anaconda3\\envs\\img_proc\\Lib\\site-packages\\sklearn\\utils\\_param_validation.py:213\u001b[0m, in \u001b[0;36mvalidate_params.<locals>.decorator.<locals>.wrapper\u001b[1;34m(*args, **kwargs)\u001b[0m\n\u001b[0;32m    207\u001b[0m \u001b[38;5;28;01mtry\u001b[39;00m:\n\u001b[0;32m    208\u001b[0m     \u001b[38;5;28;01mwith\u001b[39;00m config_context(\n\u001b[0;32m    209\u001b[0m         skip_parameter_validation\u001b[38;5;241m=\u001b[39m(\n\u001b[0;32m    210\u001b[0m             prefer_skip_nested_validation \u001b[38;5;129;01mor\u001b[39;00m global_skip_validation\n\u001b[0;32m    211\u001b[0m         )\n\u001b[0;32m    212\u001b[0m     ):\n\u001b[1;32m--> 213\u001b[0m         \u001b[38;5;28;01mreturn\u001b[39;00m \u001b[43mfunc\u001b[49m\u001b[43m(\u001b[49m\u001b[38;5;241;43m*\u001b[39;49m\u001b[43margs\u001b[49m\u001b[43m,\u001b[49m\u001b[43m \u001b[49m\u001b[38;5;241;43m*\u001b[39;49m\u001b[38;5;241;43m*\u001b[39;49m\u001b[43mkwargs\u001b[49m\u001b[43m)\u001b[49m\n\u001b[0;32m    214\u001b[0m \u001b[38;5;28;01mexcept\u001b[39;00m InvalidParameterError \u001b[38;5;28;01mas\u001b[39;00m e:\n\u001b[0;32m    215\u001b[0m     \u001b[38;5;66;03m# When the function is just a wrapper around an estimator, we allow\u001b[39;00m\n\u001b[0;32m    216\u001b[0m     \u001b[38;5;66;03m# the function to delegate validation to the estimator, but we replace\u001b[39;00m\n\u001b[0;32m    217\u001b[0m     \u001b[38;5;66;03m# the name of the estimator by the name of the function in the error\u001b[39;00m\n\u001b[0;32m    218\u001b[0m     \u001b[38;5;66;03m# message to avoid confusion.\u001b[39;00m\n\u001b[0;32m    219\u001b[0m     msg \u001b[38;5;241m=\u001b[39m re\u001b[38;5;241m.\u001b[39msub(\n\u001b[0;32m    220\u001b[0m         \u001b[38;5;124mr\u001b[39m\u001b[38;5;124m\"\u001b[39m\u001b[38;5;124mparameter of \u001b[39m\u001b[38;5;124m\\\u001b[39m\u001b[38;5;124mw+ must be\u001b[39m\u001b[38;5;124m\"\u001b[39m,\n\u001b[0;32m    221\u001b[0m         \u001b[38;5;124mf\u001b[39m\u001b[38;5;124m\"\u001b[39m\u001b[38;5;124mparameter of \u001b[39m\u001b[38;5;132;01m{\u001b[39;00mfunc\u001b[38;5;241m.\u001b[39m\u001b[38;5;18m__qualname__\u001b[39m\u001b[38;5;132;01m}\u001b[39;00m\u001b[38;5;124m must be\u001b[39m\u001b[38;5;124m\"\u001b[39m,\n\u001b[0;32m    222\u001b[0m         \u001b[38;5;28mstr\u001b[39m(e),\n\u001b[0;32m    223\u001b[0m     )\n",
      "File \u001b[1;32mc:\\Users\\JERM\\anaconda3\\envs\\img_proc\\Lib\\site-packages\\sklearn\\metrics\\_classification.py:231\u001b[0m, in \u001b[0;36maccuracy_score\u001b[1;34m(y_true, y_pred, normalize, sample_weight)\u001b[0m\n\u001b[0;32m    229\u001b[0m xp, _, device \u001b[38;5;241m=\u001b[39m get_namespace_and_device(y_true, y_pred, sample_weight)\n\u001b[0;32m    230\u001b[0m \u001b[38;5;66;03m# Compute accuracy for each possible representation\u001b[39;00m\n\u001b[1;32m--> 231\u001b[0m y_type, y_true, y_pred \u001b[38;5;241m=\u001b[39m \u001b[43m_check_targets\u001b[49m\u001b[43m(\u001b[49m\u001b[43my_true\u001b[49m\u001b[43m,\u001b[49m\u001b[43m \u001b[49m\u001b[43my_pred\u001b[49m\u001b[43m)\u001b[49m\n\u001b[0;32m    232\u001b[0m check_consistent_length(y_true, y_pred, sample_weight)\n\u001b[0;32m    233\u001b[0m \u001b[38;5;28;01mif\u001b[39;00m y_type\u001b[38;5;241m.\u001b[39mstartswith(\u001b[38;5;124m\"\u001b[39m\u001b[38;5;124mmultilabel\u001b[39m\u001b[38;5;124m\"\u001b[39m):\n",
      "File \u001b[1;32mc:\\Users\\JERM\\anaconda3\\envs\\img_proc\\Lib\\site-packages\\sklearn\\metrics\\_classification.py:103\u001b[0m, in \u001b[0;36m_check_targets\u001b[1;34m(y_true, y_pred)\u001b[0m\n\u001b[0;32m     76\u001b[0m \u001b[38;5;250m\u001b[39m\u001b[38;5;124;03m\"\"\"Check that y_true and y_pred belong to the same classification task.\u001b[39;00m\n\u001b[0;32m     77\u001b[0m \n\u001b[0;32m     78\u001b[0m \u001b[38;5;124;03mThis converts multiclass or binary types to a common shape, and raises a\u001b[39;00m\n\u001b[1;32m   (...)\u001b[0m\n\u001b[0;32m    100\u001b[0m \u001b[38;5;124;03my_pred : array or indicator matrix\u001b[39;00m\n\u001b[0;32m    101\u001b[0m \u001b[38;5;124;03m\"\"\"\u001b[39;00m\n\u001b[0;32m    102\u001b[0m xp, _ \u001b[38;5;241m=\u001b[39m get_namespace(y_true, y_pred)\n\u001b[1;32m--> 103\u001b[0m \u001b[43mcheck_consistent_length\u001b[49m\u001b[43m(\u001b[49m\u001b[43my_true\u001b[49m\u001b[43m,\u001b[49m\u001b[43m \u001b[49m\u001b[43my_pred\u001b[49m\u001b[43m)\u001b[49m\n\u001b[0;32m    104\u001b[0m type_true \u001b[38;5;241m=\u001b[39m type_of_target(y_true, input_name\u001b[38;5;241m=\u001b[39m\u001b[38;5;124m\"\u001b[39m\u001b[38;5;124my_true\u001b[39m\u001b[38;5;124m\"\u001b[39m)\n\u001b[0;32m    105\u001b[0m type_pred \u001b[38;5;241m=\u001b[39m type_of_target(y_pred, input_name\u001b[38;5;241m=\u001b[39m\u001b[38;5;124m\"\u001b[39m\u001b[38;5;124my_pred\u001b[39m\u001b[38;5;124m\"\u001b[39m)\n",
      "File \u001b[1;32mc:\\Users\\JERM\\anaconda3\\envs\\img_proc\\Lib\\site-packages\\sklearn\\utils\\validation.py:457\u001b[0m, in \u001b[0;36mcheck_consistent_length\u001b[1;34m(*arrays)\u001b[0m\n\u001b[0;32m    455\u001b[0m uniques \u001b[38;5;241m=\u001b[39m np\u001b[38;5;241m.\u001b[39munique(lengths)\n\u001b[0;32m    456\u001b[0m \u001b[38;5;28;01mif\u001b[39;00m \u001b[38;5;28mlen\u001b[39m(uniques) \u001b[38;5;241m>\u001b[39m \u001b[38;5;241m1\u001b[39m:\n\u001b[1;32m--> 457\u001b[0m     \u001b[38;5;28;01mraise\u001b[39;00m \u001b[38;5;167;01mValueError\u001b[39;00m(\n\u001b[0;32m    458\u001b[0m         \u001b[38;5;124m\"\u001b[39m\u001b[38;5;124mFound input variables with inconsistent numbers of samples: \u001b[39m\u001b[38;5;132;01m%r\u001b[39;00m\u001b[38;5;124m\"\u001b[39m\n\u001b[0;32m    459\u001b[0m         \u001b[38;5;241m%\u001b[39m [\u001b[38;5;28mint\u001b[39m(l) \u001b[38;5;28;01mfor\u001b[39;00m l \u001b[38;5;129;01min\u001b[39;00m lengths]\n\u001b[0;32m    460\u001b[0m     )\n",
      "\u001b[1;31mValueError\u001b[0m: Found input variables with inconsistent numbers of samples: [100, 0]"
     ]
    }
   ],
   "source": [
    "# RUN THIS CELL\n",
    "\n",
    "print(\"Classification accuracy:\" , accuracy_score(y_true, y_pred))\n",
    "ConfusionMatrixDisplay.from_predictions(y_true, y_pred)"
   ]
  },
  {
   "cell_type": "markdown",
   "metadata": {
    "id": "-wtMPNitUnka"
   },
   "source": [
    "**Question** The previous snipet plots a Confusion Matrix. Briefly explain what it means.\n",
    "\n",
    "**Question** What is the link between the confusion matrix and the accuracy metric?"
   ]
  },
  {
   "cell_type": "markdown",
   "metadata": {
    "id": "1172TIa--zd2"
   },
   "source": [
    "**Question** What would be False Positive and False Negative in this confusion matrix? Which one would you rather minimize if you were to work for a bank?"
   ]
  },
  {
   "cell_type": "markdown",
   "metadata": {
    "id": "8Q_60QWM3cUL"
   },
   "source": [
    "We would like to compare the previous map_query predictive model to a standard machine learning model.\n",
    "\n",
    "We will use XGBoost, one of the main libraries of simple learning models based on \"boosting\" and specifically \"gradient boosting\" (https://xgboost.readthedocs.io/en/stable/).\n",
    "\n",
    "\n",
    "XGBoost is a library that can only manipulate numerical values. Columns \"Gender\", \"Housing\", \"Saving accounts\", \"Purpose\", and \"Risk\" contain strings, so we need to transform them. For each of these columns, the next cell creates a new column with suffix \"_numerical\" (i.e. \"Gender_numerical\"), where each of the string values is replaced by an integer. This can be done with `.apply`\n",
    "(https://pandas.pydata.org/docs/reference/api/pandas.Series.apply.html) and a function, or `.map` (https://pandas.pydata.org/docs/reference/api/pandas.Series.map.html) and a dictionary.\n"
   ]
  },
  {
   "cell_type": "code",
   "execution_count": 214,
   "metadata": {
    "id": "zBfzvHEI8Jhf"
   },
   "outputs": [],
   "source": [
    "# Run this cell.\n",
    "\n",
    "#method 1\n",
    "label_mapping = {'good': 0, 'bad': 1}\n",
    "val_set['Risk_numerical'] = val_set['Risk'].map(label_mapping)\n",
    "train_set['Risk_numerical'] = train_set['Risk'].map(label_mapping)\n",
    "\n",
    "#method 2\n",
    "label_mapping = dict([(value,index) for index,value in enumerate(german_credit[\"Gender\"].unique())])\n",
    "val_set['Gender_numerical'] = val_set['Gender'].map(label_mapping)\n",
    "train_set['Gender_numerical'] = train_set['Gender'].map(label_mapping)\n",
    "\n",
    "#method 3\n",
    "label_mapping = lambda x: german_credit[\"Housing\"].unique().tolist().index(x)\n",
    "val_set['Housing_numerical'] = val_set['Housing'].apply(label_mapping)\n",
    "train_set['Housing_numerical'] = train_set['Housing'].apply(label_mapping)\n",
    "\n",
    "label_mapping = lambda x: german_credit[\"Saving accounts\"].unique().tolist().index(x)\n",
    "val_set['Saving accounts_numerical'] = val_set['Saving accounts'].apply(label_mapping)\n",
    "train_set['Saving accounts_numerical'] = train_set['Saving accounts'].apply(label_mapping)\n",
    "\n",
    "label_mapping = lambda x: german_credit[\"Purpose\"].unique().tolist().index(x)\n",
    "val_set['Purpose_numerical'] = val_set['Purpose'].apply(label_mapping)\n",
    "train_set['Purpose_numerical'] = train_set['Purpose'].apply(label_mapping)"
   ]
  },
  {
   "cell_type": "markdown",
   "metadata": {
    "id": "evToR9OGJWpc"
   },
   "source": [
    "Run the next cell. Its purpose is to make XGBoost and Pandas aware of the categorical nature of some columns."
   ]
  },
  {
   "cell_type": "code",
   "execution_count": 215,
   "metadata": {
    "id": "n1_75tHyGZSM"
   },
   "outputs": [],
   "source": [
    "##  Run this cell.\n",
    "# Make sure that the column names correspond.\n",
    "\n",
    "train_set['Purpose_numerical'] = train_set['Purpose_numerical'].astype(\"category\")\n",
    "val_set['Purpose_numerical'] = val_set['Purpose_numerical'].astype(\"category\")\n",
    "train_set['Saving accounts_numerical'] = train_set['Saving accounts_numerical'].astype(\"category\")\n",
    "val_set['Saving accounts_numerical'] = val_set['Saving accounts_numerical'].astype(\"category\")\n",
    "train_set['Housing_numerical'] = train_set['Housing_numerical'].astype(\"category\")\n",
    "val_set['Housing_numerical'] = val_set['Housing_numerical'].astype(\"category\")\n",
    "train_set['Gender_numerical'] = train_set['Gender_numerical'].astype(\"category\")\n",
    "val_set['Gender_numerical'] = val_set['Gender_numerical'].astype(\"category\")\n",
    "train_set['Risk_numerical'] = train_set['Risk_numerical'].astype(\"category\")\n",
    "val_set['Risk_numerical'] = val_set['Risk_numerical'].astype(\"category\")\n",
    "train_set['Duration'] = train_set['Duration'].astype(\"category\")\n",
    "val_set['Duration'] = val_set['Duration'].astype(\"category\")\n",
    "train_set['Age'] = train_set['Age'].astype(\"category\")\n",
    "val_set['Age'] = val_set['Age'].astype(\"category\")\n",
    "train_set['Credit amount'] = train_set['Credit amount'].astype(\"category\")\n",
    "val_set['Credit amount'] = val_set['Credit amount'].astype(\"category\")"
   ]
  },
  {
   "cell_type": "markdown",
   "metadata": {
    "id": "1lp_8xiJKc7L"
   },
   "source": [
    "**TODO 3.2** In the next cell, create an XGBClassifier model (https://xgboost.readthedocs.io/en/stable/python/python_api.html#xgboost.XGBClassifier) with adequate parameter values. Train (`.fit`, https://xgboost.readthedocs.io/en/stable/python/python_api.html#xgboost.XGBClassifier.fit) on `train_set` with the columns `full_variables` to predict \"Risk_numerical\". Predict (`.predict`, https://xgboost.readthedocs.io/en/stable/python/python_api.html#xgboost.XGBClassifier.predict) on the validation set `val_set`, and store the result as `y_pred`.\n",
    "\n",
    "Hint: for categorical values to be handled, a parameter \"enable_categorical\" must be set to true at model declaration."
   ]
  },
  {
   "cell_type": "code",
   "execution_count": 216,
   "metadata": {
    "id": "YEzhK7HZ7FpN"
   },
   "outputs": [],
   "source": [
    "full_variables = [\"Purpose_numerical\", \"Saving accounts_numerical\", \"Housing_numerical\", \"Gender_numerical\", \"Credit History\", \"Age\", \"Job\", \"Credit amount\", \"Duration\"]\n",
    "\n",
    "## WRITE YOUR CODE BELOW"
   ]
  },
  {
   "cell_type": "markdown",
   "metadata": {
    "id": "EyiyOjmmUha5"
   },
   "source": [
    "Run the next cell to evaluate the performance of the model."
   ]
  },
  {
   "cell_type": "code",
   "execution_count": 217,
   "metadata": {
    "id": "IFOA2hnxNQ7K"
   },
   "outputs": [
    {
     "ename": "NameError",
     "evalue": "name 'y_pred' is not defined",
     "output_type": "error",
     "traceback": [
      "\u001b[1;31m---------------------------------------------------------------------------\u001b[0m",
      "\u001b[1;31mNameError\u001b[0m                                 Traceback (most recent call last)",
      "Cell \u001b[1;32mIn[217], line 2\u001b[0m\n\u001b[0;32m      1\u001b[0m y_true \u001b[38;5;241m=\u001b[39m val_set[\u001b[38;5;124m\"\u001b[39m\u001b[38;5;124mRisk_numerical\u001b[39m\u001b[38;5;124m\"\u001b[39m]\u001b[38;5;241m.\u001b[39mvalues\n\u001b[1;32m----> 2\u001b[0m \u001b[38;5;28mprint\u001b[39m(\u001b[38;5;124m\"\u001b[39m\u001b[38;5;124mClassification accuracy:\u001b[39m\u001b[38;5;124m\"\u001b[39m , accuracy_score(y_true, \u001b[43my_pred\u001b[49m))\n\u001b[0;32m      3\u001b[0m ConfusionMatrixDisplay\u001b[38;5;241m.\u001b[39mfrom_predictions(y_true, y_pred)\n",
      "\u001b[1;31mNameError\u001b[0m: name 'y_pred' is not defined"
     ]
    }
   ],
   "source": [
    "y_true = val_set[\"Risk_numerical\"].values\n",
    "print(\"Classification accuracy:\" , accuracy_score(y_true, y_pred))\n",
    "ConfusionMatrixDisplay.from_predictions(y_true, y_pred)"
   ]
  },
  {
   "cell_type": "markdown",
   "metadata": {
    "id": "VwcenSffSaIq"
   },
   "source": [
    "**TODO 3.3** Train and evaluate another XGBClassifier, this time with input data restricted to the markov blanket found in TODO 2.4."
   ]
  },
  {
   "cell_type": "code",
   "execution_count": null,
   "metadata": {
    "id": "vNzGsQBRNI2i"
   },
   "outputs": [],
   "source": [
    "## WRITE YOUR CODE BELOW"
   ]
  },
  {
   "cell_type": "code",
   "execution_count": null,
   "metadata": {
    "id": "Y4WugtQDOVM-"
   },
   "outputs": [],
   "source": [
    "# Run the following\n",
    "\n",
    "y_true = val_set[\"Risk_numerical\"].values\n",
    "print(\"Classification accuracy:\" , accuracy_score(y_true, y_pred))\n",
    "ConfusionMatrixDisplay.from_predictions(y_true, y_pred)"
   ]
  },
  {
   "cell_type": "markdown",
   "metadata": {
    "id": "boCstzmKOu2N"
   },
   "source": [
    "**Question**: Conclude: did removing columns decrease the information on Risk contained by the dataset? Was this an expected behaviour?\n",
    "\n",
    "**Question**: Did removing column increase accuracy? Suggest an explanation why.\n",
    "\n",
    "**Question**: Conclude on the predictive performance of bayesian modeling versus XGBoost for this dataset."
   ]
  }
 ],
 "metadata": {
  "colab": {
   "provenance": []
  },
  "kernelspec": {
   "display_name": "Python 3",
   "language": "python",
   "name": "python3"
  },
  "language_info": {
   "codemirror_mode": {
    "name": "ipython",
    "version": 3
   },
   "file_extension": ".py",
   "mimetype": "text/x-python",
   "name": "python",
   "nbconvert_exporter": "python",
   "pygments_lexer": "ipython3",
   "version": "3.12.5"
  }
 },
 "nbformat": 4,
 "nbformat_minor": 4
}
