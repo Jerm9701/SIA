{
 "cells": [
  {
   "cell_type": "markdown",
   "metadata": {},
   "source": [
    "# Transfomer for time series data\n",
    "\n",
    "## Objectives of this Lab\n",
    "\n",
    "- Develop an understanding of the fundamental concepts behind Transformers and implement a basic version.\n",
    "- Gain an introductory understanding of applications of deep learning in finance.\n",
    "- Assess and reinforce your existing knowledge of deep learning.\n",
    "- Explore the potential to apply these skills effectively—on the journey to becoming an expert (and maybe... wealthy). 🚀\n",
    "\n",
    "\n",
    "In this lab, we aim to build a model capable of predicting trends in stock values, laying the groundwork for a potential trading bot. To achieve this, we will leverage the Transformer Encoder, which is well-suited for capturing complex temporal dependencies in financial data.\n"
   ]
  },
  {
   "cell_type": "code",
   "execution_count": 1,
   "metadata": {},
   "outputs": [
    {
     "name": "stdout",
     "output_type": "stream",
     "text": [
      "Looking in indexes: https://pypi.org/simple, https://pypi.ngc.nvidia.com\n",
      "Requirement already satisfied: pytorch-lightning in c:\\users\\jerm\\anaconda3\\envs\\torch3\\lib\\site-packages (2.4.0)\n",
      "Requirement already satisfied: torch>=2.1.0 in c:\\users\\jerm\\anaconda3\\envs\\torch3\\lib\\site-packages (from pytorch-lightning) (2.5.1)\n",
      "Requirement already satisfied: tqdm>=4.57.0 in c:\\users\\jerm\\anaconda3\\envs\\torch3\\lib\\site-packages (from pytorch-lightning) (4.66.6)\n",
      "Requirement already satisfied: PyYAML>=5.4 in c:\\users\\jerm\\anaconda3\\envs\\torch3\\lib\\site-packages (from pytorch-lightning) (6.0.2)\n",
      "Requirement already satisfied: fsspec>=2022.5.0 in c:\\users\\jerm\\anaconda3\\envs\\torch3\\lib\\site-packages (from fsspec[http]>=2022.5.0->pytorch-lightning) (2024.10.0)\n",
      "Requirement already satisfied: torchmetrics>=0.7.0 in c:\\users\\jerm\\anaconda3\\envs\\torch3\\lib\\site-packages (from pytorch-lightning) (1.5.1)\n",
      "Requirement already satisfied: packaging>=20.0 in c:\\users\\jerm\\anaconda3\\envs\\torch3\\lib\\site-packages (from pytorch-lightning) (24.1)\n",
      "Requirement already satisfied: typing-extensions>=4.4.0 in c:\\users\\jerm\\anaconda3\\envs\\torch3\\lib\\site-packages (from pytorch-lightning) (4.11.0)\n",
      "Requirement already satisfied: lightning-utilities>=0.10.0 in c:\\users\\jerm\\anaconda3\\envs\\torch3\\lib\\site-packages (from pytorch-lightning) (0.11.8)\n",
      "Requirement already satisfied: aiohttp!=4.0.0a0,!=4.0.0a1 in c:\\users\\jerm\\anaconda3\\envs\\torch3\\lib\\site-packages (from fsspec[http]>=2022.5.0->pytorch-lightning) (3.10.10)\n",
      "Requirement already satisfied: setuptools in c:\\users\\jerm\\anaconda3\\envs\\torch3\\lib\\site-packages (from lightning-utilities>=0.10.0->pytorch-lightning) (72.1.0)\n",
      "Requirement already satisfied: filelock in c:\\users\\jerm\\anaconda3\\envs\\torch3\\lib\\site-packages (from torch>=2.1.0->pytorch-lightning) (3.13.1)\n",
      "Requirement already satisfied: sympy==1.13.1 in c:\\users\\jerm\\anaconda3\\envs\\torch3\\lib\\site-packages (from torch>=2.1.0->pytorch-lightning) (1.13.1)\n",
      "Requirement already satisfied: networkx in c:\\users\\jerm\\anaconda3\\envs\\torch3\\lib\\site-packages (from torch>=2.1.0->pytorch-lightning) (3.2.1)\n",
      "Requirement already satisfied: jinja2 in c:\\users\\jerm\\anaconda3\\envs\\torch3\\lib\\site-packages (from torch>=2.1.0->pytorch-lightning) (3.1.4)\n",
      "Requirement already satisfied: mpmath<1.4,>=1.1.0 in c:\\users\\jerm\\anaconda3\\envs\\torch3\\lib\\site-packages (from sympy==1.13.1->torch>=2.1.0->pytorch-lightning) (1.3.0)\n",
      "Requirement already satisfied: numpy<2.0,>1.20.0 in c:\\users\\jerm\\anaconda3\\envs\\torch3\\lib\\site-packages (from torchmetrics>=0.7.0->pytorch-lightning) (1.26.4)\n",
      "Requirement already satisfied: colorama in c:\\users\\jerm\\anaconda3\\envs\\torch3\\lib\\site-packages (from tqdm>=4.57.0->pytorch-lightning) (0.4.6)\n",
      "Requirement already satisfied: aiohappyeyeballs>=2.3.0 in c:\\users\\jerm\\anaconda3\\envs\\torch3\\lib\\site-packages (from aiohttp!=4.0.0a0,!=4.0.0a1->fsspec[http]>=2022.5.0->pytorch-lightning) (2.4.3)\n",
      "Requirement already satisfied: aiosignal>=1.1.2 in c:\\users\\jerm\\anaconda3\\envs\\torch3\\lib\\site-packages (from aiohttp!=4.0.0a0,!=4.0.0a1->fsspec[http]>=2022.5.0->pytorch-lightning) (1.3.1)\n",
      "Requirement already satisfied: attrs>=17.3.0 in c:\\users\\jerm\\anaconda3\\envs\\torch3\\lib\\site-packages (from aiohttp!=4.0.0a0,!=4.0.0a1->fsspec[http]>=2022.5.0->pytorch-lightning) (24.2.0)\n",
      "Requirement already satisfied: frozenlist>=1.1.1 in c:\\users\\jerm\\anaconda3\\envs\\torch3\\lib\\site-packages (from aiohttp!=4.0.0a0,!=4.0.0a1->fsspec[http]>=2022.5.0->pytorch-lightning) (1.5.0)\n",
      "Requirement already satisfied: multidict<7.0,>=4.5 in c:\\users\\jerm\\anaconda3\\envs\\torch3\\lib\\site-packages (from aiohttp!=4.0.0a0,!=4.0.0a1->fsspec[http]>=2022.5.0->pytorch-lightning) (6.1.0)\n",
      "Requirement already satisfied: yarl<2.0,>=1.12.0 in c:\\users\\jerm\\anaconda3\\envs\\torch3\\lib\\site-packages (from aiohttp!=4.0.0a0,!=4.0.0a1->fsspec[http]>=2022.5.0->pytorch-lightning) (1.17.0)\n",
      "Requirement already satisfied: MarkupSafe>=2.0 in c:\\users\\jerm\\anaconda3\\envs\\torch3\\lib\\site-packages (from jinja2->torch>=2.1.0->pytorch-lightning) (2.1.3)\n",
      "Requirement already satisfied: idna>=2.0 in c:\\users\\jerm\\anaconda3\\envs\\torch3\\lib\\site-packages (from yarl<2.0,>=1.12.0->aiohttp!=4.0.0a0,!=4.0.0a1->fsspec[http]>=2022.5.0->pytorch-lightning) (3.7)\n",
      "Requirement already satisfied: propcache>=0.2.0 in c:\\users\\jerm\\anaconda3\\envs\\torch3\\lib\\site-packages (from yarl<2.0,>=1.12.0->aiohttp!=4.0.0a0,!=4.0.0a1->fsspec[http]>=2022.5.0->pytorch-lightning) (0.2.0)\n",
      "Looking in indexes: https://pypi.org/simple, https://pypi.ngc.nvidia.com\n",
      "Requirement already satisfied: wandb in c:\\users\\jerm\\anaconda3\\envs\\torch3\\lib\\site-packages (0.18.7)\n",
      "Requirement already satisfied: click!=8.0.0,>=7.1 in c:\\users\\jerm\\anaconda3\\envs\\torch3\\lib\\site-packages (from wandb) (8.1.7)\n",
      "Requirement already satisfied: docker-pycreds>=0.4.0 in c:\\users\\jerm\\anaconda3\\envs\\torch3\\lib\\site-packages (from wandb) (0.4.0)\n",
      "Requirement already satisfied: gitpython!=3.1.29,>=1.0.0 in c:\\users\\jerm\\anaconda3\\envs\\torch3\\lib\\site-packages (from wandb) (3.1.43)\n",
      "Requirement already satisfied: platformdirs in c:\\users\\jerm\\anaconda3\\envs\\torch3\\lib\\site-packages (from wandb) (4.3.6)\n",
      "Requirement already satisfied: protobuf!=4.21.0,!=5.28.0,<6,>=3.19.0 in c:\\users\\jerm\\anaconda3\\envs\\torch3\\lib\\site-packages (from wandb) (5.28.3)\n",
      "Requirement already satisfied: psutil>=5.0.0 in c:\\users\\jerm\\anaconda3\\envs\\torch3\\lib\\site-packages (from wandb) (5.9.0)\n",
      "Requirement already satisfied: pyyaml in c:\\users\\jerm\\anaconda3\\envs\\torch3\\lib\\site-packages (from wandb) (6.0.2)\n",
      "Requirement already satisfied: requests<3,>=2.0.0 in c:\\users\\jerm\\anaconda3\\envs\\torch3\\lib\\site-packages (from wandb) (2.32.3)\n",
      "Requirement already satisfied: sentry-sdk>=2.0.0 in c:\\users\\jerm\\anaconda3\\envs\\torch3\\lib\\site-packages (from wandb) (2.18.0)\n",
      "Requirement already satisfied: setproctitle in c:\\users\\jerm\\anaconda3\\envs\\torch3\\lib\\site-packages (from wandb) (1.3.4)\n",
      "Requirement already satisfied: setuptools in c:\\users\\jerm\\anaconda3\\envs\\torch3\\lib\\site-packages (from wandb) (72.1.0)\n",
      "Requirement already satisfied: colorama in c:\\users\\jerm\\anaconda3\\envs\\torch3\\lib\\site-packages (from click!=8.0.0,>=7.1->wandb) (0.4.6)\n",
      "Requirement already satisfied: six>=1.4.0 in c:\\users\\jerm\\anaconda3\\envs\\torch3\\lib\\site-packages (from docker-pycreds>=0.4.0->wandb) (1.16.0)\n",
      "Requirement already satisfied: gitdb<5,>=4.0.1 in c:\\users\\jerm\\anaconda3\\envs\\torch3\\lib\\site-packages (from gitpython!=3.1.29,>=1.0.0->wandb) (4.0.11)\n",
      "Requirement already satisfied: charset-normalizer<4,>=2 in c:\\users\\jerm\\anaconda3\\envs\\torch3\\lib\\site-packages (from requests<3,>=2.0.0->wandb) (3.3.2)\n",
      "Requirement already satisfied: idna<4,>=2.5 in c:\\users\\jerm\\anaconda3\\envs\\torch3\\lib\\site-packages (from requests<3,>=2.0.0->wandb) (3.7)\n",
      "Requirement already satisfied: urllib3<3,>=1.21.1 in c:\\users\\jerm\\anaconda3\\envs\\torch3\\lib\\site-packages (from requests<3,>=2.0.0->wandb) (2.2.3)\n",
      "Requirement already satisfied: certifi>=2017.4.17 in c:\\users\\jerm\\anaconda3\\envs\\torch3\\lib\\site-packages (from requests<3,>=2.0.0->wandb) (2024.8.30)\n",
      "Requirement already satisfied: smmap<6,>=3.0.1 in c:\\users\\jerm\\anaconda3\\envs\\torch3\\lib\\site-packages (from gitdb<5,>=4.0.1->gitpython!=3.1.29,>=1.0.0->wandb) (5.0.1)\n",
      "Looking in indexes: https://pypi.org/simple, https://pypi.ngc.nvidia.com\n",
      "Requirement already satisfied: yfinance in c:\\users\\jerm\\anaconda3\\envs\\torch3\\lib\\site-packages (0.2.50)\n",
      "Requirement already satisfied: pandas>=1.3.0 in c:\\users\\jerm\\anaconda3\\envs\\torch3\\lib\\site-packages (from yfinance) (2.2.3)\n",
      "Requirement already satisfied: numpy>=1.16.5 in c:\\users\\jerm\\anaconda3\\envs\\torch3\\lib\\site-packages (from yfinance) (1.26.4)\n",
      "Requirement already satisfied: requests>=2.31 in c:\\users\\jerm\\anaconda3\\envs\\torch3\\lib\\site-packages (from yfinance) (2.32.3)\n",
      "Requirement already satisfied: multitasking>=0.0.7 in c:\\users\\jerm\\anaconda3\\envs\\torch3\\lib\\site-packages (from yfinance) (0.0.11)\n",
      "Requirement already satisfied: lxml>=4.9.1 in c:\\users\\jerm\\anaconda3\\envs\\torch3\\lib\\site-packages (from yfinance) (5.3.0)\n",
      "Requirement already satisfied: platformdirs>=2.0.0 in c:\\users\\jerm\\anaconda3\\envs\\torch3\\lib\\site-packages (from yfinance) (4.3.6)\n",
      "Requirement already satisfied: pytz>=2022.5 in c:\\users\\jerm\\anaconda3\\envs\\torch3\\lib\\site-packages (from yfinance) (2024.2)\n",
      "Requirement already satisfied: frozendict>=2.3.4 in c:\\users\\jerm\\anaconda3\\envs\\torch3\\lib\\site-packages (from yfinance) (2.4.6)\n",
      "Requirement already satisfied: peewee>=3.16.2 in c:\\users\\jerm\\anaconda3\\envs\\torch3\\lib\\site-packages (from yfinance) (3.17.8)\n",
      "Requirement already satisfied: beautifulsoup4>=4.11.1 in c:\\users\\jerm\\anaconda3\\envs\\torch3\\lib\\site-packages (from yfinance) (4.12.3)\n",
      "Requirement already satisfied: html5lib>=1.1 in c:\\users\\jerm\\anaconda3\\envs\\torch3\\lib\\site-packages (from yfinance) (1.1)\n",
      "Requirement already satisfied: soupsieve>1.2 in c:\\users\\jerm\\anaconda3\\envs\\torch3\\lib\\site-packages (from beautifulsoup4>=4.11.1->yfinance) (2.6)\n",
      "Requirement already satisfied: six>=1.9 in c:\\users\\jerm\\anaconda3\\envs\\torch3\\lib\\site-packages (from html5lib>=1.1->yfinance) (1.16.0)\n",
      "Requirement already satisfied: webencodings in c:\\users\\jerm\\anaconda3\\envs\\torch3\\lib\\site-packages (from html5lib>=1.1->yfinance) (0.5.1)\n",
      "Requirement already satisfied: python-dateutil>=2.8.2 in c:\\users\\jerm\\anaconda3\\envs\\torch3\\lib\\site-packages (from pandas>=1.3.0->yfinance) (2.9.0)\n",
      "Requirement already satisfied: tzdata>=2022.7 in c:\\users\\jerm\\anaconda3\\envs\\torch3\\lib\\site-packages (from pandas>=1.3.0->yfinance) (2024.2)\n",
      "Requirement already satisfied: charset-normalizer<4,>=2 in c:\\users\\jerm\\anaconda3\\envs\\torch3\\lib\\site-packages (from requests>=2.31->yfinance) (3.3.2)\n",
      "Requirement already satisfied: idna<4,>=2.5 in c:\\users\\jerm\\anaconda3\\envs\\torch3\\lib\\site-packages (from requests>=2.31->yfinance) (3.7)\n",
      "Requirement already satisfied: urllib3<3,>=1.21.1 in c:\\users\\jerm\\anaconda3\\envs\\torch3\\lib\\site-packages (from requests>=2.31->yfinance) (2.2.3)\n",
      "Requirement already satisfied: certifi>=2017.4.17 in c:\\users\\jerm\\anaconda3\\envs\\torch3\\lib\\site-packages (from requests>=2.31->yfinance) (2024.8.30)\n"
     ]
    }
   ],
   "source": [
    "!pip install pytorch-lightning\n",
    "!pip install wandb\n",
    "!pip install yfinance"
   ]
  },
  {
   "cell_type": "code",
   "execution_count": 2,
   "metadata": {
    "id": "0-iNSH47r3uu"
   },
   "outputs": [
    {
     "name": "stderr",
     "output_type": "stream",
     "text": [
      "\u001b[34m\u001b[1mwandb\u001b[0m: Using wandb-core as the SDK backend.  Please refer to https://wandb.me/wandb-core for more information.\n",
      "\u001b[34m\u001b[1mwandb\u001b[0m: Currently logged in as: \u001b[33mjeremy-tran-ensea\u001b[0m (\u001b[33mjeremy-tran-ensea-ensea\u001b[0m). Use \u001b[1m`wandb login --relogin`\u001b[0m to force relogin\n",
      "Seed set to 42\n"
     ]
    }
   ],
   "source": [
    "# Standard Libraries\n",
    "import os\n",
    "import copy\n",
    "import math\n",
    "import random\n",
    "from typing import Optional, List\n",
    "\n",
    "# PyTorch Libraries\n",
    "import torch\n",
    "import torch.nn as nn\n",
    "import torch.nn.functional as F\n",
    "import torch.optim as optim\n",
    "import torchvision\n",
    "import torchvision.transforms as transforms\n",
    "from torch.utils.data import DataLoader, Dataset, random_split\n",
    "from torchvision.datasets import MNIST\n",
    "\n",
    "# PyTorch Lightning\n",
    "import pytorch_lightning as pl\n",
    "from pytorch_lightning import LightningDataModule, LightningModule, Trainer\n",
    "from pytorch_lightning.loggers import WandbLogger\n",
    "from pytorch_lightning import seed_everything\n",
    "\n",
    "# Scientific Libraries\n",
    "import numpy as np\n",
    "from sklearn.model_selection import train_test_split\n",
    "from sklearn.preprocessing import MinMaxScaler\n",
    "from PIL import Image\n",
    "import matplotlib.pyplot as plt\n",
    "\n",
    "# Computer Vision\n",
    "import cv2\n",
    "import cv2 as cv\n",
    "\n",
    "# Wandb and Financial Data\n",
    "import wandb\n",
    "import yfinance as yf\n",
    "\n",
    "# Constants\n",
    "USE_COLAB = True\n",
    "CONTENT_DIR = \"/content\" if USE_COLAB else \".\"\n",
    "\n",
    "if not wandb.login():\n",
    "    raise ValueError(\"WandDB authentification failed.\")\n",
    "\n",
    "seed_everything(42)\n",
    "\n",
    "\n",
    "def _get_clones(module, N):\n",
    "    return nn.ModuleList([copy.deepcopy(module) for i in range(N)])"
   ]
  },
  {
   "cell_type": "markdown",
   "metadata": {
    "id": "g7VWYvDMNpNt"
   },
   "source": [
    "# Transformer\n",
    "\n",
    "## Before Transformers: Sequence Modeling Challenges\n",
    "\n",
    "Before the advent of Transformers, sequence modeling tasks primarily relied on recurrent neural network (RNN) architectures, such as vanilla RNNs, LSTMs (Long Short-Term Memory networks), and GRUs (Gated Recurrent Units). These architectures were designed to process data sequentially, making them well-suited for tasks where temporal or sequential relationships are critical, such as language modeling, translation, and time-series analysis.\n",
    "\n",
    "**Strengths of RNNs, LSTMs, and GRUs:**\n",
    "- Sequential Processing: RNNs inherently model temporal dependencies by processing input data token by token.\n",
    "- Memory Mechanisms: LSTMs and GRUs improve on standard RNNs by incorporating gating mechanisms to capture long-range dependencies and mitigate the vanishing gradient problem.\n",
    "\n",
    "**Key Challenges and Limitations:**\n",
    "- Sequential Computation: The sequential nature of RNNs makes training and inference slow, as tokens must be processed in order. This limits parallelization and scalability.\n",
    "- Long-Term Dependencies: Despite improvements, capturing very long-range dependencies remains challenging. Models often fail to effectively propagate information over extended sequences.\n",
    "- Gradient Issues: RNNs can suffer from vanishing or exploding gradients, making it difficult to train deep models on long sequences.\n",
    "Fixed-Length Representations: Many traditional architectures compress variable-length sequences into fixed-size vectors, potentially losing important information.\n",
    "\n",
    "\n",
    "## The Need for a Paradigm Shift:\n",
    "\n",
    "The limitations of RNN-based architectures inspired the search for alternatives capable of:\n",
    "- Parallelizing computation for faster training and inference.\n",
    "- Handling long-range dependencies efficiently.\n",
    "- Representing sequences in a more flexible and scalable manner.\n",
    "\n",
    "This led to the development of Transformers, which utilize self-attention mechanisms to address these challenges, transforming how sequence modeling is approached.\n",
    "\n",
    "## Attention: The Core of Transformers\n",
    "\n",
    "Attention, self-attention, and multi-head attention are central to the Transformer architecture. These mechanisms enable the model to focus on the most relevant parts of the input, dynamically identifying important regions or tokens for a given task.\n",
    "- Self-Attention: Computes relationships between all tokens in the input, capturing both local and global dependencies effectively.\n",
    "- Multi-Head Attention: Extends self-attention by processing multiple subspaces simultaneously, allowing the model to focus on diverse aspects of the input (e.g., syntax, semantics).\n",
    "\n",
    "Advantages of Attention:\n",
    "- Processes tokens in parallel, enabling faster computation.\n",
    "- Captures long-range dependencies across the input.\n",
    "- Improves representational flexibility for complex relationships.\n",
    "Attention mechanisms form the backbone of the Transformer's ability to model sequences efficiently and effectively.\n",
    "\n",
    "## Architecture Overview\n",
    "\n",
    "The Transformer is a neural network architecture fundamentally built on attention mechanisms. It is structured as an **encoder-decoder** framework, with distinct roles for each component:\n",
    "- **Encoder:** Maps an input sequence of symbol representations $(x_1, \\dots, x_n)$ to a sequence of intermediate representations $(z_1, \\dots, z_n)$.  \n",
    "- **Decoder:** Takes the encoder's output $z$ and generates an output sequence $(y_1, \\dots, y_m)$.  \n",
    "\n",
    "A key characteristic of the decoder is that it operates in an **auto-regressive** manner: at each time step, it uses the previously generated symbols as additional inputs to generate the next symbol in the sequence. This property ensures that the output is generated sequentially, preserving dependencies between tokens.\n",
    "\n",
    "<img src=\"https://miro.medium.com/max/1400/1*BHzGVskWGS_3jEcYYi6miQ.png\" width= 400>    \n",
    "<img src=\"https://miro.medium.com/max/1400/1*BHzGVskWGS_3jEcYYi6miQ.png\" width= 400>\n",
    "\n",
    "# Positional Encoding\n",
    "\n",
    "Transformers operate on sequences of data where the order of elements is critical. To illustrate the importance of order, consider the following example:\n",
    "\n",
    "> Vivre pour manger ≠ Manger pour vivre.\n",
    "\n",
    "In recurrent architectures such as RNNs, LSTMs, or GRUs, the sequential nature of processing inherently captures positional information, as tokens are processed in order. However, Transformers lack this sequential mechanism due to their parallelized processing of input sequences. This raises an important question:\n",
    "\n",
    "How can we encode the positional information of tokens within the Transformer architecture?\n",
    "\n",
    "The solution proposed by the authors of the Transformer model involves incorporating positional information directly into the input embeddings. This is achieved by adding a positional encoding vector to each token's embedding. These positional encodings effectively convey the position of each token within the sequence, enabling the model to understand the relative and absolute order of tokens.\n",
    "\n",
    "Formally, the positional encoding for a token at position $pos$ and dimension $i$ is defined as:\n",
    "\n",
    "$$PE_{(pos, 2i)} = \\sin\\left(\\frac{pos}{10000^{2i/d_{\\text{model}}}}\\right)$$\n",
    "\n",
    "$$PE_{(pos, 2i+1)} = \\cos\\left(\\frac{pos}{10000^{2i/d_{\\text{model}}}}\\right)$$\n",
    "\n",
    "where:\n",
    "- $pos$ is the position of the token in the sequence.\n",
    "- $i$ refers to the dimension of the positional encoding.\n",
    "- $d_{\\text{model}}$ is the dimensionality of the model (embedding dimension).\n",
    "\n",
    "The wavelength form a geometric progression from $2\\pi$ to $10000 \\cdot 2\\pi$ across the dimensions. This function allows the model to learn representations that consider both the absolute and relative positions of tokens in the sequence.\n"
   ]
  },
  {
   "cell_type": "markdown",
   "metadata": {
    "id": "M7QlOkOU1RY9"
   },
   "source": [
    "# 1 - Data\n",
    "\n",
    "## 1.1 Data Collection\n",
    "\n",
    "You are encouraged to download and analyze any stock data of your choice, making the learning experience both practical and customizable.\n",
    "You need table of stock data with the following columns:\n",
    "- Date\n",
    "- Open\n",
    "- High\n",
    "- Low\n",
    "- Close\n",
    "- Volume\n",
    "- Adj Close\n",
    "\n",
    "You can obtain stock data in several ways:\n",
    "- download the data from any source that provide a \"csv\"-like file\n",
    "    * S&P500 : https://finance.yahoo.com/quote/%5EGSPC/history?p=%5EGSPC,  https://www.nasdaq.com/market-activity/index/spx/historical\n",
    "    * Bitcoin : https://finance.yahoo.com/quote/BTC-USD/history?p=BTC-USD,...\n",
    "    * Gold : https://finance.yahoo.com/quote/GC%3DF/history?p=GC%3DF,..\n",
    "- use the `yfinance` library to download the data directly from the Yahoo Finance website\n",
    "    - S&P500: \"^GSPC\"\n",
    "    - Bitcoin: \"BTC-USD\"\n",
    "    - Gold: \"GC=F\"\n",
    "\n",
    "Note: A longer historical period is essential to capture trends and train the model effectively."
   ]
  },
  {
   "cell_type": "code",
   "execution_count": 3,
   "metadata": {},
   "outputs": [
    {
     "data": {
      "text/html": [
       "<div>\n",
       "<style scoped>\n",
       "    .dataframe tbody tr th:only-of-type {\n",
       "        vertical-align: middle;\n",
       "    }\n",
       "\n",
       "    .dataframe tbody tr th {\n",
       "        vertical-align: top;\n",
       "    }\n",
       "\n",
       "    .dataframe thead th {\n",
       "        text-align: right;\n",
       "    }\n",
       "</style>\n",
       "<table border=\"1\" class=\"dataframe\">\n",
       "  <thead>\n",
       "    <tr style=\"text-align: right;\">\n",
       "      <th></th>\n",
       "      <th>Open</th>\n",
       "      <th>High</th>\n",
       "      <th>Low</th>\n",
       "      <th>Close</th>\n",
       "      <th>Volume</th>\n",
       "      <th>Dividends</th>\n",
       "      <th>Stock Splits</th>\n",
       "    </tr>\n",
       "    <tr>\n",
       "      <th>Date</th>\n",
       "      <th></th>\n",
       "      <th></th>\n",
       "      <th></th>\n",
       "      <th></th>\n",
       "      <th></th>\n",
       "      <th></th>\n",
       "      <th></th>\n",
       "    </tr>\n",
       "  </thead>\n",
       "  <tbody>\n",
       "    <tr>\n",
       "      <th>2024-11-18 00:00:00-05:00</th>\n",
       "      <td>2591.699951</td>\n",
       "      <td>2610.699951</td>\n",
       "      <td>2589.399902</td>\n",
       "      <td>2610.600098</td>\n",
       "      <td>136</td>\n",
       "      <td>0.0</td>\n",
       "      <td>0.0</td>\n",
       "    </tr>\n",
       "    <tr>\n",
       "      <th>2024-11-19 00:00:00-05:00</th>\n",
       "      <td>2621.899902</td>\n",
       "      <td>2627.699951</td>\n",
       "      <td>2619.300049</td>\n",
       "      <td>2627.100098</td>\n",
       "      <td>87</td>\n",
       "      <td>0.0</td>\n",
       "      <td>0.0</td>\n",
       "    </tr>\n",
       "    <tr>\n",
       "      <th>2024-11-20 00:00:00-05:00</th>\n",
       "      <td>2638.500000</td>\n",
       "      <td>2648.199951</td>\n",
       "      <td>2638.500000</td>\n",
       "      <td>2648.199951</td>\n",
       "      <td>27</td>\n",
       "      <td>0.0</td>\n",
       "      <td>0.0</td>\n",
       "    </tr>\n",
       "    <tr>\n",
       "      <th>2024-11-21 00:00:00-05:00</th>\n",
       "      <td>2659.300049</td>\n",
       "      <td>2672.100098</td>\n",
       "      <td>2655.699951</td>\n",
       "      <td>2672.100098</td>\n",
       "      <td>33</td>\n",
       "      <td>0.0</td>\n",
       "      <td>0.0</td>\n",
       "    </tr>\n",
       "    <tr>\n",
       "      <th>2024-11-22 00:00:00-05:00</th>\n",
       "      <td>2687.500000</td>\n",
       "      <td>2710.500000</td>\n",
       "      <td>2685.600098</td>\n",
       "      <td>2709.899902</td>\n",
       "      <td>41</td>\n",
       "      <td>0.0</td>\n",
       "      <td>0.0</td>\n",
       "    </tr>\n",
       "    <tr>\n",
       "      <th>2024-11-25 00:00:00-05:00</th>\n",
       "      <td>2689.399902</td>\n",
       "      <td>2689.399902</td>\n",
       "      <td>2616.800049</td>\n",
       "      <td>2616.800049</td>\n",
       "      <td>94</td>\n",
       "      <td>0.0</td>\n",
       "      <td>0.0</td>\n",
       "    </tr>\n",
       "    <tr>\n",
       "      <th>2024-11-26 00:00:00-05:00</th>\n",
       "      <td>2625.600098</td>\n",
       "      <td>2625.600098</td>\n",
       "      <td>2620.300049</td>\n",
       "      <td>2620.300049</td>\n",
       "      <td>177858</td>\n",
       "      <td>0.0</td>\n",
       "      <td>0.0</td>\n",
       "    </tr>\n",
       "    <tr>\n",
       "      <th>2024-11-27 00:00:00-05:00</th>\n",
       "      <td>2633.500000</td>\n",
       "      <td>2657.899902</td>\n",
       "      <td>2627.199951</td>\n",
       "      <td>2639.899902</td>\n",
       "      <td>61653</td>\n",
       "      <td>0.0</td>\n",
       "      <td>0.0</td>\n",
       "    </tr>\n",
       "    <tr>\n",
       "      <th>2024-11-29 00:00:00-05:00</th>\n",
       "      <td>2636.399902</td>\n",
       "      <td>2664.300049</td>\n",
       "      <td>2620.699951</td>\n",
       "      <td>2657.000000</td>\n",
       "      <td>3861</td>\n",
       "      <td>0.0</td>\n",
       "      <td>0.0</td>\n",
       "    </tr>\n",
       "    <tr>\n",
       "      <th>2024-12-02 00:00:00-05:00</th>\n",
       "      <td>2649.000000</td>\n",
       "      <td>2649.800049</td>\n",
       "      <td>2621.699951</td>\n",
       "      <td>2634.899902</td>\n",
       "      <td>695</td>\n",
       "      <td>0.0</td>\n",
       "      <td>0.0</td>\n",
       "    </tr>\n",
       "    <tr>\n",
       "      <th>2024-12-03 00:00:00-05:00</th>\n",
       "      <td>2639.000000</td>\n",
       "      <td>2654.699951</td>\n",
       "      <td>2636.000000</td>\n",
       "      <td>2644.699951</td>\n",
       "      <td>1062</td>\n",
       "      <td>0.0</td>\n",
       "      <td>0.0</td>\n",
       "    </tr>\n",
       "    <tr>\n",
       "      <th>2024-12-04 00:00:00-05:00</th>\n",
       "      <td>2639.199951</td>\n",
       "      <td>2658.300049</td>\n",
       "      <td>2637.000000</td>\n",
       "      <td>2653.800049</td>\n",
       "      <td>249</td>\n",
       "      <td>0.0</td>\n",
       "      <td>0.0</td>\n",
       "    </tr>\n",
       "    <tr>\n",
       "      <th>2024-12-05 00:00:00-05:00</th>\n",
       "      <td>2652.399902</td>\n",
       "      <td>2655.000000</td>\n",
       "      <td>2625.699951</td>\n",
       "      <td>2626.600098</td>\n",
       "      <td>573</td>\n",
       "      <td>0.0</td>\n",
       "      <td>0.0</td>\n",
       "    </tr>\n",
       "    <tr>\n",
       "      <th>2024-12-06 00:00:00-05:00</th>\n",
       "      <td>2620.199951</td>\n",
       "      <td>2643.100098</td>\n",
       "      <td>2617.500000</td>\n",
       "      <td>2638.600098</td>\n",
       "      <td>571</td>\n",
       "      <td>0.0</td>\n",
       "      <td>0.0</td>\n",
       "    </tr>\n",
       "    <tr>\n",
       "      <th>2024-12-09 00:00:00-05:00</th>\n",
       "      <td>2632.100098</td>\n",
       "      <td>2677.100098</td>\n",
       "      <td>2630.800049</td>\n",
       "      <td>2664.899902</td>\n",
       "      <td>935</td>\n",
       "      <td>0.0</td>\n",
       "      <td>0.0</td>\n",
       "    </tr>\n",
       "    <tr>\n",
       "      <th>2024-12-10 00:00:00-05:00</th>\n",
       "      <td>2662.300049</td>\n",
       "      <td>2698.199951</td>\n",
       "      <td>2661.000000</td>\n",
       "      <td>2697.600098</td>\n",
       "      <td>437</td>\n",
       "      <td>0.0</td>\n",
       "      <td>0.0</td>\n",
       "    </tr>\n",
       "    <tr>\n",
       "      <th>2024-12-11 00:00:00-05:00</th>\n",
       "      <td>2701.800049</td>\n",
       "      <td>2733.800049</td>\n",
       "      <td>2693.100098</td>\n",
       "      <td>2733.800049</td>\n",
       "      <td>3387</td>\n",
       "      <td>0.0</td>\n",
       "      <td>0.0</td>\n",
       "    </tr>\n",
       "    <tr>\n",
       "      <th>2024-12-12 00:00:00-05:00</th>\n",
       "      <td>2725.100098</td>\n",
       "      <td>2725.100098</td>\n",
       "      <td>2677.399902</td>\n",
       "      <td>2687.500000</td>\n",
       "      <td>2365</td>\n",
       "      <td>0.0</td>\n",
       "      <td>0.0</td>\n",
       "    </tr>\n",
       "    <tr>\n",
       "      <th>2024-12-13 00:00:00-05:00</th>\n",
       "      <td>2688.199951</td>\n",
       "      <td>2689.300049</td>\n",
       "      <td>2647.899902</td>\n",
       "      <td>2656.000000</td>\n",
       "      <td>1125</td>\n",
       "      <td>0.0</td>\n",
       "      <td>0.0</td>\n",
       "    </tr>\n",
       "    <tr>\n",
       "      <th>2024-12-16 00:00:00-05:00</th>\n",
       "      <td>2658.300049</td>\n",
       "      <td>2663.300049</td>\n",
       "      <td>2651.000000</td>\n",
       "      <td>2651.399902</td>\n",
       "      <td>877</td>\n",
       "      <td>0.0</td>\n",
       "      <td>0.0</td>\n",
       "    </tr>\n",
       "    <tr>\n",
       "      <th>2024-12-17 00:00:00-05:00</th>\n",
       "      <td>2651.800049</td>\n",
       "      <td>2652.300049</td>\n",
       "      <td>2632.500000</td>\n",
       "      <td>2644.399902</td>\n",
       "      <td>877</td>\n",
       "      <td>0.0</td>\n",
       "      <td>0.0</td>\n",
       "    </tr>\n",
       "    <tr>\n",
       "      <th>2024-12-18 00:00:00-05:00</th>\n",
       "      <td>2663.300049</td>\n",
       "      <td>2667.600098</td>\n",
       "      <td>2618.199951</td>\n",
       "      <td>2620.899902</td>\n",
       "      <td>123504</td>\n",
       "      <td>0.0</td>\n",
       "      <td>0.0</td>\n",
       "    </tr>\n",
       "  </tbody>\n",
       "</table>\n",
       "</div>"
      ],
      "text/plain": [
       "                                  Open         High          Low        Close  \\\n",
       "Date                                                                            \n",
       "2024-11-18 00:00:00-05:00  2591.699951  2610.699951  2589.399902  2610.600098   \n",
       "2024-11-19 00:00:00-05:00  2621.899902  2627.699951  2619.300049  2627.100098   \n",
       "2024-11-20 00:00:00-05:00  2638.500000  2648.199951  2638.500000  2648.199951   \n",
       "2024-11-21 00:00:00-05:00  2659.300049  2672.100098  2655.699951  2672.100098   \n",
       "2024-11-22 00:00:00-05:00  2687.500000  2710.500000  2685.600098  2709.899902   \n",
       "2024-11-25 00:00:00-05:00  2689.399902  2689.399902  2616.800049  2616.800049   \n",
       "2024-11-26 00:00:00-05:00  2625.600098  2625.600098  2620.300049  2620.300049   \n",
       "2024-11-27 00:00:00-05:00  2633.500000  2657.899902  2627.199951  2639.899902   \n",
       "2024-11-29 00:00:00-05:00  2636.399902  2664.300049  2620.699951  2657.000000   \n",
       "2024-12-02 00:00:00-05:00  2649.000000  2649.800049  2621.699951  2634.899902   \n",
       "2024-12-03 00:00:00-05:00  2639.000000  2654.699951  2636.000000  2644.699951   \n",
       "2024-12-04 00:00:00-05:00  2639.199951  2658.300049  2637.000000  2653.800049   \n",
       "2024-12-05 00:00:00-05:00  2652.399902  2655.000000  2625.699951  2626.600098   \n",
       "2024-12-06 00:00:00-05:00  2620.199951  2643.100098  2617.500000  2638.600098   \n",
       "2024-12-09 00:00:00-05:00  2632.100098  2677.100098  2630.800049  2664.899902   \n",
       "2024-12-10 00:00:00-05:00  2662.300049  2698.199951  2661.000000  2697.600098   \n",
       "2024-12-11 00:00:00-05:00  2701.800049  2733.800049  2693.100098  2733.800049   \n",
       "2024-12-12 00:00:00-05:00  2725.100098  2725.100098  2677.399902  2687.500000   \n",
       "2024-12-13 00:00:00-05:00  2688.199951  2689.300049  2647.899902  2656.000000   \n",
       "2024-12-16 00:00:00-05:00  2658.300049  2663.300049  2651.000000  2651.399902   \n",
       "2024-12-17 00:00:00-05:00  2651.800049  2652.300049  2632.500000  2644.399902   \n",
       "2024-12-18 00:00:00-05:00  2663.300049  2667.600098  2618.199951  2620.899902   \n",
       "\n",
       "                           Volume  Dividends  Stock Splits  \n",
       "Date                                                        \n",
       "2024-11-18 00:00:00-05:00     136        0.0           0.0  \n",
       "2024-11-19 00:00:00-05:00      87        0.0           0.0  \n",
       "2024-11-20 00:00:00-05:00      27        0.0           0.0  \n",
       "2024-11-21 00:00:00-05:00      33        0.0           0.0  \n",
       "2024-11-22 00:00:00-05:00      41        0.0           0.0  \n",
       "2024-11-25 00:00:00-05:00      94        0.0           0.0  \n",
       "2024-11-26 00:00:00-05:00  177858        0.0           0.0  \n",
       "2024-11-27 00:00:00-05:00   61653        0.0           0.0  \n",
       "2024-11-29 00:00:00-05:00    3861        0.0           0.0  \n",
       "2024-12-02 00:00:00-05:00     695        0.0           0.0  \n",
       "2024-12-03 00:00:00-05:00    1062        0.0           0.0  \n",
       "2024-12-04 00:00:00-05:00     249        0.0           0.0  \n",
       "2024-12-05 00:00:00-05:00     573        0.0           0.0  \n",
       "2024-12-06 00:00:00-05:00     571        0.0           0.0  \n",
       "2024-12-09 00:00:00-05:00     935        0.0           0.0  \n",
       "2024-12-10 00:00:00-05:00     437        0.0           0.0  \n",
       "2024-12-11 00:00:00-05:00    3387        0.0           0.0  \n",
       "2024-12-12 00:00:00-05:00    2365        0.0           0.0  \n",
       "2024-12-13 00:00:00-05:00    1125        0.0           0.0  \n",
       "2024-12-16 00:00:00-05:00     877        0.0           0.0  \n",
       "2024-12-17 00:00:00-05:00     877        0.0           0.0  \n",
       "2024-12-18 00:00:00-05:00  123504        0.0           0.0  "
      ]
     },
     "execution_count": 3,
     "metadata": {},
     "output_type": "execute_result"
    }
   ],
   "source": [
    "import yfinance as yf\n",
    "import pandas as pd\n",
    "\n",
    "# option 1\n",
    "# data = pd.read_csv(...)\n",
    "\n",
    "# option 2\n",
    "data = yf.Ticker(\"GC=F\").history(\"1mo\")\n",
    "data"
   ]
  },
  {
   "cell_type": "markdown",
   "metadata": {},
   "source": [
    "## 1.2 - EDA: Identifying Trends in Your Stock  \n",
    "\n",
    "As a Data Scientist, the first step is to thoroughly explore the data before proceeding with modeling. This step, known as **Exploratory Data Analysis (EDA)**, is essential for understanding the data and preparing it for subsequent tasks.  \n",
    "\n",
    "<img src=\"https://miro.medium.com/v2/resize:fit:862/1*bNSd-pm4XjkOV7uSTNAfnA.jpeg\" width= 400>\n",
    "\n",
    "\n",
    "**Time Series** data consists of data points indexed by time, typically organized as sequences of equally spaced intervals. In this exercise, we will explore a stock dataset to gain insights into its behavior over time.  \n",
    "\n",
    "\n",
    "**Goals of EDA**:  \n",
    "- Provide a **description of the stock** and its context.  \n",
    "- Summarize the dataset's features and their distributions.  \n",
    "- Hypothesize **potential trends for the next week** based on observed patterns.  \n",
    "- Visualize **key features** and their temporal behavior.  \n",
    "- Examine the **correlations** between features to uncover relationships.\n",
    "\n",
    "To achieve these goals, you can use various Python libraries for data manipulation and visualization:\n",
    "- [**`pandas`**](https://pandas.pydata.org/docs/index.html): For reading CSV files and data manipulation.  \n",
    "  - `read_csv()`: Reads the CSV file.  \n",
    "  - `head()`: Displays the first rows of the dataset.  \n",
    "  - `describe()`: Summarizes statistics for numerical features. \n",
    "- [**`seaborn`** ](https://seaborn.pydata.org/): For creating attractive and informative visualizations.  \n",
    "  - `displot()`: Visualizes feature distributions.  \n",
    "  - `heatmap()`: Displays correlations between features. \n",
    "- [**`matplotlib`**](https://matplotlib.org/): For basic plotting and visual analysis.  \n",
    "\n",
    "---\n",
    "\n",
    "**1. Perform Feature Summarization:**  \n",
    "- Summarize key metrics such as `Open`, `Close`, `High`, `Low`, and `Volume` using `describe()`.  \n",
    "- Identify missing values, outliers, or unusual distributions.  \n",
    "\n",
    "**2. Visualize Key Features:**  \n",
    "- Use **`matplotlib`** or **`seaborn`** to plot trends in stock prices (`Close`, `Open`) over time.  \n",
    "- Explore the distribution of features using `displot()`.  \n",
    "\n",
    "**3. Analyze Feature Correlations:**  \n",
    "- Compute correlations between numerical features (e.g., between `Volume` and `Close`).  \n",
    "- Visualize the correlation matrix using a heatmap.  \n",
    "\n",
    "**4. Hypothesize Trends:**  \n",
    "- Based on patterns in the data, make an educated guess about potential trends for the next week.\n",
    "\n",
    "**5. Formulate Hypotheses:**  \n",
    "- Use observations from the visualizations and summary statistics to hypothesize potential trends in the stock for the upcoming week. For instance, identify patterns such as steady growth, volatility, or mean-reversion tendencies.\n",
    "\n"
   ]
  },
  {
   "cell_type": "markdown",
   "metadata": {},
   "source": [
    "**1: Feature summarization**"
   ]
  },
  {
   "cell_type": "code",
   "execution_count": 4,
   "metadata": {},
   "outputs": [
    {
     "name": "stdout",
     "output_type": "stream",
     "text": [
      "count      22.000000\n",
      "mean     2653.022727\n",
      "std        30.747110\n",
      "min      2591.699951\n",
      "25%      2634.224976\n",
      "50%      2650.400024\n",
      "75%      2663.050049\n",
      "max      2725.100098\n",
      "Name: Open, dtype: float64 \n",
      "\n",
      "count      22.000000\n",
      "mean     2652.590909\n",
      "std        31.566055\n",
      "min      2610.600098\n",
      "25%      2629.050049\n",
      "50%      2646.449951\n",
      "75%      2662.924927\n",
      "max      2733.800049\n",
      "Name: Close, dtype: float64 \n",
      "\n",
      "count      22.000000\n",
      "mean     2667.000022\n",
      "std        30.991913\n",
      "min      2610.699951\n",
      "25%      2650.425049\n",
      "50%      2660.800049\n",
      "75%      2686.250061\n",
      "max      2733.800049\n",
      "Name: High, dtype: float64 \n",
      "\n",
      "count      22.000000\n",
      "mean     2637.422718\n",
      "std        25.036200\n",
      "min      2589.399902\n",
      "25%      2620.400024\n",
      "50%      2631.650024\n",
      "75%      2650.224976\n",
      "max      2693.100098\n",
      "Name: Low, dtype: float64 \n",
      "\n",
      "count        22.000000\n",
      "mean      17293.045455\n",
      "std       45850.127671\n",
      "min          27.000000\n",
      "25%         164.250000\n",
      "50%         786.000000\n",
      "75%        2055.000000\n",
      "max      177858.000000\n",
      "Name: Volume, dtype: float64\n"
     ]
    }
   ],
   "source": [
    "# TODO: a in depth EDA\n",
    "\n",
    "print(data[\"Open\"].describe(include=[np.number]),\"\\n\")\n",
    "print(data[\"Close\"].describe(include=[np.number]),\"\\n\")\n",
    "print(data[\"High\"].describe(include=[np.number]),\"\\n\")\n",
    "print(data[\"Low\"].describe(include=[np.number]),\"\\n\")\n",
    "print(data[\"Volume\"].describe(include=[np.number]))"
   ]
  },
  {
   "cell_type": "markdown",
   "metadata": {},
   "source": [
    "Nulldata"
   ]
  },
  {
   "cell_type": "code",
   "execution_count": 5,
   "metadata": {},
   "outputs": [
    {
     "name": "stdout",
     "output_type": "stream",
     "text": [
      "Series([], dtype: bool)\n"
     ]
    }
   ],
   "source": [
    "nan_indices = data.isna().stack()[data.isna().stack()]\n",
    "print(nan_indices)\n"
   ]
  },
  {
   "cell_type": "markdown",
   "metadata": {},
   "source": [
    "No empty cells"
   ]
  },
  {
   "cell_type": "code",
   "execution_count": 6,
   "metadata": {},
   "outputs": [
    {
     "name": "stdout",
     "output_type": "stream",
     "text": [
      "Looking in indexes: https://pypi.org/simple, https://pypi.ngc.nvidia.com\n",
      "Requirement already satisfied: seaborn in c:\\users\\jerm\\anaconda3\\envs\\torch3\\lib\\site-packages (0.13.2)\n",
      "Requirement already satisfied: numpy!=1.24.0,>=1.20 in c:\\users\\jerm\\anaconda3\\envs\\torch3\\lib\\site-packages (from seaborn) (1.26.4)\n",
      "Requirement already satisfied: pandas>=1.2 in c:\\users\\jerm\\anaconda3\\envs\\torch3\\lib\\site-packages (from seaborn) (2.2.3)\n",
      "Requirement already satisfied: matplotlib!=3.6.1,>=3.4 in c:\\users\\jerm\\anaconda3\\envs\\torch3\\lib\\site-packages (from seaborn) (3.9.2)\n",
      "Requirement already satisfied: contourpy>=1.0.1 in c:\\users\\jerm\\anaconda3\\envs\\torch3\\lib\\site-packages (from matplotlib!=3.6.1,>=3.4->seaborn) (1.3.0)\n",
      "Requirement already satisfied: cycler>=0.10 in c:\\users\\jerm\\anaconda3\\envs\\torch3\\lib\\site-packages (from matplotlib!=3.6.1,>=3.4->seaborn) (0.12.1)\n",
      "Requirement already satisfied: fonttools>=4.22.0 in c:\\users\\jerm\\anaconda3\\envs\\torch3\\lib\\site-packages (from matplotlib!=3.6.1,>=3.4->seaborn) (4.54.1)\n",
      "Requirement already satisfied: kiwisolver>=1.3.1 in c:\\users\\jerm\\anaconda3\\envs\\torch3\\lib\\site-packages (from matplotlib!=3.6.1,>=3.4->seaborn) (1.4.7)\n",
      "Requirement already satisfied: packaging>=20.0 in c:\\users\\jerm\\anaconda3\\envs\\torch3\\lib\\site-packages (from matplotlib!=3.6.1,>=3.4->seaborn) (24.1)\n",
      "Requirement already satisfied: pillow>=8 in c:\\users\\jerm\\anaconda3\\envs\\torch3\\lib\\site-packages (from matplotlib!=3.6.1,>=3.4->seaborn) (10.4.0)\n",
      "Requirement already satisfied: pyparsing>=2.3.1 in c:\\users\\jerm\\anaconda3\\envs\\torch3\\lib\\site-packages (from matplotlib!=3.6.1,>=3.4->seaborn) (3.2.0)\n",
      "Requirement already satisfied: python-dateutil>=2.7 in c:\\users\\jerm\\anaconda3\\envs\\torch3\\lib\\site-packages (from matplotlib!=3.6.1,>=3.4->seaborn) (2.9.0)\n",
      "Requirement already satisfied: pytz>=2020.1 in c:\\users\\jerm\\anaconda3\\envs\\torch3\\lib\\site-packages (from pandas>=1.2->seaborn) (2024.2)\n",
      "Requirement already satisfied: tzdata>=2022.7 in c:\\users\\jerm\\anaconda3\\envs\\torch3\\lib\\site-packages (from pandas>=1.2->seaborn) (2024.2)\n",
      "Requirement already satisfied: six>=1.5 in c:\\users\\jerm\\anaconda3\\envs\\torch3\\lib\\site-packages (from python-dateutil>=2.7->matplotlib!=3.6.1,>=3.4->seaborn) (1.16.0)\n"
     ]
    }
   ],
   "source": [
    "!pip install seaborn"
   ]
  },
  {
   "cell_type": "code",
   "execution_count": 7,
   "metadata": {},
   "outputs": [
    {
     "data": {
      "text/plain": [
       "<matplotlib.legend.Legend at 0x205cede65a0>"
      ]
     },
     "execution_count": 7,
     "metadata": {},
     "output_type": "execute_result"
    },
    {
     "data": {
      "image/png": "[encoded data removed]",
      "text/plain": [
       "<Figure size 640x480 with 1 Axes>"
      ]
     },
     "metadata": {},
     "output_type": "display_data"
    }
   ],
   "source": [
    "plt.plot(data['Open'])\n",
    "plt.plot(data['Close'])\n",
    "plt.plot(data[\"High\"])\n",
    "plt.plot(data['Low'])\n",
    "plt.legend(['Open','Close','High','Low'])"
   ]
  },
  {
   "cell_type": "code",
   "execution_count": 8,
   "metadata": {},
   "outputs": [
    {
     "data": {
      "text/plain": [
       "[<matplotlib.lines.Line2D at 0x205ceeb8cb0>]"
      ]
     },
     "execution_count": 8,
     "metadata": {},
     "output_type": "execute_result"
    },
    {
     "data": {
      "image/png": "[encoded data removed]",
      "text/plain": [
       "<Figure size 640x480 with 1 Axes>"
      ]
     },
     "metadata": {},
     "output_type": "display_data"
    }
   ],
   "source": [
    "plt.plot(data['Volume'])"
   ]
  },
  {
   "cell_type": "code",
   "execution_count": 9,
   "metadata": {},
   "outputs": [
    {
     "data": {
      "text/plain": [
       "<seaborn.axisgrid.FacetGrid at 0x205d00cd640>"
      ]
     },
     "execution_count": 9,
     "metadata": {},
     "output_type": "execute_result"
    },
    {
     "data": {
      "image/png": "[encoded data removed]",
      "text/plain": [
       "<Figure size 500x500 with 1 Axes>"
      ]
     },
     "metadata": {},
     "output_type": "display_data"
    },
    {
     "data": {
      "image/png": "[encoded data removed]",
      "text/plain": [
       "<Figure size 500x500 with 1 Axes>"
      ]
     },
     "metadata": {},
     "output_type": "display_data"
    }
   ],
   "source": [
    "import seaborn as sns\n",
    "sns.displot(data[\"Open\"])\n",
    "sns.displot(data[\"Close\"])"
   ]
  },
  {
   "cell_type": "code",
   "execution_count": 10,
   "metadata": {},
   "outputs": [],
   "source": [
    "corr_matrix=data[[\"Open\",\"Close\",\"High\",\"Low\",\"Volume\"]].corr(numeric_only=True)\n"
   ]
  },
  {
   "cell_type": "code",
   "execution_count": 11,
   "metadata": {},
   "outputs": [
    {
     "data": {
      "text/plain": [
       "<Axes: >"
      ]
     },
     "execution_count": 11,
     "metadata": {},
     "output_type": "execute_result"
    },
    {
     "data": {
      "image/png": "[encoded data removed]",
      "text/plain": [
       "<Figure size 640x480 with 2 Axes>"
      ]
     },
     "metadata": {},
     "output_type": "display_data"
    }
   ],
   "source": [
    "sns.heatmap(corr_matrix)\n"
   ]
  },
  {
   "cell_type": "markdown",
   "metadata": {},
   "source": [
    "The gold index is very stable index,\n",
    "The opening price is most often the low price and the closing price can vary but is closer to the high price.\n",
    "Based on the month observation, it ends with a rise in price and volume, if it follows the same trend as the previous sharp increase in price and volume in the month, it should increase a bit before crashing."
   ]
  },
  {
   "cell_type": "markdown",
   "metadata": {
    "id": "Ya7-5jyUqv-c"
   },
   "source": [
    "## 1.3 - Creating a Stock Dataset\n",
    "\n",
    "\n",
    "### Features\n",
    "In this section, we will process a stock dataset containing multiple features. We will focus on utilizing the **attention mechanism** to process five specific features:\n",
    "\n",
    "- **Open**\n",
    "- **High**\n",
    "- **Low**\n",
    "- **Close**\n",
    "- **Volume**\n",
    "\n",
    "### Sliding Window Approach\n",
    "\n",
    "We will use a *sliding, non-overlapping* window of size $N_{window}$ to generate input-output pairs. The input for each sequence will consist of the previous $N_{window}$ time steps, and the output will be the following $N_{window}$ time steps. Specifically, we aim to approximate the following relationship:\n",
    "\n",
    "$$\n",
    "f(W_t) \\approx W_{t+1}\n",
    "$$\n",
    "\n",
    "Where:\n",
    "\n",
    "$$\n",
    "W_t = (p_{t_{w}}, p_{t_{w+1}}, \\dots, p_{t_{w+N_{window}-1}})\n",
    "$$\n",
    "\n",
    "Example for $N_{window} = 3$\n",
    "\n",
    "- **Input 1**: $[p_0, p_1, p_2]$  \n",
    "  **Label 1**: $[p_3, p_4, p_5]$\n",
    "\n",
    "- **Input 2**: $[p_3, p_4, p_5]$  \n",
    "  **Label 2**: $[p_6, p_7, p_8]$\n",
    "\n",
    "- **Input 3**: $[p_6, p_7, p_8]$  \n",
    "  **Label 3**: $[p_9, p_{10}, p_{11}]$\n",
    "\n",
    "\n",
    "### Dataset class\n",
    "\n",
    "We will construct a dataset compatible with PyTorch's `Dataset` class. The custom dataset will take the following inputs:\n",
    "- **Dataframe(s)** containing the stock data.\n",
    "- **$N_{window}$**: The length of the sequence, representing the window size.\n",
    "- normalized: A boolean indicating whether to normalize the data (Min-Max scaling to [-1, 1]).\n",
    "- num_steps: The number of steps between consecutive data points. This parameter allows for the creation of sequences with a gap between each data point, enabling the model to learn from more diverse patterns.\n",
    "\n",
    "Since we are dealing with time series data, which is inherently sequential, each data point $p_{i}$ belongs to a sequence of length $N_{window}$. The goal is to predict the future behavior of the stock based on past observations.\n",
    "\n",
    "The `__getitem__` method should return a dictionary containing the following:\n",
    "- **`dict['input']`**: A list of $N_{window}$ input values.\n",
    "- **`dict['label']`**: A list of $N_{window}$ target values (the future values the model needs to predict).  \n",
    "\n"
   ]
  },
  {
   "cell_type": "code",
   "execution_count": 12,
   "metadata": {
    "id": "qRJG6afmrdPD"
   },
   "outputs": [],
   "source": [
    "class StockDataset(Dataset):\n",
    "    def __init__(self, df, N_window, normalized=True, num_steps=1):\n",
    "        self.df = df\n",
    "        self.df.dropna(how=\"any\", axis=0, inplace=True)\n",
    "        self.N_window = N_window\n",
    "        self.num_steps = num_steps\n",
    "        self.normalized = normalized\n",
    "        self.X, self.y = self.process_df()\n",
    "\n",
    "    def process_df(self):\n",
    "        \"\"\"\n",
    "        process method should return X,y:\n",
    "        * X is an array of num_steps*N_windows input values\n",
    "        * y is an array of corresponding target values\n",
    "        \"\"\"\n",
    "        scaler = MinMaxScaler(feature_range=(-1, 1))\n",
    "        data_raw = self.df.to_numpy()\n",
    "        close = self.df[\"Close\"].to_numpy()\n",
    "        open = self.df[\"Open\"].to_numpy()\n",
    "        high = self.df[\"High\"].to_numpy()\n",
    "        low = self.df[\"Low\"].to_numpy()\n",
    "        volume = self.df[\"Volume\"].to_numpy()\n",
    "\n",
    "        if self.normalized:\n",
    "            close = scaler.fit_transform(close.reshape(-1, 1))\n",
    "            open = scaler.fit_transform(open.reshape(-1, 1))\n",
    "            high = scaler.fit_transform(high.reshape(-1, 1))\n",
    "            low = scaler.fit_transform(low.reshape(-1, 1))\n",
    "            volume = scaler.fit_transform(volume.reshape(-1, 1))\n",
    "        assert len(close) == len(open) == len(high) == len(low) == len(volume)\n",
    "        data_raw = np.hstack([close, open, high, low, volume])\n",
    "\n",
    "        print(data_raw.shape)\n",
    "        \n",
    "        # TODO : Create a list of non-overlaping sequences of N_window elements\n",
    "        windows = []\n",
    "        targets = []\n",
    "        for i in range(len(data_raw) - 2*self.N_window - self.num_steps + 1):\n",
    "            window = data_raw[i:i + self.N_window]\n",
    "            target = data_raw[i+self.N_window+self.num_steps:i + 2*self.N_window+self.num_steps]  \n",
    "            windows.append(window)\n",
    "            targets.append(target)\n",
    "\n",
    "        # TODO : Return an array of sequences where X is the input values and y the target values\n",
    "        X = X = np.array(windows)\n",
    "        y = np.array(targets)\n",
    "        return X, y\n",
    "\n",
    "    def __len__(self):\n",
    "        \"\"\"\n",
    "        Be careful on your len because of the overlapping issues\n",
    "        \"\"\"\n",
    "        # TODO : What is the len of the dataset ?\n",
    "        return len(self.X)\n",
    "\n",
    "    def __getitem__(self, idx):\n",
    "        \"\"\"\n",
    "        __getitem__ method should return a dictionnary where :\n",
    "        * dict['input'] : is a list of num_{steps} lists of N_{window} elements\n",
    "        * dict['label'] : is a list of N_{window} target value\n",
    "        \"\"\"\n",
    "        # TODO : Return one element\n",
    "        x = self.X[idx]\n",
    "        y = self.y[idx]\n",
    "        return {\"input\": x, \"label\": y}\n",
    "\n",
    "\n"
   ]
  },
  {
   "cell_type": "code",
   "execution_count": 13,
   "metadata": {},
   "outputs": [
    {
     "name": "stdout",
     "output_type": "stream",
     "text": [
      "(22, 5)\n",
      "[[-1.         -1.         -1.         -1.         -0.99877412]\n",
      " [-0.73214275 -0.54722762 -0.72380201 -0.42333481 -0.9993252 ]\n",
      " [-0.38961253 -0.29835086 -0.39073972 -0.05303751 -1.        ]]\n",
      "[[ 0.61201046  0.43628101  0.62144549  0.85535225 -0.99984255]\n",
      " [-0.8993514   0.46476528  0.27863345 -0.47155073 -0.99924648]\n",
      " [-0.8425332  -0.49175248 -0.7579182  -0.40404844  1.        ]]\n"
     ]
    }
   ],
   "source": [
    "df = data\n",
    "N_window = 3\n",
    "normalized = True\n",
    "dataset = StockDataset(df, N_window, normalized)\n",
    "#stride 1 = No overlap + 1 value skipped\n",
    "\n",
    "print(dataset[0][\"input\"])\n",
    "print(dataset[0][\"label\"])\n",
    "\n",
    "assert dataset[0][\"input\"].shape == (N_window, 5)\n",
    "assert dataset[0][\"label\"].shape == (N_window, 5)"
   ]
  },
  {
   "cell_type": "markdown",
   "metadata": {
    "id": "EoD75GvwtfT_"
   },
   "source": [
    "At this moment, each samples will be a dictionnary with a sequence. However, one important feature is hidden in our stock price but we need a proper way to use it. \n",
    "* What feature are we talking about ?\n"
   ]
  },
  {
   "cell_type": "markdown",
   "metadata": {},
   "source": [
    "The date"
   ]
  },
  {
   "cell_type": "markdown",
   "metadata": {
    "id": "Z3zY-G3SrKxc"
   },
   "source": [
    "## 1.4 - Creating the Lightning DataModule\n",
    "\n",
    "As usual create a Lightning Datamodule that encompasses everything. "
   ]
  },
  {
   "cell_type": "code",
   "execution_count": 14,
   "metadata": {
    "id": "53MZMTbbrYRT"
   },
   "outputs": [],
   "source": [
    "class StockDataModule(pl.LightningDataModule):\n",
    "    def __init__(self, df, N_window, normalized, batch_size):\n",
    "        super().__init__()\n",
    "        self.df = df\n",
    "        self.N_window = N_window\n",
    "        self.normalized = normalized\n",
    "        self.batch_size = batch_size\n",
    "\n",
    "\n",
    "    def setup(self, stage):\n",
    "        # First stage is 'fit' (or None)\n",
    "\n",
    "        # TODO : Do we shuffle the datasets ? Why ?\n",
    "        #Don't shuffle the dataset : the date and time correlation are very important in this study\n",
    "        X_train, X_test = train_test_split(self.df,test_size=0.2, shuffle=False)\n",
    "        X_train, X_valid = train_test_split(X_train,test_size=0.2, shuffle=False)\n",
    "\n",
    "        if stage == \"fit\" or stage is None:\n",
    "            # We create a validation split to watch the training.\n",
    "            # TODO : As usual\n",
    "            self.stock_train = StockDataset(X_train,self.N_window,self.normalized)\n",
    "            self.stock_valid = StockDataset(X_valid,self.N_window,self.normalized)\n",
    "\n",
    "        # Second stage is 'test'\n",
    "        if stage == \"test\" or stage is None:\n",
    "            # TODO : As usual\n",
    "            self.stock_test = StockDataset(X_test,self.N_window,self.normalized)\n",
    "\n",
    "    def train_dataloader(self):\n",
    "        return DataLoader(self.stock_train, batch_size=self.batch_size, shuffle=True)\n",
    "\n",
    "    def val_dataloader(self):\n",
    "        return DataLoader(self.stock_valid, self.batch_size, shuffle=True)\n",
    "\n",
    "    def test_dataloader(self):\n",
    "        return DataLoader(self.stock_test, self.batch_size, shuffle=True)"
   ]
  },
  {
   "cell_type": "code",
   "execution_count": 15,
   "metadata": {
    "id": "tpRHAcYNda6M"
   },
   "outputs": [
    {
     "name": "stdout",
     "output_type": "stream",
     "text": [
      "(13, 5)\n",
      "(4, 5)\n"
     ]
    }
   ],
   "source": [
    "# TODO : Initialize your datamodule\n",
    "\n",
    "dm = StockDataModule(data,N_window=2,normalized=True,batch_size=4)\n",
    "dm.setup(stage=\"fit\")\n"
   ]
  },
  {
   "cell_type": "code",
   "execution_count": 16,
   "metadata": {},
   "outputs": [
    {
     "name": "stdout",
     "output_type": "stream",
     "text": [
      "input label\n"
     ]
    }
   ],
   "source": [
    "test_features, test_labels = next(iter(dm.train_dataloader()))\n",
    "print(test_features,test_labels)"
   ]
  },
  {
   "cell_type": "markdown",
   "metadata": {
    "id": "5ilwKU725epE"
   },
   "source": [
    "## 2 - Positional Encoding : Incorporating Time to the features with Time2Vector\n",
    "\n",
    "As we have seen, transformers are not able to understand the order of the data.\n",
    "Usually, the original mechanism to encode the position of the data is to use a positional encoding. However, this encoding doesn't provide any sense of time.\n",
    "\n",
    "One proposed solution is to use a [Time2Vector](https://arxiv.org/abs/1907.05321) layer to encode the time information. The Time2Vector layer is a simple neural network layer that converts time into a vector representation. This vector representation can then be concatenated with the input features to provide the model with temporal information.\n",
    "\n",
    "Time2Vector is a model-agnostic vector representation for time. The main idea of this vector is that : \n",
    "* a meaningful representation of time has to include both periodic and non-periodic patterns.\n",
    "* a time representation should have an invariance to time rescaling\n",
    "\n",
    "$$ \\texttt{t2v}(\\tau)[i] =\n",
    "  \\begin{cases}\n",
    "    \\omega_i \\tau + \\varphi_i, & \\text{if~~$i=0$} \\\\\n",
    "    \\mathcal{F}(\\omega_i \\tau + \\varphi_i), & \\text{if~~$1 \\leq i \\leq k$}\n",
    "  \\end{cases} $$\n",
    "* $\\tau$ is the time (scalar)\n",
    "* $\\texttt{t2v}(\\tau)[i]$ is the i-th component of the time2vector representation of $\\tau$\n",
    "* $\\mathcal{F}$ is a periodic function for e.g. sin or cos\n",
    "* $w_i$, $\\varphi_{i}$   are learnable parameters\n",
    "\n",
    "Let's create a Time2Vec Layer. We need non-periodic feature and a periodic feature.\n",
    "* To your opinion is there a useless feature to exclude of this time embedding ?\n",
    "* Why ?\n",
    "\n",
    "**Important Disclaimer : Usually we add our positional encoding to our input tensor. However, in our case we will concatenate it.**\n"
   ]
  },
  {
   "cell_type": "markdown",
   "metadata": {},
   "source": [
    "I am not a finance expert but all features here seem relevant. I think the leask relevant would be the opening or closing because they would be a bit redudndant. And even though the volume feature seems uncorrelated to the other according to the table, the volume of transactions clearly spike when the gold value rises."
   ]
  },
  {
   "cell_type": "code",
   "execution_count": 24,
   "metadata": {
    "id": "iW3jL4sE9bDm"
   },
   "outputs": [],
   "source": [
    "import torch\n",
    "from torch import nn\n",
    "import numpy as np\n",
    "import math\n",
    "\n",
    "class Time2Vector(nn.Module):\n",
    "\n",
    "  def __init__(self,in_features):\n",
    "      super().__init__()\n",
    "      self.in_features = in_features \n",
    "      self.w0 = nn.parameter.Parameter(torch.randn(1,1), requires_grad =True)\n",
    "      self.b0 = nn.parameter.Parameter(torch.randn(in_features, 1), requires_grad =True)\n",
    "      self.w = nn.parameter.Parameter(torch.randn(1,1), requires_grad =True)\n",
    "      self.b = nn.parameter.Parameter(torch.randn(in_features, 1), requires_grad =True)\n",
    "      self.f = torch.sin\n",
    "\n",
    "\n",
    "  def forward(self,x):\n",
    "      bs,seq_len,n_feat = x.shape\n",
    "      # TODO : Exclude the unwanted feature and compute the mean along the last axis\n",
    "      x = torch.mean(x,axis=-1)\n",
    "\n",
    "      linear = x.unsqueeze(-1) \n",
    "      periodic = x.unsqueeze(-1)\n",
    "      linear = torch.matmul(linear,self.w0) + self.b0 \n",
    "      W = self.w.repeat(bs,1,1)\n",
    "      b = self.b.repeat(bs,1,1)\n",
    "      periodic = self.f(torch.bmm(periodic,W) + b) \n",
    "      return torch.cat([linear, periodic], -1).permute(0,2,1)\n",
    "\n",
    "# TODO : Verify the output of Time2Vector shape. It should be of shape (Batch Size, Sequence Length, 2)\n",
    "test = Time2Vector(5)"
   ]
  },
  {
   "cell_type": "markdown",
   "metadata": {
    "id": "V0DesvfbB6wD"
   },
   "source": [
    "### III - Transformer : A Big Model around Attention"
   ]
  },
  {
   "cell_type": "markdown",
   "metadata": {
    "id": "XZIMEQz6LZ4u"
   },
   "source": [
    "We are going to build each modules of our Transformer model. The heart of the model resides in the Attention Mecanism. The goal of the Attention mecanism is to force the model to look at specific part of the input. We will build each component of the transformer part by part.\n",
    "\n",
    "\n",
    "Create the different components of the Transformer Encoder : \n",
    "* Attention Module\n",
    "* Multi-Head Attention Module\n",
    "* Transformer Encoder Layer\n",
    "* Transformer Encoder"
   ]
  },
  {
   "cell_type": "markdown",
   "metadata": {
    "id": "G1bU8e0LCUiu"
   },
   "source": [
    "#### a - Attention layer\n",
    "\n",
    "Let's compute the attention layer. We will create a layer that computes Bandhanau's attention also called Dot Scale Product attention. The attention mecanism takes an input $X$ and project it using a set of queries, keys and values. Think of it as a Database which you query (with the queries) using a set of keys, which returns a set values.\n",
    "\n",
    "Mathematicaly speaking, we are computing the scaled dot product between $Q$, $K$, $V$\n",
    "\n",
    "\n",
    "The attention is : \n",
    "\n",
    "$$ \\text{Attention}(Q,K,V) =  \\text{Softmax}\\left(\\frac{Q~K^T}{\\sqrt{dim}}\\right) \\cdot  V $$\n",
    "\n",
    "<img src=\"https://production-media.paperswithcode.com/methods/SCALDE.png\" height = 400>\n",
    "\n"
   ]
  },
  {
   "cell_type": "code",
   "execution_count": 25,
   "metadata": {
    "id": "yoB68E2LDPBP"
   },
   "outputs": [],
   "source": [
    "class Attention(nn.Module):\n",
    "    def __init__(self, dim_query):\n",
    "        super().__init__()\n",
    "        self.dim_query = dim_query\n",
    "\n",
    "    def forward(self, q, k, v):\n",
    "        # TODO : Compute the attention mecanism between q,k,v\n",
    "        attn = torch.bmm(q,k)/math.sqrt(self.dim_query)\n",
    "        attn = F.softmax(attn,-1)\n",
    "        context = torch.bmm(attn,v)\n",
    "        return context, attn\n"
   ]
  },
  {
   "cell_type": "markdown",
   "metadata": {
    "id": "q24Z5fwECRji"
   },
   "source": [
    "#### b - Multi head Attention \n",
    "\n",
    "Usually, we like creating a Multi-Head Attention layer. Multi-Head only means that we are computing the attention over multiple heads. In fact, instead of having only one function computed by the attention mecanism, we leave each head free to learn a different function. Hence, we will have different outputs each computing a different value.\n",
    "\n",
    "Mathematically speaking : \n",
    "\n",
    "$MultiHead(Q,K,V)=Concat(head_1,…,head_h)W^O$\n",
    "\n",
    "with $head_i=Attention(QW_i^Q,KW_i^K,VW_i^V).$\n",
    "\n",
    "\n",
    "<img src='https://encrypted-tbn0.gstatic.com/images?q=tbn:ANd9GcTv6Bgq7bdnXdT-JDWEnnzK2EM1xY0NUEOyBg&usqp=CAU'>"
   ]
  },
  {
   "cell_type": "markdown",
   "metadata": {
    "id": "Asj6n9anTZ0j"
   },
   "source": [
    " Question :    \n",
    " * What is $W^O$ ? Is it a learned parameter ?"
   ]
  },
  {
   "cell_type": "markdown",
   "metadata": {},
   "source": [
    "Wo is a rescaling factor, not a learned parameter."
   ]
  },
  {
   "cell_type": "code",
   "execution_count": 26,
   "metadata": {
    "id": "cNzQxfhnFK4F"
   },
   "outputs": [],
   "source": [
    "class MultiHeadAttention(nn.Module):\n",
    "    def __init__(self, embed_dim, dim_query, dim_value, num_heads):\n",
    "        super().__init__()\n",
    "\n",
    "        # Embed dim is the shape of the feature space\n",
    "        self.embed_dim = embed_dim\n",
    "        # Num Heads is the number of heads\n",
    "        self.num_heads = num_heads\n",
    "        self.head_dim = embed_dim // num_heads\n",
    "\n",
    "        self.w_query = nn.Linear(embed_dim, num_heads * dim_query)\n",
    "        self.w_key = nn.Linear(embed_dim, num_heads * dim_query)\n",
    "        self.w_value = nn.Linear(embed_dim, num_heads * dim_value)\n",
    "        self.linear = nn.Linear(num_heads * dim_value, embed_dim)\n",
    "        # Dim Query, Dim Value are the projected dimensions of each tensors\n",
    "        self.attention = Attention(dim_query)\n",
    "\n",
    "    def forward(self, query, key, value):\n",
    "        # TODO : Project your query, key, value into their respective heads\n",
    "        q = self.w_query(query)\n",
    "        k = self.w_key(key)\n",
    "        v = self.w_value(value)\n",
    "        # TODO : Compute the attention\n",
    "        attn, context  = self.attention(q,k,v)\n",
    "        attn = self.linear(attn)\n",
    "        return attn, context"
   ]
  },
  {
   "cell_type": "markdown",
   "metadata": {
    "id": "J9L27Af1C98Y"
   },
   "source": [
    "#### c - Transforming the Transformer\n",
    "\n",
    "So let's create our Transformer model. We will just create the Encoder, as we don't need the Decoder in our case. We are just trying to Encode the input and find interesting patterns.\n",
    "Usually we code the Transformer Model into a specific format :\n",
    "* Layer Class\n",
    "* Model Class\n",
    "\n",
    "<img src=\"https://www.researchgate.net/publication/334288604/figure/fig1/AS:778232232148992@1562556431066/The-Transformer-encoder-structure.ppm\" height=400>"
   ]
  },
  {
   "cell_type": "code",
   "execution_count": 21,
   "metadata": {
    "id": "zSo7KRdQPkhS"
   },
   "outputs": [],
   "source": [
    "# TODO : Create one Transformer Encoder Layer\n",
    "class TransformerEncoderLayer(nn.Module):\n",
    "    def __init__(\n",
    "        self,\n",
    "        embed_dim,\n",
    "        dim_query,\n",
    "        dim_value,\n",
    "        num_heads,\n",
    "        dim_feedforward=256,\n",
    "        dropout=0.1,\n",
    "    ):\n",
    "        super().__init__()\n",
    "        self.attention = MultiHeadAttention(embed_dim, dim_query, dim_value, num_heads)\n",
    "\n",
    "        self.linear = nn.Sequential(\n",
    "            nn.Linear(embed_dim, dim_feedforward),\n",
    "            nn.ReLU(),\n",
    "            nn.Dropout(dropout),\n",
    "            nn.ReLU(),\n",
    "            nn.Linear(dim_feedforward, embed_dim),\n",
    "        )\n",
    "\n",
    "        self.norm1 = nn.LayerNorm(embed_dim)\n",
    "        self.norm2 = nn.LayerNorm(embed_dim)\n",
    "        self.dropout1 = nn.Dropout(dropout)\n",
    "        self.dropout2 = nn.Dropout(dropout)\n",
    "\n",
    "    def forward(self, sequence):\n",
    "        q = k = v = sequence.double()\n",
    "        # TODO : Compute the attention\n",
    "        attn, context  = self.attention(q,k,v)\n",
    "        sequence = sequence + self.dropout1(attn)\n",
    "        sequence = self.norm1(sequence)\n",
    "        sequence = self.linear(sequence)\n",
    "        sequence = sequence + self.dropout2(sequence)\n",
    "        sequence = self.norm2(sequence)\n",
    "        return sequence\n",
    "\n",
    "\n",
    "# TODO : Create a Transformer Encoder.\n",
    "class TransformerEncoder(nn.Module):\n",
    "    def __init__(self, encoder_layer, num_layers):\n",
    "        super().__init__()\n",
    "        self.layers = _get_clones(encoder_layer, num_layers)\n",
    "        self.num_layers = num_layers\n",
    "\n",
    "    def forward(self, sequence):\n",
    "        output = sequence.permute(2, 0, 1)\n",
    "        for layer in self.layers:\n",
    "            # TODO : Send your Input to your transformer\n",
    "            output = layer(output)\n",
    "        return output\n"
   ]
  },
  {
   "cell_type": "markdown",
   "metadata": {
    "id": "OsWa6gmqVPoM"
   },
   "source": [
    "#### Building the entire model \n",
    "\n",
    "Finally let's build the entire model. Let's use Pytorch-Lightning to encompass everything. \n",
    "Normally your model must be composed of three components : \n",
    "* The Transformer\n",
    "* The Time2Vector \n",
    "* A Regression Head \n",
    "\n",
    "As usual ask yourself what task you are performing, how your data should travle trhough the model, what the data is, blablablablalablba\n",
    "\n",
    "Don't forget to use your favorite logger."
   ]
  },
  {
   "cell_type": "code",
   "execution_count": 22,
   "metadata": {
    "id": "1M5xOk8FVXtN"
   },
   "outputs": [],
   "source": [
    "class StockModel(pl.LightningModule):\n",
    "    def __init__(self, embed_dim, dim_query, dim_value, num_layers, num_heads):\n",
    "        super().__init__()\n",
    "        self.save_hyperparameters()\n",
    "        # TODO : Define your model here, be careful, your model will be an instance of the class. Watch  out for the input data.\n",
    "        # TOOD : Define your Encoder Layer\n",
    "        encoder_layer = TransformerEncoderLayer(\n",
    "            embed_dim=embed_dim,  # TODO : What should be the hidden dim ?\n",
    "            dim_query=dim_query,\n",
    "            dim_value=dim_value,\n",
    "            num_heads=num_heads,\n",
    "            dim_feedforward=256,\n",
    "            dropout=0.1,\n",
    "        )\n",
    "\n",
    "        # TODO : Initialize your Transformer\n",
    "        self.transformer = TransformerEncoder(encoder_layer=encoder_layer, num_layers=256)\n",
    "        # TODO : Initialize your regression head\n",
    "        self.head = nn.Linear(num_heads*dim_value, embed_dim)  # What is your input hidden dim, output hidden dim ? Don't forget your time embedding\n",
    "        # TODO : Initialize your Time2Vector Embeddings\n",
    "        self.timeencoder = Time2Vector(embed_dim)  # What is the in_features dimension ? Is it the same as the input ?\n",
    "\n",
    "    def forward(self, x):\n",
    "        bs, h, len = x.shape\n",
    "        pos = x.permute(0, 2, 1)\n",
    "        time_vec = self.timeencoder(pos)\n",
    "        # TODO : Concatenate your time embedding to the input sequence\n",
    "        x = torch.cat(\n",
    "            ...\n",
    "        )  # TODO : Verify that the tensor was correctly concatenated within the feature dim\n",
    "        # TODO : Send your input through your transformer\n",
    "        x = self.transformer(x)\n",
    "        x = x.view(bs * len, -1)\n",
    "        # TODO : Send your input through the regression head\n",
    "        x = self.head(x)\n",
    "        x = x.view(bs, -1, len)\n",
    "        return x\n",
    "\n",
    "    def configure_optimizers(self):\n",
    "        optimizer = optim.SGD(self.parameters(), lr=0.001, momentum=0.9)\n",
    "        return optimizer\n",
    "\n",
    "    def training_step(self, batch, batch_idx):\n",
    "        # TODO : Define your Training Step\n",
    "        X, y = ...\n",
    "        out = ...\n",
    "        loss = ...\n",
    "        # Don't remove the next line, you will understand why later\n",
    "        self.log(\"train_loss\", loss)\n",
    "        return loss\n",
    "\n",
    "    def validation_step(self, batch, batch_idx):\n",
    "        # TODO : Define your Validation Step\n",
    "        X, y = ...\n",
    "        out = ...\n",
    "        loss = ...\n",
    "        # Don't remove the next line, you will understand why later\n",
    "        self.log(\"val_loss\", loss)\n",
    "\n",
    "    def test_step(self, batch, batch_idx):\n",
    "        # TODO : Define your Test Step\n",
    "        X, y = ...\n",
    "        out = ...\n",
    "        loss = ...\n",
    "        self.log(\"test_loss\", loss)\n"
   ]
  },
  {
   "cell_type": "markdown",
   "metadata": {
    "id": "rNs5inW6Xt_a"
   },
   "source": [
    "## IV - Training the Model\n",
    "\n",
    "* Initialize a model with 3 stacks of Encoder with 8 heads.\n",
    "* What is the Embed Dimension ?\n",
    "* What is the Dimension of a Query, Key and Value ? \n",
    "\n"
   ]
  },
  {
   "cell_type": "code",
   "execution_count": 23,
   "metadata": {
    "id": "8HXr5PLUXupy"
   },
   "outputs": [
    {
     "ename": "TypeError",
     "evalue": "unsupported operand type(s) for //: 'ellipsis' and 'ellipsis'",
     "output_type": "error",
     "traceback": [
      "\u001b[1;31m---------------------------------------------------------------------------\u001b[0m",
      "\u001b[1;31mTypeError\u001b[0m                                 Traceback (most recent call last)",
      "Cell \u001b[1;32mIn[23], line 8\u001b[0m\n\u001b[0;32m      5\u001b[0m dim_value \u001b[38;5;241m=\u001b[39m \u001b[38;5;241m.\u001b[39m\u001b[38;5;241m.\u001b[39m\u001b[38;5;241m.\u001b[39m\n\u001b[0;32m      6\u001b[0m num_layers \u001b[38;5;241m=\u001b[39m \u001b[38;5;241m.\u001b[39m\u001b[38;5;241m.\u001b[39m\u001b[38;5;241m.\u001b[39m\n\u001b[1;32m----> 8\u001b[0m model \u001b[38;5;241m=\u001b[39m \u001b[43mStockModel\u001b[49m\u001b[43m(\u001b[49m\n\u001b[0;32m      9\u001b[0m \u001b[43m    \u001b[49m\u001b[43membed_dim\u001b[49m\u001b[38;5;241;43m=\u001b[39;49m\u001b[38;5;241;43m.\u001b[39;49m\u001b[38;5;241;43m.\u001b[39;49m\u001b[38;5;241;43m.\u001b[39;49m\u001b[43m,\u001b[49m\u001b[43m \u001b[49m\u001b[43mdim_query\u001b[49m\u001b[38;5;241;43m=\u001b[39;49m\u001b[38;5;241;43m.\u001b[39;49m\u001b[38;5;241;43m.\u001b[39;49m\u001b[38;5;241;43m.\u001b[39;49m\u001b[43m,\u001b[49m\u001b[43m \u001b[49m\u001b[43mdim_value\u001b[49m\u001b[38;5;241;43m=\u001b[39;49m\u001b[38;5;241;43m.\u001b[39;49m\u001b[38;5;241;43m.\u001b[39;49m\u001b[38;5;241;43m.\u001b[39;49m\u001b[43m,\u001b[49m\u001b[43m \u001b[49m\u001b[43mnum_layers\u001b[49m\u001b[38;5;241;43m=\u001b[39;49m\u001b[38;5;241;43m.\u001b[39;49m\u001b[38;5;241;43m.\u001b[39;49m\u001b[38;5;241;43m.\u001b[39;49m\u001b[43m,\u001b[49m\u001b[43m \u001b[49m\u001b[43mnum_heads\u001b[49m\u001b[38;5;241;43m=\u001b[39;49m\u001b[38;5;241;43m.\u001b[39;49m\u001b[38;5;241;43m.\u001b[39;49m\u001b[38;5;241;43m.\u001b[39;49m\n\u001b[0;32m     10\u001b[0m \u001b[43m)\u001b[49m\u001b[38;5;241m.\u001b[39mdouble()\n\u001b[0;32m     13\u001b[0m dm \u001b[38;5;241m=\u001b[39m \u001b[38;5;241m.\u001b[39m\u001b[38;5;241m.\u001b[39m\u001b[38;5;241m.\u001b[39m\n\u001b[0;32m     15\u001b[0m trainer \u001b[38;5;241m=\u001b[39m \u001b[38;5;241m.\u001b[39m\u001b[38;5;241m.\u001b[39m\u001b[38;5;241m.\u001b[39m\n",
      "Cell \u001b[1;32mIn[22], line 7\u001b[0m, in \u001b[0;36mStockModel.__init__\u001b[1;34m(self, embed_dim, dim_query, dim_value, num_layers, num_heads)\u001b[0m\n\u001b[0;32m      4\u001b[0m \u001b[38;5;28mself\u001b[39m\u001b[38;5;241m.\u001b[39msave_hyperparameters()\n\u001b[0;32m      5\u001b[0m \u001b[38;5;66;03m# TODO : Define your model here, be careful, your model will be an instance of the class. Watch  out for the input data.\u001b[39;00m\n\u001b[0;32m      6\u001b[0m \u001b[38;5;66;03m# TOOD : Define your Encoder Layer\u001b[39;00m\n\u001b[1;32m----> 7\u001b[0m encoder_layer \u001b[38;5;241m=\u001b[39m \u001b[43mTransformerEncoderLayer\u001b[49m\u001b[43m(\u001b[49m\n\u001b[0;32m      8\u001b[0m \u001b[43m    \u001b[49m\u001b[43membed_dim\u001b[49m\u001b[38;5;241;43m=\u001b[39;49m\u001b[43membed_dim\u001b[49m\u001b[43m,\u001b[49m\u001b[43m  \u001b[49m\u001b[38;5;66;43;03m# TODO : What should be the hidden dim ?\u001b[39;49;00m\n\u001b[0;32m      9\u001b[0m \u001b[43m    \u001b[49m\u001b[43mdim_query\u001b[49m\u001b[38;5;241;43m=\u001b[39;49m\u001b[43mdim_query\u001b[49m\u001b[43m,\u001b[49m\n\u001b[0;32m     10\u001b[0m \u001b[43m    \u001b[49m\u001b[43mdim_value\u001b[49m\u001b[38;5;241;43m=\u001b[39;49m\u001b[43mdim_value\u001b[49m\u001b[43m,\u001b[49m\n\u001b[0;32m     11\u001b[0m \u001b[43m    \u001b[49m\u001b[43mnum_heads\u001b[49m\u001b[38;5;241;43m=\u001b[39;49m\u001b[43mnum_heads\u001b[49m\u001b[43m,\u001b[49m\n\u001b[0;32m     12\u001b[0m \u001b[43m    \u001b[49m\u001b[43mdim_feedforward\u001b[49m\u001b[38;5;241;43m=\u001b[39;49m\u001b[38;5;241;43m256\u001b[39;49m\u001b[43m,\u001b[49m\n\u001b[0;32m     13\u001b[0m \u001b[43m    \u001b[49m\u001b[43mdropout\u001b[49m\u001b[38;5;241;43m=\u001b[39;49m\u001b[38;5;241;43m0.1\u001b[39;49m\u001b[43m,\u001b[49m\n\u001b[0;32m     14\u001b[0m \u001b[43m\u001b[49m\u001b[43m)\u001b[49m\n\u001b[0;32m     16\u001b[0m \u001b[38;5;66;03m# TODO : Initialize your Transformer\u001b[39;00m\n\u001b[0;32m     17\u001b[0m \u001b[38;5;28mself\u001b[39m\u001b[38;5;241m.\u001b[39mtransformer \u001b[38;5;241m=\u001b[39m TransformerEncoder(encoder_layer\u001b[38;5;241m=\u001b[39mencoder_layer, num_layers\u001b[38;5;241m=\u001b[39m\u001b[38;5;241m256\u001b[39m)\n",
      "Cell \u001b[1;32mIn[21], line 13\u001b[0m, in \u001b[0;36mTransformerEncoderLayer.__init__\u001b[1;34m(self, embed_dim, dim_query, dim_value, num_heads, dim_feedforward, dropout)\u001b[0m\n\u001b[0;32m      3\u001b[0m \u001b[38;5;28;01mdef\u001b[39;00m \u001b[38;5;21m__init__\u001b[39m(\n\u001b[0;32m      4\u001b[0m     \u001b[38;5;28mself\u001b[39m,\n\u001b[0;32m      5\u001b[0m     embed_dim,\n\u001b[1;32m   (...)\u001b[0m\n\u001b[0;32m     10\u001b[0m     dropout\u001b[38;5;241m=\u001b[39m\u001b[38;5;241m0.1\u001b[39m,\n\u001b[0;32m     11\u001b[0m ):\n\u001b[0;32m     12\u001b[0m     \u001b[38;5;28msuper\u001b[39m()\u001b[38;5;241m.\u001b[39m\u001b[38;5;21m__init__\u001b[39m()\n\u001b[1;32m---> 13\u001b[0m     \u001b[38;5;28mself\u001b[39m\u001b[38;5;241m.\u001b[39mattention \u001b[38;5;241m=\u001b[39m \u001b[43mMultiHeadAttention\u001b[49m\u001b[43m(\u001b[49m\u001b[43membed_dim\u001b[49m\u001b[43m,\u001b[49m\u001b[43m \u001b[49m\u001b[43mdim_query\u001b[49m\u001b[43m,\u001b[49m\u001b[43m \u001b[49m\u001b[43mdim_value\u001b[49m\u001b[43m,\u001b[49m\u001b[43m \u001b[49m\u001b[43mnum_heads\u001b[49m\u001b[43m)\u001b[49m\n\u001b[0;32m     15\u001b[0m     \u001b[38;5;28mself\u001b[39m\u001b[38;5;241m.\u001b[39mlinear \u001b[38;5;241m=\u001b[39m nn\u001b[38;5;241m.\u001b[39mSequential(\n\u001b[0;32m     16\u001b[0m         nn\u001b[38;5;241m.\u001b[39mLinear(embed_dim, dim_feedforward),\n\u001b[0;32m     17\u001b[0m         nn\u001b[38;5;241m.\u001b[39mReLU(),\n\u001b[1;32m   (...)\u001b[0m\n\u001b[0;32m     20\u001b[0m         nn\u001b[38;5;241m.\u001b[39mLinear(dim_feedforward, embed_dim),\n\u001b[0;32m     21\u001b[0m     )\n\u001b[0;32m     23\u001b[0m     \u001b[38;5;28mself\u001b[39m\u001b[38;5;241m.\u001b[39mnorm1 \u001b[38;5;241m=\u001b[39m nn\u001b[38;5;241m.\u001b[39mLayerNorm(embed_dim)\n",
      "Cell \u001b[1;32mIn[20], line 9\u001b[0m, in \u001b[0;36mMultiHeadAttention.__init__\u001b[1;34m(self, embed_dim, dim_query, dim_value, num_heads)\u001b[0m\n\u001b[0;32m      7\u001b[0m \u001b[38;5;66;03m# Num Heads is the number of heads\u001b[39;00m\n\u001b[0;32m      8\u001b[0m \u001b[38;5;28mself\u001b[39m\u001b[38;5;241m.\u001b[39mnum_heads \u001b[38;5;241m=\u001b[39m num_heads\n\u001b[1;32m----> 9\u001b[0m \u001b[38;5;28mself\u001b[39m\u001b[38;5;241m.\u001b[39mhead_dim \u001b[38;5;241m=\u001b[39m \u001b[43membed_dim\u001b[49m\u001b[43m \u001b[49m\u001b[38;5;241;43m/\u001b[39;49m\u001b[38;5;241;43m/\u001b[39;49m\u001b[43m \u001b[49m\u001b[43mnum_heads\u001b[49m\n\u001b[0;32m     11\u001b[0m \u001b[38;5;28mself\u001b[39m\u001b[38;5;241m.\u001b[39mw_query \u001b[38;5;241m=\u001b[39m nn\u001b[38;5;241m.\u001b[39mLinear(embed_dim, num_heads \u001b[38;5;241m*\u001b[39m dim_query)\n\u001b[0;32m     12\u001b[0m \u001b[38;5;28mself\u001b[39m\u001b[38;5;241m.\u001b[39mw_key \u001b[38;5;241m=\u001b[39m nn\u001b[38;5;241m.\u001b[39mLinear(embed_dim, num_heads \u001b[38;5;241m*\u001b[39m dim_query)\n",
      "\u001b[1;31mTypeError\u001b[0m: unsupported operand type(s) for //: 'ellipsis' and 'ellipsis'"
     ]
    }
   ],
   "source": [
    "# TODO : Initalize Model, Datamodule and Trainer\n",
    "embed_dim = ...\n",
    "num_heads = ...\n",
    "dim_query = ...\n",
    "dim_value = ...\n",
    "num_layers = ...\n",
    "\n",
    "model = StockModel(\n",
    "    embed_dim=..., dim_query=..., dim_value=..., num_layers=..., num_heads=...\n",
    ").double()\n",
    "\n",
    "\n",
    "dm = ...\n",
    "\n",
    "trainer = ...\n"
   ]
  },
  {
   "cell_type": "code",
   "execution_count": null,
   "metadata": {
    "id": "DPXG6HUEe2Qv"
   },
   "outputs": [],
   "source": [
    "# TODO : Fit the Data to the Model"
   ]
  },
  {
   "cell_type": "markdown",
   "metadata": {
    "id": "_21I4eFCTqtH"
   },
   "source": [
    "## V - Testing the model : Inference \n",
    "\n",
    "Now that the model is trained, testing it is a key to become rich."
   ]
  },
  {
   "cell_type": "markdown",
   "metadata": {
    "id": "h70XsCUhZWdr"
   },
   "source": [
    "#### a - Testings \n",
    "\n",
    "Test the model on the test dataset.\n",
    "\n",
    "* What happens ?\n",
    "* What can we do to enhance the results ?\n",
    "* Will you deploy the model ?\n",
    "* What are your predictions for next week ? Can we invest or not ?\n",
    "\n",
    "**Illustrate your arguments using charts or any kind of visual materials supporting your analysis. Any non illustrated analysis won't be taken into account**"
   ]
  },
  {
   "cell_type": "code",
   "execution_count": null,
   "metadata": {
    "id": "2LemCOfzERLZ"
   },
   "outputs": [],
   "source": []
  },
  {
   "cell_type": "markdown",
   "metadata": {
    "id": "vtli_XCEZJL_"
   },
   "source": [
    "#### b - Further Testings \n",
    "\n",
    "Test the model on a different dataset.\n",
    "* What can you say ?\n",
    "* What are your predictions for next week ? Can we invest or not ?\n",
    "\n",
    "**Illustrate your arguments using charts or any kind of visual materials supporting your analysis. Any non illustrated analysis won't be taken into account**\n"
   ]
  },
  {
   "cell_type": "code",
   "execution_count": null,
   "metadata": {
    "id": "iZtp7Aq7ZS2m"
   },
   "outputs": [],
   "source": []
  }
 ],
 "metadata": {
  "accelerator": "GPU",
  "colab": {
   "provenance": [],
   "toc_visible": true
  },
  "gpuClass": "standard",
  "kernelspec": {
   "display_name": "torch3",
   "language": "python",
   "name": "python3"
  },
  "language_info": {
   "codemirror_mode": {
    "name": "ipython",
    "version": 3
   },
   "file_extension": ".py",
   "mimetype": "text/x-python",
   "name": "python",
   "nbconvert_exporter": "python",
   "pygments_lexer": "ipython3",
   "version": "3.12.7"
  }
 },
 "nbformat": 4,
 "nbformat_minor": 0
}
